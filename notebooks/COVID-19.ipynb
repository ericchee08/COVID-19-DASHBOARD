{
 "cells": [
  {
   "cell_type": "code",
   "execution_count": 26,
   "metadata": {},
   "outputs": [],
   "source": [
    "from __future__ import print_function\n",
    "from ipywidgets import interact, interactive, fixed, interact_manual\n",
    "from IPython.core.display import display, HTML\n",
    "from IPython.display import Image\n",
    "#from plotly.offline import download_plotlyjs, init_notebook_mode, plot, iplot\n",
    "\n",
    "import pandas as pd\n",
    "import numpy as np \n",
    "import plotly.express as px \n",
    "import ipywidgets as widgets\n",
    "import seaborn as sns\n",
    "import matplotlib.pyplot as plt\n",
    "import matplotlib.style\n",
    "import chart_studio as py\n",
    "import plotly.graph_objects as go\n",
    "import datetime \n",
    "\n",
    "plt.style.use('seaborn-darkgrid')\n",
    "\n",
    "#init_notebook_mode(connected=True) "
   ]
  },
  {
   "cell_type": "markdown",
   "metadata": {},
   "source": [
    "# COVID-19 - Dashboard\n"
   ]
  },
  {
   "cell_type": "code",
   "execution_count": 27,
   "metadata": {},
   "outputs": [
    {
     "name": "stdout",
     "output_type": "stream",
     "text": [
      "Eric Chee 2020-04-23\n"
     ]
    }
   ],
   "source": [
    "today = datetime.date.today()\n",
    "print('Eric Chee ' + str(today))"
   ]
  },
  {
   "cell_type": "markdown",
   "metadata": {},
   "source": [
    "##### UPDATE 2: Markers added  to Confirmed Cases, Recovered and Death Comparison Visualization (2020-04-23)\n",
    "\n",
    "##### UPDATE 1: Added Geographic Visualization for 'Global - Population Density' for comparison with 'Global - Confirmed Deaths' -  sourced from World Bank Group - https://data.worldbank.org/indicator/sp.pop.totl (2020-04-21)"
   ]
  },
  {
   "cell_type": "code",
   "execution_count": 28,
   "metadata": {},
   "outputs": [
    {
     "data": {
      "text/html": [
       "<img src=\"https://raw.githubusercontent.com/ericchee08/COVID-19-Dashboard/master/coronavirus-banner.png\"/>"
      ],
      "text/plain": [
       "<IPython.core.display.Image object>"
      ]
     },
     "execution_count": 28,
     "metadata": {},
     "output_type": "execute_result"
    }
   ],
   "source": [
    "Image(url= \"https://raw.githubusercontent.com/ericchee08/COVID-19-Dashboard/master/coronavirus-banner.png\")"
   ]
  },
  {
   "cell_type": "markdown",
   "metadata": {},
   "source": [
    "## World Health Organisation - Overview on Coronavirus \n",
    "\n",
    "Coronavirus disease (COVID-19) is an infectious disease caused by a newly discovered coronavirus.\n",
    "\n",
    "Most people infected with the COVID-19 virus will experience mild to moderate respiratory illness and recover without requiring special treatment.  Older people, and those with underlying medical problems like cardiovascular disease, diabetes, chronic respiratory disease, and cancer are more likely to develop serious illness.\n",
    "\n",
    "The best way to prevent and slow down transmission is be well informed about the COVID-19 virus, the disease it causes and how it spreads. Protect yourself and others from infection by washing your hands or using an alcohol based rub frequently and not touching your face. \n",
    "\n",
    "The COVID-19 virus spreads primarily through droplets of saliva or discharge from the nose when an infected person coughs or sneezes, so it’s important that you also practice respiratory etiquette (for example, by coughing into a flexed elbow).\n",
    "\n",
    "At this time, there are no specific vaccines or treatments for COVID-19. However, there are many ongoing clinical trials evaluating potential treatments."
   ]
  },
  {
   "cell_type": "code",
   "execution_count": 29,
   "metadata": {},
   "outputs": [
    {
     "data": {
      "text/html": [
       "<img src=\"https://raw.githubusercontent.com/ericchee08/COVID-19-Dashboard/master/123.png\"/>"
      ],
      "text/plain": [
       "<IPython.core.display.Image object>"
      ]
     },
     "execution_count": 29,
     "metadata": {},
     "output_type": "execute_result"
    }
   ],
   "source": [
    "Image(url= \"https://raw.githubusercontent.com/ericchee08/COVID-19-Dashboard/master/123.png\")"
   ]
  },
  {
   "cell_type": "markdown",
   "metadata": {},
   "source": [
    "## To prevent infection and to slow transmission of COVID-19, do the following:\n",
    "\n",
    "- -Wash your hands regularly with soap and water, or clean them with alcohol-based hand rub.\n",
    "- -Maintain at least 1 metre distance between you and people coughing or sneezing.\n",
    "- -Avoid touching your face.\n",
    "- -Cover your mouth and nose when coughing or sneezing.\n",
    "- -Stay home if you feel unwell.\n",
    "- -Refrain from smoking and other activities that weaken the lungs.\n",
    "- -Practice physical distancing by avoiding unnecessary travel and staying away from large groups of people"
   ]
  },
  {
   "cell_type": "code",
   "execution_count": 30,
   "metadata": {},
   "outputs": [
    {
     "data": {
      "text/html": [
       "<img src=\"https://raw.githubusercontent.com/ericchee08/COVID-19-Dashboard/master/1234.png\"/>"
      ],
      "text/plain": [
       "<IPython.core.display.Image object>"
      ]
     },
     "execution_count": 30,
     "metadata": {},
     "output_type": "execute_result"
    }
   ],
   "source": [
    "Image(url=\"https://raw.githubusercontent.com/ericchee08/COVID-19-Dashboard/master/1234.png\")"
   ]
  },
  {
   "cell_type": "markdown",
   "metadata": {},
   "source": [
    "## Symptoms \n",
    "\n",
    "The COVID-19 virus affects different people in different ways.  COVID-19 is a respiratory disease and most infected people will develop mild to moderate symptoms and recover without requiring special treatment.  People who have underlying medical conditions and those over 60 years old have a higher risk of developing severe disease and death.\n",
    "\n",
    "Common symptoms include:\n",
    "\n",
    "- -fever\n",
    "- -tiredness\n",
    "- -dry cough\n",
    "- -shortness of breath\n",
    "- -aches and pains\n",
    "- -sore throat\n",
    "- -and very few people will report diarrhoea, nausea or a runny nose\n",
    "\n",
    "People with mild symptoms who are otherwise healthy should self-isolate and contact their medical provider or a COVID-19 information line for advice on testing and referral.\n",
    "\n",
    "People with fever, cough or difficulty breathing should call their doctor and seek medical attention.\n",
    "\n",
    "**All information above can be found on the World Health Orginisation Coronavirus Health Topic section.**"
   ]
  },
  {
   "cell_type": "code",
   "execution_count": 31,
   "metadata": {},
   "outputs": [
    {
     "data": {
      "text/html": [
       "<img src=\"https://raw.githubusercontent.com/ericchee08/COVID-19-Dashboard/master/12345.png\"/>"
      ],
      "text/plain": [
       "<IPython.core.display.Image object>"
      ]
     },
     "execution_count": 31,
     "metadata": {},
     "output_type": "execute_result"
    }
   ],
   "source": [
    "Image(url=\"https://raw.githubusercontent.com/ericchee08/COVID-19-Dashboard/master/12345.png\")"
   ]
  },
  {
   "cell_type": "code",
   "execution_count": 32,
   "metadata": {},
   "outputs": [],
   "source": [
    "death_df = pd.read_csv(\"https://raw.githubusercontent.com/CSSEGISandData/COVID-19/master/csse_covid_19_data/csse_covid_19_time_series/time_series_covid19_deaths_global.csv\")\n",
    "confirmed_df = pd.read_csv(\"https://raw.githubusercontent.com/CSSEGISandData/COVID-19/master/csse_covid_19_data/csse_covid_19_time_series/time_series_covid19_confirmed_global.csv\")\n",
    "recovered_df = pd.read_csv(\"https://raw.githubusercontent.com/CSSEGISandData/COVID-19/master/csse_covid_19_data/csse_covid_19_time_series/time_series_covid19_recovered_global.csv\")\n",
    "country_df = pd.read_csv(\"https://raw.githubusercontent.com/CSSEGISandData/COVID-19/web-data/data/cases_country.csv\")"
   ]
  },
  {
   "cell_type": "code",
   "execution_count": 33,
   "metadata": {},
   "outputs": [
    {
     "data": {
      "text/html": [
       "<div>\n",
       "<style scoped>\n",
       "    .dataframe tbody tr th:only-of-type {\n",
       "        vertical-align: middle;\n",
       "    }\n",
       "\n",
       "    .dataframe tbody tr th {\n",
       "        vertical-align: top;\n",
       "    }\n",
       "\n",
       "    .dataframe thead th {\n",
       "        text-align: right;\n",
       "    }\n",
       "</style>\n",
       "<table border=\"1\" class=\"dataframe\">\n",
       "  <thead>\n",
       "    <tr style=\"text-align: right;\">\n",
       "      <th></th>\n",
       "      <th>Province/State</th>\n",
       "      <th>Country/Region</th>\n",
       "      <th>Lat</th>\n",
       "      <th>Long</th>\n",
       "      <th>1/22/20</th>\n",
       "      <th>1/23/20</th>\n",
       "      <th>1/24/20</th>\n",
       "      <th>1/25/20</th>\n",
       "      <th>1/26/20</th>\n",
       "      <th>1/27/20</th>\n",
       "      <th>...</th>\n",
       "      <th>4/13/20</th>\n",
       "      <th>4/14/20</th>\n",
       "      <th>4/15/20</th>\n",
       "      <th>4/16/20</th>\n",
       "      <th>4/17/20</th>\n",
       "      <th>4/18/20</th>\n",
       "      <th>4/19/20</th>\n",
       "      <th>4/20/20</th>\n",
       "      <th>4/21/20</th>\n",
       "      <th>4/22/20</th>\n",
       "    </tr>\n",
       "  </thead>\n",
       "  <tbody>\n",
       "    <tr>\n",
       "      <td>0</td>\n",
       "      <td>NaN</td>\n",
       "      <td>Afghanistan</td>\n",
       "      <td>33.0000</td>\n",
       "      <td>65.0000</td>\n",
       "      <td>0</td>\n",
       "      <td>0</td>\n",
       "      <td>0</td>\n",
       "      <td>0</td>\n",
       "      <td>0</td>\n",
       "      <td>0</td>\n",
       "      <td>...</td>\n",
       "      <td>21</td>\n",
       "      <td>23</td>\n",
       "      <td>25</td>\n",
       "      <td>30</td>\n",
       "      <td>30</td>\n",
       "      <td>30</td>\n",
       "      <td>33</td>\n",
       "      <td>36</td>\n",
       "      <td>36</td>\n",
       "      <td>40</td>\n",
       "    </tr>\n",
       "    <tr>\n",
       "      <td>1</td>\n",
       "      <td>NaN</td>\n",
       "      <td>Albania</td>\n",
       "      <td>41.1533</td>\n",
       "      <td>20.1683</td>\n",
       "      <td>0</td>\n",
       "      <td>0</td>\n",
       "      <td>0</td>\n",
       "      <td>0</td>\n",
       "      <td>0</td>\n",
       "      <td>0</td>\n",
       "      <td>...</td>\n",
       "      <td>23</td>\n",
       "      <td>24</td>\n",
       "      <td>25</td>\n",
       "      <td>26</td>\n",
       "      <td>26</td>\n",
       "      <td>26</td>\n",
       "      <td>26</td>\n",
       "      <td>26</td>\n",
       "      <td>26</td>\n",
       "      <td>27</td>\n",
       "    </tr>\n",
       "    <tr>\n",
       "      <td>2</td>\n",
       "      <td>NaN</td>\n",
       "      <td>Algeria</td>\n",
       "      <td>28.0339</td>\n",
       "      <td>1.6596</td>\n",
       "      <td>0</td>\n",
       "      <td>0</td>\n",
       "      <td>0</td>\n",
       "      <td>0</td>\n",
       "      <td>0</td>\n",
       "      <td>0</td>\n",
       "      <td>...</td>\n",
       "      <td>313</td>\n",
       "      <td>326</td>\n",
       "      <td>336</td>\n",
       "      <td>348</td>\n",
       "      <td>364</td>\n",
       "      <td>367</td>\n",
       "      <td>375</td>\n",
       "      <td>384</td>\n",
       "      <td>392</td>\n",
       "      <td>402</td>\n",
       "    </tr>\n",
       "    <tr>\n",
       "      <td>3</td>\n",
       "      <td>NaN</td>\n",
       "      <td>Andorra</td>\n",
       "      <td>42.5063</td>\n",
       "      <td>1.5218</td>\n",
       "      <td>0</td>\n",
       "      <td>0</td>\n",
       "      <td>0</td>\n",
       "      <td>0</td>\n",
       "      <td>0</td>\n",
       "      <td>0</td>\n",
       "      <td>...</td>\n",
       "      <td>29</td>\n",
       "      <td>31</td>\n",
       "      <td>33</td>\n",
       "      <td>33</td>\n",
       "      <td>35</td>\n",
       "      <td>35</td>\n",
       "      <td>36</td>\n",
       "      <td>37</td>\n",
       "      <td>37</td>\n",
       "      <td>37</td>\n",
       "    </tr>\n",
       "    <tr>\n",
       "      <td>4</td>\n",
       "      <td>NaN</td>\n",
       "      <td>Angola</td>\n",
       "      <td>-11.2027</td>\n",
       "      <td>17.8739</td>\n",
       "      <td>0</td>\n",
       "      <td>0</td>\n",
       "      <td>0</td>\n",
       "      <td>0</td>\n",
       "      <td>0</td>\n",
       "      <td>0</td>\n",
       "      <td>...</td>\n",
       "      <td>2</td>\n",
       "      <td>2</td>\n",
       "      <td>2</td>\n",
       "      <td>2</td>\n",
       "      <td>2</td>\n",
       "      <td>2</td>\n",
       "      <td>2</td>\n",
       "      <td>2</td>\n",
       "      <td>2</td>\n",
       "      <td>2</td>\n",
       "    </tr>\n",
       "  </tbody>\n",
       "</table>\n",
       "<p>5 rows × 96 columns</p>\n",
       "</div>"
      ],
      "text/plain": [
       "  Province/State Country/Region      Lat     Long  1/22/20  1/23/20  1/24/20  \\\n",
       "0            NaN    Afghanistan  33.0000  65.0000        0        0        0   \n",
       "1            NaN        Albania  41.1533  20.1683        0        0        0   \n",
       "2            NaN        Algeria  28.0339   1.6596        0        0        0   \n",
       "3            NaN        Andorra  42.5063   1.5218        0        0        0   \n",
       "4            NaN         Angola -11.2027  17.8739        0        0        0   \n",
       "\n",
       "   1/25/20  1/26/20  1/27/20  ...  4/13/20  4/14/20  4/15/20  4/16/20  \\\n",
       "0        0        0        0  ...       21       23       25       30   \n",
       "1        0        0        0  ...       23       24       25       26   \n",
       "2        0        0        0  ...      313      326      336      348   \n",
       "3        0        0        0  ...       29       31       33       33   \n",
       "4        0        0        0  ...        2        2        2        2   \n",
       "\n",
       "   4/17/20  4/18/20  4/19/20  4/20/20  4/21/20  4/22/20  \n",
       "0       30       30       33       36       36       40  \n",
       "1       26       26       26       26       26       27  \n",
       "2      364      367      375      384      392      402  \n",
       "3       35       35       36       37       37       37  \n",
       "4        2        2        2        2        2        2  \n",
       "\n",
       "[5 rows x 96 columns]"
      ]
     },
     "execution_count": 33,
     "metadata": {},
     "output_type": "execute_result"
    }
   ],
   "source": [
    "death_df.head()"
   ]
  },
  {
   "cell_type": "code",
   "execution_count": 34,
   "metadata": {},
   "outputs": [],
   "source": [
    "# recovered_df.head()"
   ]
  },
  {
   "cell_type": "code",
   "execution_count": 35,
   "metadata": {},
   "outputs": [],
   "source": [
    "# confirmed_df.head()"
   ]
  },
  {
   "cell_type": "code",
   "execution_count": 36,
   "metadata": {},
   "outputs": [
    {
     "data": {
      "text/html": [
       "<div>\n",
       "<style scoped>\n",
       "    .dataframe tbody tr th:only-of-type {\n",
       "        vertical-align: middle;\n",
       "    }\n",
       "\n",
       "    .dataframe tbody tr th {\n",
       "        vertical-align: top;\n",
       "    }\n",
       "\n",
       "    .dataframe thead th {\n",
       "        text-align: right;\n",
       "    }\n",
       "</style>\n",
       "<table border=\"1\" class=\"dataframe\">\n",
       "  <thead>\n",
       "    <tr style=\"text-align: right;\">\n",
       "      <th></th>\n",
       "      <th>Country_Region</th>\n",
       "      <th>Last_Update</th>\n",
       "      <th>Lat</th>\n",
       "      <th>Long_</th>\n",
       "      <th>Confirmed</th>\n",
       "      <th>Deaths</th>\n",
       "      <th>Recovered</th>\n",
       "      <th>Active</th>\n",
       "      <th>Incident_Rate</th>\n",
       "      <th>People_Tested</th>\n",
       "      <th>People_Hospitalized</th>\n",
       "      <th>Mortality_Rate</th>\n",
       "      <th>UID</th>\n",
       "      <th>ISO3</th>\n",
       "    </tr>\n",
       "  </thead>\n",
       "  <tbody>\n",
       "    <tr>\n",
       "      <td>0</td>\n",
       "      <td>Australia</td>\n",
       "      <td>2020-04-23 15:31:25</td>\n",
       "      <td>-25.0000</td>\n",
       "      <td>133.0000</td>\n",
       "      <td>6547</td>\n",
       "      <td>67</td>\n",
       "      <td>4124</td>\n",
       "      <td>2356</td>\n",
       "      <td>25.715150</td>\n",
       "      <td>NaN</td>\n",
       "      <td>NaN</td>\n",
       "      <td>1.023369</td>\n",
       "      <td>36</td>\n",
       "      <td>AUS</td>\n",
       "    </tr>\n",
       "    <tr>\n",
       "      <td>1</td>\n",
       "      <td>Austria</td>\n",
       "      <td>2020-04-23 15:30:32</td>\n",
       "      <td>47.5162</td>\n",
       "      <td>14.5501</td>\n",
       "      <td>15002</td>\n",
       "      <td>522</td>\n",
       "      <td>11694</td>\n",
       "      <td>2786</td>\n",
       "      <td>166.570439</td>\n",
       "      <td>NaN</td>\n",
       "      <td>NaN</td>\n",
       "      <td>3.479536</td>\n",
       "      <td>40</td>\n",
       "      <td>AUT</td>\n",
       "    </tr>\n",
       "    <tr>\n",
       "      <td>2</td>\n",
       "      <td>Canada</td>\n",
       "      <td>2020-04-23 15:31:07</td>\n",
       "      <td>60.0010</td>\n",
       "      <td>-95.0010</td>\n",
       "      <td>41667</td>\n",
       "      <td>2081</td>\n",
       "      <td>14504</td>\n",
       "      <td>25082</td>\n",
       "      <td>110.067963</td>\n",
       "      <td>NaN</td>\n",
       "      <td>NaN</td>\n",
       "      <td>4.994360</td>\n",
       "      <td>124</td>\n",
       "      <td>CAN</td>\n",
       "    </tr>\n",
       "    <tr>\n",
       "      <td>3</td>\n",
       "      <td>China</td>\n",
       "      <td>2020-04-23 11:20:12</td>\n",
       "      <td>30.5928</td>\n",
       "      <td>114.3055</td>\n",
       "      <td>83878</td>\n",
       "      <td>4636</td>\n",
       "      <td>77936</td>\n",
       "      <td>1306</td>\n",
       "      <td>5.971340</td>\n",
       "      <td>NaN</td>\n",
       "      <td>NaN</td>\n",
       "      <td>5.527075</td>\n",
       "      <td>156</td>\n",
       "      <td>CHN</td>\n",
       "    </tr>\n",
       "    <tr>\n",
       "      <td>4</td>\n",
       "      <td>Denmark</td>\n",
       "      <td>2020-04-23 15:30:32</td>\n",
       "      <td>56.0000</td>\n",
       "      <td>10.0000</td>\n",
       "      <td>8271</td>\n",
       "      <td>394</td>\n",
       "      <td>5573</td>\n",
       "      <td>2304</td>\n",
       "      <td>142.795410</td>\n",
       "      <td>NaN</td>\n",
       "      <td>NaN</td>\n",
       "      <td>4.763632</td>\n",
       "      <td>208</td>\n",
       "      <td>DNK</td>\n",
       "    </tr>\n",
       "  </tbody>\n",
       "</table>\n",
       "</div>"
      ],
      "text/plain": [
       "  Country_Region          Last_Update      Lat     Long_  Confirmed  Deaths  \\\n",
       "0      Australia  2020-04-23 15:31:25 -25.0000  133.0000       6547      67   \n",
       "1        Austria  2020-04-23 15:30:32  47.5162   14.5501      15002     522   \n",
       "2         Canada  2020-04-23 15:31:07  60.0010  -95.0010      41667    2081   \n",
       "3          China  2020-04-23 11:20:12  30.5928  114.3055      83878    4636   \n",
       "4        Denmark  2020-04-23 15:30:32  56.0000   10.0000       8271     394   \n",
       "\n",
       "   Recovered  Active  Incident_Rate  People_Tested  People_Hospitalized  \\\n",
       "0       4124    2356      25.715150            NaN                  NaN   \n",
       "1      11694    2786     166.570439            NaN                  NaN   \n",
       "2      14504   25082     110.067963            NaN                  NaN   \n",
       "3      77936    1306       5.971340            NaN                  NaN   \n",
       "4       5573    2304     142.795410            NaN                  NaN   \n",
       "\n",
       "   Mortality_Rate  UID ISO3  \n",
       "0        1.023369   36  AUS  \n",
       "1        3.479536   40  AUT  \n",
       "2        4.994360  124  CAN  \n",
       "3        5.527075  156  CHN  \n",
       "4        4.763632  208  DNK  "
      ]
     },
     "execution_count": 36,
     "metadata": {},
     "output_type": "execute_result"
    }
   ],
   "source": [
    "country_df.head()"
   ]
  },
  {
   "cell_type": "code",
   "execution_count": 37,
   "metadata": {},
   "outputs": [],
   "source": [
    "# data cleaning - making all columns lower case \n",
    "\n",
    "country_df.columns = map(str.lower, country_df.columns)\n",
    "recovered_df.columns = map(str.lower, recovered_df.columns)\n",
    "death_df.columns = map(str.lower, death_df.columns)\n",
    "confirmed_df.columns = map(str.lower, confirmed_df.columns)"
   ]
  },
  {
   "cell_type": "code",
   "execution_count": 38,
   "metadata": {},
   "outputs": [],
   "source": [
    "# data cleaning - renaming columns \n",
    "\n",
    "confirmed_df = confirmed_df.rename(columns = {'province/state': 'state', 'country/region': 'country'})\n",
    "recovered_df = recovered_df.rename(columns = {'province/state': 'state', 'country/region': 'country'})\n",
    "death_df = death_df.rename(columns = {'province/state': 'state', 'country/region': 'country'})\n",
    "country_df = country_df.rename(columns = {'country_region': 'country','iso3': 'Country', 'mortality_rate': 'mortality rate %','last_update':'updated'})"
   ]
  },
  {
   "cell_type": "code",
   "execution_count": 39,
   "metadata": {},
   "outputs": [],
   "source": [
    "# data cleaning - sorting the countries from worst case scenarios \n",
    "sorted_country_df = country_df.sort_values('confirmed', ascending=False)"
   ]
  },
  {
   "cell_type": "code",
   "execution_count": 40,
   "metadata": {},
   "outputs": [],
   "source": [
    "# sorted_country_df.head()"
   ]
  },
  {
   "cell_type": "markdown",
   "metadata": {},
   "source": [
    "# COVID-19 Confirmed Cases, Recovered and Deaths by Country "
   ]
  },
  {
   "cell_type": "code",
   "execution_count": 41,
   "metadata": {},
   "outputs": [
    {
     "data": {
      "text/html": [
       "<style  type=\"text/css\" >\n",
       "    #T_8db0bcb4_857a_11ea_b905_8c85903d0e69row0_col2 {\n",
       "            background-color:  yellow;\n",
       "        }    #T_8db0bcb4_857a_11ea_b905_8c85903d0e69row0_col3 {\n",
       "            background-color:  red;\n",
       "        }    #T_8db0bcb4_857a_11ea_b905_8c85903d0e69row0_col4 {\n",
       "            background-color:  green;\n",
       "        }    #T_8db0bcb4_857a_11ea_b905_8c85903d0e69row1_col2 {\n",
       "            background-color:  yellow;\n",
       "        }    #T_8db0bcb4_857a_11ea_b905_8c85903d0e69row1_col3 {\n",
       "            background-color:  red;\n",
       "        }    #T_8db0bcb4_857a_11ea_b905_8c85903d0e69row1_col4 {\n",
       "            background-color:  green;\n",
       "        }    #T_8db0bcb4_857a_11ea_b905_8c85903d0e69row2_col2 {\n",
       "            background-color:  yellow;\n",
       "        }    #T_8db0bcb4_857a_11ea_b905_8c85903d0e69row2_col3 {\n",
       "            background-color:  red;\n",
       "        }    #T_8db0bcb4_857a_11ea_b905_8c85903d0e69row2_col4 {\n",
       "            background-color:  green;\n",
       "        }    #T_8db0bcb4_857a_11ea_b905_8c85903d0e69row3_col2 {\n",
       "            background-color:  yellow;\n",
       "        }    #T_8db0bcb4_857a_11ea_b905_8c85903d0e69row3_col3 {\n",
       "            background-color:  red;\n",
       "        }    #T_8db0bcb4_857a_11ea_b905_8c85903d0e69row3_col4 {\n",
       "            background-color:  green;\n",
       "        }    #T_8db0bcb4_857a_11ea_b905_8c85903d0e69row4_col2 {\n",
       "            background-color:  yellow;\n",
       "        }    #T_8db0bcb4_857a_11ea_b905_8c85903d0e69row4_col3 {\n",
       "            background-color:  red;\n",
       "        }    #T_8db0bcb4_857a_11ea_b905_8c85903d0e69row4_col4 {\n",
       "            background-color:  green;\n",
       "        }    #T_8db0bcb4_857a_11ea_b905_8c85903d0e69row5_col2 {\n",
       "            background-color:  yellow;\n",
       "        }    #T_8db0bcb4_857a_11ea_b905_8c85903d0e69row5_col3 {\n",
       "            background-color:  red;\n",
       "        }    #T_8db0bcb4_857a_11ea_b905_8c85903d0e69row5_col4 {\n",
       "            background-color:  green;\n",
       "        }    #T_8db0bcb4_857a_11ea_b905_8c85903d0e69row6_col2 {\n",
       "            background-color:  yellow;\n",
       "        }    #T_8db0bcb4_857a_11ea_b905_8c85903d0e69row6_col3 {\n",
       "            background-color:  red;\n",
       "        }    #T_8db0bcb4_857a_11ea_b905_8c85903d0e69row6_col4 {\n",
       "            background-color:  green;\n",
       "        }    #T_8db0bcb4_857a_11ea_b905_8c85903d0e69row7_col2 {\n",
       "            background-color:  yellow;\n",
       "        }    #T_8db0bcb4_857a_11ea_b905_8c85903d0e69row7_col3 {\n",
       "            background-color:  red;\n",
       "        }    #T_8db0bcb4_857a_11ea_b905_8c85903d0e69row7_col4 {\n",
       "            background-color:  green;\n",
       "        }    #T_8db0bcb4_857a_11ea_b905_8c85903d0e69row8_col2 {\n",
       "            background-color:  yellow;\n",
       "        }    #T_8db0bcb4_857a_11ea_b905_8c85903d0e69row8_col3 {\n",
       "            background-color:  red;\n",
       "        }    #T_8db0bcb4_857a_11ea_b905_8c85903d0e69row8_col4 {\n",
       "            background-color:  green;\n",
       "        }    #T_8db0bcb4_857a_11ea_b905_8c85903d0e69row9_col2 {\n",
       "            background-color:  yellow;\n",
       "        }    #T_8db0bcb4_857a_11ea_b905_8c85903d0e69row9_col3 {\n",
       "            background-color:  red;\n",
       "        }    #T_8db0bcb4_857a_11ea_b905_8c85903d0e69row9_col4 {\n",
       "            background-color:  green;\n",
       "        }    #T_8db0bcb4_857a_11ea_b905_8c85903d0e69row10_col2 {\n",
       "            background-color:  yellow;\n",
       "        }    #T_8db0bcb4_857a_11ea_b905_8c85903d0e69row10_col3 {\n",
       "            background-color:  red;\n",
       "        }    #T_8db0bcb4_857a_11ea_b905_8c85903d0e69row10_col4 {\n",
       "            background-color:  green;\n",
       "        }    #T_8db0bcb4_857a_11ea_b905_8c85903d0e69row11_col2 {\n",
       "            background-color:  yellow;\n",
       "        }    #T_8db0bcb4_857a_11ea_b905_8c85903d0e69row11_col3 {\n",
       "            background-color:  red;\n",
       "        }    #T_8db0bcb4_857a_11ea_b905_8c85903d0e69row11_col4 {\n",
       "            background-color:  green;\n",
       "        }    #T_8db0bcb4_857a_11ea_b905_8c85903d0e69row12_col2 {\n",
       "            background-color:  yellow;\n",
       "        }    #T_8db0bcb4_857a_11ea_b905_8c85903d0e69row12_col3 {\n",
       "            background-color:  red;\n",
       "        }    #T_8db0bcb4_857a_11ea_b905_8c85903d0e69row12_col4 {\n",
       "            background-color:  green;\n",
       "        }    #T_8db0bcb4_857a_11ea_b905_8c85903d0e69row13_col2 {\n",
       "            background-color:  yellow;\n",
       "        }    #T_8db0bcb4_857a_11ea_b905_8c85903d0e69row13_col3 {\n",
       "            background-color:  red;\n",
       "        }    #T_8db0bcb4_857a_11ea_b905_8c85903d0e69row13_col4 {\n",
       "            background-color:  green;\n",
       "        }    #T_8db0bcb4_857a_11ea_b905_8c85903d0e69row14_col2 {\n",
       "            background-color:  yellow;\n",
       "        }    #T_8db0bcb4_857a_11ea_b905_8c85903d0e69row14_col3 {\n",
       "            background-color:  red;\n",
       "        }    #T_8db0bcb4_857a_11ea_b905_8c85903d0e69row14_col4 {\n",
       "            background-color:  green;\n",
       "        }    #T_8db0bcb4_857a_11ea_b905_8c85903d0e69row15_col2 {\n",
       "            background-color:  yellow;\n",
       "        }    #T_8db0bcb4_857a_11ea_b905_8c85903d0e69row15_col3 {\n",
       "            background-color:  red;\n",
       "        }    #T_8db0bcb4_857a_11ea_b905_8c85903d0e69row15_col4 {\n",
       "            background-color:  green;\n",
       "        }    #T_8db0bcb4_857a_11ea_b905_8c85903d0e69row16_col2 {\n",
       "            background-color:  yellow;\n",
       "        }    #T_8db0bcb4_857a_11ea_b905_8c85903d0e69row16_col3 {\n",
       "            background-color:  red;\n",
       "        }    #T_8db0bcb4_857a_11ea_b905_8c85903d0e69row16_col4 {\n",
       "            background-color:  green;\n",
       "        }    #T_8db0bcb4_857a_11ea_b905_8c85903d0e69row17_col2 {\n",
       "            background-color:  yellow;\n",
       "        }    #T_8db0bcb4_857a_11ea_b905_8c85903d0e69row17_col3 {\n",
       "            background-color:  red;\n",
       "        }    #T_8db0bcb4_857a_11ea_b905_8c85903d0e69row17_col4 {\n",
       "            background-color:  green;\n",
       "        }    #T_8db0bcb4_857a_11ea_b905_8c85903d0e69row18_col2 {\n",
       "            background-color:  yellow;\n",
       "        }    #T_8db0bcb4_857a_11ea_b905_8c85903d0e69row18_col3 {\n",
       "            background-color:  red;\n",
       "        }    #T_8db0bcb4_857a_11ea_b905_8c85903d0e69row18_col4 {\n",
       "            background-color:  green;\n",
       "        }    #T_8db0bcb4_857a_11ea_b905_8c85903d0e69row19_col2 {\n",
       "            background-color:  yellow;\n",
       "        }    #T_8db0bcb4_857a_11ea_b905_8c85903d0e69row19_col3 {\n",
       "            background-color:  red;\n",
       "        }    #T_8db0bcb4_857a_11ea_b905_8c85903d0e69row19_col4 {\n",
       "            background-color:  green;\n",
       "        }</style><table id=\"T_8db0bcb4_857a_11ea_b905_8c85903d0e69\" ><thead>    <tr>        <th class=\"blank level0\" ></th>        <th class=\"col_heading level0 col0\" >updated</th>        <th class=\"col_heading level0 col1\" >country</th>        <th class=\"col_heading level0 col2\" >confirmed</th>        <th class=\"col_heading level0 col3\" >deaths</th>        <th class=\"col_heading level0 col4\" >recovered</th>        <th class=\"col_heading level0 col5\" >active</th>        <th class=\"col_heading level0 col6\" >mortality rate %</th>    </tr></thead><tbody>\n",
       "                <tr>\n",
       "                        <th id=\"T_8db0bcb4_857a_11ea_b905_8c85903d0e69level0_row0\" class=\"row_heading level0 row0\" >17</th>\n",
       "                        <td id=\"T_8db0bcb4_857a_11ea_b905_8c85903d0e69row0_col0\" class=\"data row0 col0\" >2020-04-23 15:31:05</td>\n",
       "                        <td id=\"T_8db0bcb4_857a_11ea_b905_8c85903d0e69row0_col1\" class=\"data row0 col1\" >US</td>\n",
       "                        <td id=\"T_8db0bcb4_857a_11ea_b905_8c85903d0e69row0_col2\" class=\"data row0 col2\" >843981</td>\n",
       "                        <td id=\"T_8db0bcb4_857a_11ea_b905_8c85903d0e69row0_col3\" class=\"data row0 col3\" >46859</td>\n",
       "                        <td id=\"T_8db0bcb4_857a_11ea_b905_8c85903d0e69row0_col4\" class=\"data row0 col4\" >77064</td>\n",
       "                        <td id=\"T_8db0bcb4_857a_11ea_b905_8c85903d0e69row0_col5\" class=\"data row0 col5\" >720058</td>\n",
       "                        <td id=\"T_8db0bcb4_857a_11ea_b905_8c85903d0e69row0_col6\" class=\"data row0 col6\" >5.55214</td>\n",
       "            </tr>\n",
       "            <tr>\n",
       "                        <th id=\"T_8db0bcb4_857a_11ea_b905_8c85903d0e69level0_row1\" class=\"row_heading level0 row1\" >160</th>\n",
       "                        <td id=\"T_8db0bcb4_857a_11ea_b905_8c85903d0e69row1_col0\" class=\"data row1 col0\" >2020-04-23 15:30:32</td>\n",
       "                        <td id=\"T_8db0bcb4_857a_11ea_b905_8c85903d0e69row1_col1\" class=\"data row1 col1\" >Spain</td>\n",
       "                        <td id=\"T_8db0bcb4_857a_11ea_b905_8c85903d0e69row1_col2\" class=\"data row1 col2\" >213024</td>\n",
       "                        <td id=\"T_8db0bcb4_857a_11ea_b905_8c85903d0e69row1_col3\" class=\"data row1 col3\" >22157</td>\n",
       "                        <td id=\"T_8db0bcb4_857a_11ea_b905_8c85903d0e69row1_col4\" class=\"data row1 col4\" >89250</td>\n",
       "                        <td id=\"T_8db0bcb4_857a_11ea_b905_8c85903d0e69row1_col5\" class=\"data row1 col5\" >101617</td>\n",
       "                        <td id=\"T_8db0bcb4_857a_11ea_b905_8c85903d0e69row1_col6\" class=\"data row1 col6\" >10.4012</td>\n",
       "            </tr>\n",
       "            <tr>\n",
       "                        <th id=\"T_8db0bcb4_857a_11ea_b905_8c85903d0e69level0_row2\" class=\"row_heading level0 row2\" >10</th>\n",
       "                        <td id=\"T_8db0bcb4_857a_11ea_b905_8c85903d0e69row2_col0\" class=\"data row2 col0\" >2020-04-23 15:30:32</td>\n",
       "                        <td id=\"T_8db0bcb4_857a_11ea_b905_8c85903d0e69row2_col1\" class=\"data row2 col1\" >Italy</td>\n",
       "                        <td id=\"T_8db0bcb4_857a_11ea_b905_8c85903d0e69row2_col2\" class=\"data row2 col2\" >187327</td>\n",
       "                        <td id=\"T_8db0bcb4_857a_11ea_b905_8c85903d0e69row2_col3\" class=\"data row2 col3\" >25085</td>\n",
       "                        <td id=\"T_8db0bcb4_857a_11ea_b905_8c85903d0e69row2_col4\" class=\"data row2 col4\" >54543</td>\n",
       "                        <td id=\"T_8db0bcb4_857a_11ea_b905_8c85903d0e69row2_col5\" class=\"data row2 col5\" >107699</td>\n",
       "                        <td id=\"T_8db0bcb4_857a_11ea_b905_8c85903d0e69row2_col6\" class=\"data row2 col6\" >13.391</td>\n",
       "            </tr>\n",
       "            <tr>\n",
       "                        <th id=\"T_8db0bcb4_857a_11ea_b905_8c85903d0e69level0_row3\" class=\"row_heading level0 row3\" >6</th>\n",
       "                        <td id=\"T_8db0bcb4_857a_11ea_b905_8c85903d0e69row3_col0\" class=\"data row3 col0\" >2020-04-23 15:30:32</td>\n",
       "                        <td id=\"T_8db0bcb4_857a_11ea_b905_8c85903d0e69row3_col1\" class=\"data row3 col1\" >France</td>\n",
       "                        <td id=\"T_8db0bcb4_857a_11ea_b905_8c85903d0e69row3_col2\" class=\"data row3 col2\" >157135</td>\n",
       "                        <td id=\"T_8db0bcb4_857a_11ea_b905_8c85903d0e69row3_col3\" class=\"data row3 col3\" >21373</td>\n",
       "                        <td id=\"T_8db0bcb4_857a_11ea_b905_8c85903d0e69row3_col4\" class=\"data row3 col4\" >41331</td>\n",
       "                        <td id=\"T_8db0bcb4_857a_11ea_b905_8c85903d0e69row3_col5\" class=\"data row3 col5\" >94431</td>\n",
       "                        <td id=\"T_8db0bcb4_857a_11ea_b905_8c85903d0e69row3_col6\" class=\"data row3 col6\" >13.6017</td>\n",
       "            </tr>\n",
       "            <tr>\n",
       "                        <th id=\"T_8db0bcb4_857a_11ea_b905_8c85903d0e69level0_row4\" class=\"row_heading level0 row4\" >7</th>\n",
       "                        <td id=\"T_8db0bcb4_857a_11ea_b905_8c85903d0e69row4_col0\" class=\"data row4 col0\" >2020-04-23 15:30:32</td>\n",
       "                        <td id=\"T_8db0bcb4_857a_11ea_b905_8c85903d0e69row4_col1\" class=\"data row4 col1\" >Germany</td>\n",
       "                        <td id=\"T_8db0bcb4_857a_11ea_b905_8c85903d0e69row4_col2\" class=\"data row4 col2\" >151175</td>\n",
       "                        <td id=\"T_8db0bcb4_857a_11ea_b905_8c85903d0e69row4_col3\" class=\"data row4 col3\" >5354</td>\n",
       "                        <td id=\"T_8db0bcb4_857a_11ea_b905_8c85903d0e69row4_col4\" class=\"data row4 col4\" >103300</td>\n",
       "                        <td id=\"T_8db0bcb4_857a_11ea_b905_8c85903d0e69row4_col5\" class=\"data row4 col5\" >42521</td>\n",
       "                        <td id=\"T_8db0bcb4_857a_11ea_b905_8c85903d0e69row4_col6\" class=\"data row4 col6\" >3.54159</td>\n",
       "            </tr>\n",
       "            <tr>\n",
       "                        <th id=\"T_8db0bcb4_857a_11ea_b905_8c85903d0e69level0_row5\" class=\"row_heading level0 row5\" >16</th>\n",
       "                        <td id=\"T_8db0bcb4_857a_11ea_b905_8c85903d0e69row5_col0\" class=\"data row5 col0\" >2020-04-23 15:30:32</td>\n",
       "                        <td id=\"T_8db0bcb4_857a_11ea_b905_8c85903d0e69row5_col1\" class=\"data row5 col1\" >United Kingdom</td>\n",
       "                        <td id=\"T_8db0bcb4_857a_11ea_b905_8c85903d0e69row5_col2\" class=\"data row5 col2\" >139243</td>\n",
       "                        <td id=\"T_8db0bcb4_857a_11ea_b905_8c85903d0e69row5_col3\" class=\"data row5 col3\" >18790</td>\n",
       "                        <td id=\"T_8db0bcb4_857a_11ea_b905_8c85903d0e69row5_col4\" class=\"data row5 col4\" >701</td>\n",
       "                        <td id=\"T_8db0bcb4_857a_11ea_b905_8c85903d0e69row5_col5\" class=\"data row5 col5\" >119752</td>\n",
       "                        <td id=\"T_8db0bcb4_857a_11ea_b905_8c85903d0e69row5_col6\" class=\"data row5 col6\" >13.4944</td>\n",
       "            </tr>\n",
       "            <tr>\n",
       "                        <th id=\"T_8db0bcb4_857a_11ea_b905_8c85903d0e69level0_row6\" class=\"row_heading level0 row6\" >172</th>\n",
       "                        <td id=\"T_8db0bcb4_857a_11ea_b905_8c85903d0e69row6_col0\" class=\"data row6 col0\" >2020-04-23 15:30:32</td>\n",
       "                        <td id=\"T_8db0bcb4_857a_11ea_b905_8c85903d0e69row6_col1\" class=\"data row6 col1\" >Turkey</td>\n",
       "                        <td id=\"T_8db0bcb4_857a_11ea_b905_8c85903d0e69row6_col2\" class=\"data row6 col2\" >98674</td>\n",
       "                        <td id=\"T_8db0bcb4_857a_11ea_b905_8c85903d0e69row6_col3\" class=\"data row6 col3\" >2376</td>\n",
       "                        <td id=\"T_8db0bcb4_857a_11ea_b905_8c85903d0e69row6_col4\" class=\"data row6 col4\" >16477</td>\n",
       "                        <td id=\"T_8db0bcb4_857a_11ea_b905_8c85903d0e69row6_col5\" class=\"data row6 col5\" >79821</td>\n",
       "                        <td id=\"T_8db0bcb4_857a_11ea_b905_8c85903d0e69row6_col6\" class=\"data row6 col6\" >2.40793</td>\n",
       "            </tr>\n",
       "            <tr>\n",
       "                        <th id=\"T_8db0bcb4_857a_11ea_b905_8c85903d0e69level0_row7\" class=\"row_heading level0 row7\" >89</th>\n",
       "                        <td id=\"T_8db0bcb4_857a_11ea_b905_8c85903d0e69row7_col0\" class=\"data row7 col0\" >2020-04-23 15:30:32</td>\n",
       "                        <td id=\"T_8db0bcb4_857a_11ea_b905_8c85903d0e69row7_col1\" class=\"data row7 col1\" >Iran</td>\n",
       "                        <td id=\"T_8db0bcb4_857a_11ea_b905_8c85903d0e69row7_col2\" class=\"data row7 col2\" >87026</td>\n",
       "                        <td id=\"T_8db0bcb4_857a_11ea_b905_8c85903d0e69row7_col3\" class=\"data row7 col3\" >5481</td>\n",
       "                        <td id=\"T_8db0bcb4_857a_11ea_b905_8c85903d0e69row7_col4\" class=\"data row7 col4\" >64843</td>\n",
       "                        <td id=\"T_8db0bcb4_857a_11ea_b905_8c85903d0e69row7_col5\" class=\"data row7 col5\" >16702</td>\n",
       "                        <td id=\"T_8db0bcb4_857a_11ea_b905_8c85903d0e69row7_col6\" class=\"data row7 col6\" >6.29812</td>\n",
       "            </tr>\n",
       "            <tr>\n",
       "                        <th id=\"T_8db0bcb4_857a_11ea_b905_8c85903d0e69level0_row8\" class=\"row_heading level0 row8\" >3</th>\n",
       "                        <td id=\"T_8db0bcb4_857a_11ea_b905_8c85903d0e69row8_col0\" class=\"data row8 col0\" >2020-04-23 11:20:12</td>\n",
       "                        <td id=\"T_8db0bcb4_857a_11ea_b905_8c85903d0e69row8_col1\" class=\"data row8 col1\" >China</td>\n",
       "                        <td id=\"T_8db0bcb4_857a_11ea_b905_8c85903d0e69row8_col2\" class=\"data row8 col2\" >83878</td>\n",
       "                        <td id=\"T_8db0bcb4_857a_11ea_b905_8c85903d0e69row8_col3\" class=\"data row8 col3\" >4636</td>\n",
       "                        <td id=\"T_8db0bcb4_857a_11ea_b905_8c85903d0e69row8_col4\" class=\"data row8 col4\" >77936</td>\n",
       "                        <td id=\"T_8db0bcb4_857a_11ea_b905_8c85903d0e69row8_col5\" class=\"data row8 col5\" >1306</td>\n",
       "                        <td id=\"T_8db0bcb4_857a_11ea_b905_8c85903d0e69row8_col6\" class=\"data row8 col6\" >5.52708</td>\n",
       "            </tr>\n",
       "            <tr>\n",
       "                        <th id=\"T_8db0bcb4_857a_11ea_b905_8c85903d0e69level0_row9\" class=\"row_heading level0 row9\" >13</th>\n",
       "                        <td id=\"T_8db0bcb4_857a_11ea_b905_8c85903d0e69row9_col0\" class=\"data row9 col0\" >2020-04-23 15:30:32</td>\n",
       "                        <td id=\"T_8db0bcb4_857a_11ea_b905_8c85903d0e69row9_col1\" class=\"data row9 col1\" >Russia</td>\n",
       "                        <td id=\"T_8db0bcb4_857a_11ea_b905_8c85903d0e69row9_col2\" class=\"data row9 col2\" >62773</td>\n",
       "                        <td id=\"T_8db0bcb4_857a_11ea_b905_8c85903d0e69row9_col3\" class=\"data row9 col3\" >555</td>\n",
       "                        <td id=\"T_8db0bcb4_857a_11ea_b905_8c85903d0e69row9_col4\" class=\"data row9 col4\" >4891</td>\n",
       "                        <td id=\"T_8db0bcb4_857a_11ea_b905_8c85903d0e69row9_col5\" class=\"data row9 col5\" >57327</td>\n",
       "                        <td id=\"T_8db0bcb4_857a_11ea_b905_8c85903d0e69row9_col6\" class=\"data row9 col6\" >0.884138</td>\n",
       "            </tr>\n",
       "            <tr>\n",
       "                        <th id=\"T_8db0bcb4_857a_11ea_b905_8c85903d0e69level0_row10\" class=\"row_heading level0 row10\" >39</th>\n",
       "                        <td id=\"T_8db0bcb4_857a_11ea_b905_8c85903d0e69row10_col0\" class=\"data row10 col0\" >2020-04-23 15:30:32</td>\n",
       "                        <td id=\"T_8db0bcb4_857a_11ea_b905_8c85903d0e69row10_col1\" class=\"data row10 col1\" >Brazil</td>\n",
       "                        <td id=\"T_8db0bcb4_857a_11ea_b905_8c85903d0e69row10_col2\" class=\"data row10 col2\" >46348</td>\n",
       "                        <td id=\"T_8db0bcb4_857a_11ea_b905_8c85903d0e69row10_col3\" class=\"data row10 col3\" >2934</td>\n",
       "                        <td id=\"T_8db0bcb4_857a_11ea_b905_8c85903d0e69row10_col4\" class=\"data row10 col4\" >25318</td>\n",
       "                        <td id=\"T_8db0bcb4_857a_11ea_b905_8c85903d0e69row10_col5\" class=\"data row10 col5\" >18096</td>\n",
       "                        <td id=\"T_8db0bcb4_857a_11ea_b905_8c85903d0e69row10_col6\" class=\"data row10 col6\" >6.33037</td>\n",
       "            </tr>\n",
       "            <tr>\n",
       "                        <th id=\"T_8db0bcb4_857a_11ea_b905_8c85903d0e69level0_row11\" class=\"row_heading level0 row11\" >32</th>\n",
       "                        <td id=\"T_8db0bcb4_857a_11ea_b905_8c85903d0e69row11_col0\" class=\"data row11 col0\" >2020-04-23 15:30:32</td>\n",
       "                        <td id=\"T_8db0bcb4_857a_11ea_b905_8c85903d0e69row11_col1\" class=\"data row11 col1\" >Belgium</td>\n",
       "                        <td id=\"T_8db0bcb4_857a_11ea_b905_8c85903d0e69row11_col2\" class=\"data row11 col2\" >42797</td>\n",
       "                        <td id=\"T_8db0bcb4_857a_11ea_b905_8c85903d0e69row11_col3\" class=\"data row11 col3\" >6490</td>\n",
       "                        <td id=\"T_8db0bcb4_857a_11ea_b905_8c85903d0e69row11_col4\" class=\"data row11 col4\" >9800</td>\n",
       "                        <td id=\"T_8db0bcb4_857a_11ea_b905_8c85903d0e69row11_col5\" class=\"data row11 col5\" >26507</td>\n",
       "                        <td id=\"T_8db0bcb4_857a_11ea_b905_8c85903d0e69row11_col6\" class=\"data row11 col6\" >15.1646</td>\n",
       "            </tr>\n",
       "            <tr>\n",
       "                        <th id=\"T_8db0bcb4_857a_11ea_b905_8c85903d0e69level0_row12\" class=\"row_heading level0 row12\" >2</th>\n",
       "                        <td id=\"T_8db0bcb4_857a_11ea_b905_8c85903d0e69row12_col0\" class=\"data row12 col0\" >2020-04-23 15:31:07</td>\n",
       "                        <td id=\"T_8db0bcb4_857a_11ea_b905_8c85903d0e69row12_col1\" class=\"data row12 col1\" >Canada</td>\n",
       "                        <td id=\"T_8db0bcb4_857a_11ea_b905_8c85903d0e69row12_col2\" class=\"data row12 col2\" >41667</td>\n",
       "                        <td id=\"T_8db0bcb4_857a_11ea_b905_8c85903d0e69row12_col3\" class=\"data row12 col3\" >2081</td>\n",
       "                        <td id=\"T_8db0bcb4_857a_11ea_b905_8c85903d0e69row12_col4\" class=\"data row12 col4\" >14504</td>\n",
       "                        <td id=\"T_8db0bcb4_857a_11ea_b905_8c85903d0e69row12_col5\" class=\"data row12 col5\" >25082</td>\n",
       "                        <td id=\"T_8db0bcb4_857a_11ea_b905_8c85903d0e69row12_col6\" class=\"data row12 col6\" >4.99436</td>\n",
       "            </tr>\n",
       "            <tr>\n",
       "                        <th id=\"T_8db0bcb4_857a_11ea_b905_8c85903d0e69level0_row13\" class=\"row_heading level0 row13\" >11</th>\n",
       "                        <td id=\"T_8db0bcb4_857a_11ea_b905_8c85903d0e69row13_col0\" class=\"data row13 col0\" >2020-04-23 15:30:32</td>\n",
       "                        <td id=\"T_8db0bcb4_857a_11ea_b905_8c85903d0e69row13_col1\" class=\"data row13 col1\" >Netherlands</td>\n",
       "                        <td id=\"T_8db0bcb4_857a_11ea_b905_8c85903d0e69row13_col2\" class=\"data row13 col2\" >35921</td>\n",
       "                        <td id=\"T_8db0bcb4_857a_11ea_b905_8c85903d0e69row13_col3\" class=\"data row13 col3\" >4192</td>\n",
       "                        <td id=\"T_8db0bcb4_857a_11ea_b905_8c85903d0e69row13_col4\" class=\"data row13 col4\" >101</td>\n",
       "                        <td id=\"T_8db0bcb4_857a_11ea_b905_8c85903d0e69row13_col5\" class=\"data row13 col5\" >31628</td>\n",
       "                        <td id=\"T_8db0bcb4_857a_11ea_b905_8c85903d0e69row13_col6\" class=\"data row13 col6\" >11.6701</td>\n",
       "            </tr>\n",
       "            <tr>\n",
       "                        <th id=\"T_8db0bcb4_857a_11ea_b905_8c85903d0e69level0_row14\" class=\"row_heading level0 row14\" >15</th>\n",
       "                        <td id=\"T_8db0bcb4_857a_11ea_b905_8c85903d0e69row14_col0\" class=\"data row14 col0\" >2020-04-23 15:30:32</td>\n",
       "                        <td id=\"T_8db0bcb4_857a_11ea_b905_8c85903d0e69row14_col1\" class=\"data row14 col1\" >Switzerland</td>\n",
       "                        <td id=\"T_8db0bcb4_857a_11ea_b905_8c85903d0e69row14_col2\" class=\"data row14 col2\" >28496</td>\n",
       "                        <td id=\"T_8db0bcb4_857a_11ea_b905_8c85903d0e69row14_col3\" class=\"data row14 col3\" >1538</td>\n",
       "                        <td id=\"T_8db0bcb4_857a_11ea_b905_8c85903d0e69row14_col4\" class=\"data row14 col4\" >19900</td>\n",
       "                        <td id=\"T_8db0bcb4_857a_11ea_b905_8c85903d0e69row14_col5\" class=\"data row14 col5\" >7058</td>\n",
       "                        <td id=\"T_8db0bcb4_857a_11ea_b905_8c85903d0e69row14_col6\" class=\"data row14 col6\" >5.39725</td>\n",
       "            </tr>\n",
       "            <tr>\n",
       "                        <th id=\"T_8db0bcb4_857a_11ea_b905_8c85903d0e69level0_row15\" class=\"row_heading level0 row15\" >140</th>\n",
       "                        <td id=\"T_8db0bcb4_857a_11ea_b905_8c85903d0e69row15_col0\" class=\"data row15 col0\" >2020-04-23 15:30:32</td>\n",
       "                        <td id=\"T_8db0bcb4_857a_11ea_b905_8c85903d0e69row15_col1\" class=\"data row15 col1\" >Portugal</td>\n",
       "                        <td id=\"T_8db0bcb4_857a_11ea_b905_8c85903d0e69row15_col2\" class=\"data row15 col2\" >22353</td>\n",
       "                        <td id=\"T_8db0bcb4_857a_11ea_b905_8c85903d0e69row15_col3\" class=\"data row15 col3\" >820</td>\n",
       "                        <td id=\"T_8db0bcb4_857a_11ea_b905_8c85903d0e69row15_col4\" class=\"data row15 col4\" >1201</td>\n",
       "                        <td id=\"T_8db0bcb4_857a_11ea_b905_8c85903d0e69row15_col5\" class=\"data row15 col5\" >20332</td>\n",
       "                        <td id=\"T_8db0bcb4_857a_11ea_b905_8c85903d0e69row15_col6\" class=\"data row15 col6\" >3.66841</td>\n",
       "            </tr>\n",
       "            <tr>\n",
       "                        <th id=\"T_8db0bcb4_857a_11ea_b905_8c85903d0e69level0_row16\" class=\"row_heading level0 row16\" >87</th>\n",
       "                        <td id=\"T_8db0bcb4_857a_11ea_b905_8c85903d0e69row16_col0\" class=\"data row16 col0\" >2020-04-23 15:30:32</td>\n",
       "                        <td id=\"T_8db0bcb4_857a_11ea_b905_8c85903d0e69row16_col1\" class=\"data row16 col1\" >India</td>\n",
       "                        <td id=\"T_8db0bcb4_857a_11ea_b905_8c85903d0e69row16_col2\" class=\"data row16 col2\" >21797</td>\n",
       "                        <td id=\"T_8db0bcb4_857a_11ea_b905_8c85903d0e69row16_col3\" class=\"data row16 col3\" >686</td>\n",
       "                        <td id=\"T_8db0bcb4_857a_11ea_b905_8c85903d0e69row16_col4\" class=\"data row16 col4\" >4376</td>\n",
       "                        <td id=\"T_8db0bcb4_857a_11ea_b905_8c85903d0e69row16_col5\" class=\"data row16 col5\" >16735</td>\n",
       "                        <td id=\"T_8db0bcb4_857a_11ea_b905_8c85903d0e69row16_col6\" class=\"data row16 col6\" >3.14722</td>\n",
       "            </tr>\n",
       "            <tr>\n",
       "                        <th id=\"T_8db0bcb4_857a_11ea_b905_8c85903d0e69level0_row17\" class=\"row_heading level0 row17\" >137</th>\n",
       "                        <td id=\"T_8db0bcb4_857a_11ea_b905_8c85903d0e69row17_col0\" class=\"data row17 col0\" >2020-04-23 15:30:32</td>\n",
       "                        <td id=\"T_8db0bcb4_857a_11ea_b905_8c85903d0e69row17_col1\" class=\"data row17 col1\" >Peru</td>\n",
       "                        <td id=\"T_8db0bcb4_857a_11ea_b905_8c85903d0e69row17_col2\" class=\"data row17 col2\" >19250</td>\n",
       "                        <td id=\"T_8db0bcb4_857a_11ea_b905_8c85903d0e69row17_col3\" class=\"data row17 col3\" >530</td>\n",
       "                        <td id=\"T_8db0bcb4_857a_11ea_b905_8c85903d0e69row17_col4\" class=\"data row17 col4\" >7027</td>\n",
       "                        <td id=\"T_8db0bcb4_857a_11ea_b905_8c85903d0e69row17_col5\" class=\"data row17 col5\" >11693</td>\n",
       "                        <td id=\"T_8db0bcb4_857a_11ea_b905_8c85903d0e69row17_col6\" class=\"data row17 col6\" >2.75325</td>\n",
       "            </tr>\n",
       "            <tr>\n",
       "                        <th id=\"T_8db0bcb4_857a_11ea_b905_8c85903d0e69level0_row18\" class=\"row_heading level0 row18\" >14</th>\n",
       "                        <td id=\"T_8db0bcb4_857a_11ea_b905_8c85903d0e69row18_col0\" class=\"data row18 col0\" >2020-04-23 15:30:32</td>\n",
       "                        <td id=\"T_8db0bcb4_857a_11ea_b905_8c85903d0e69row18_col1\" class=\"data row18 col1\" >Sweden</td>\n",
       "                        <td id=\"T_8db0bcb4_857a_11ea_b905_8c85903d0e69row18_col2\" class=\"data row18 col2\" >16755</td>\n",
       "                        <td id=\"T_8db0bcb4_857a_11ea_b905_8c85903d0e69row18_col3\" class=\"data row18 col3\" >2021</td>\n",
       "                        <td id=\"T_8db0bcb4_857a_11ea_b905_8c85903d0e69row18_col4\" class=\"data row18 col4\" >550</td>\n",
       "                        <td id=\"T_8db0bcb4_857a_11ea_b905_8c85903d0e69row18_col5\" class=\"data row18 col5\" >14184</td>\n",
       "                        <td id=\"T_8db0bcb4_857a_11ea_b905_8c85903d0e69row18_col6\" class=\"data row18 col6\" >12.0621</td>\n",
       "            </tr>\n",
       "            <tr>\n",
       "                        <th id=\"T_8db0bcb4_857a_11ea_b905_8c85903d0e69level0_row19\" class=\"row_heading level0 row19\" >9</th>\n",
       "                        <td id=\"T_8db0bcb4_857a_11ea_b905_8c85903d0e69row19_col0\" class=\"data row19 col0\" >2020-04-23 15:30:32</td>\n",
       "                        <td id=\"T_8db0bcb4_857a_11ea_b905_8c85903d0e69row19_col1\" class=\"data row19 col1\" >Ireland</td>\n",
       "                        <td id=\"T_8db0bcb4_857a_11ea_b905_8c85903d0e69row19_col2\" class=\"data row19 col2\" >16671</td>\n",
       "                        <td id=\"T_8db0bcb4_857a_11ea_b905_8c85903d0e69row19_col3\" class=\"data row19 col3\" >769</td>\n",
       "                        <td id=\"T_8db0bcb4_857a_11ea_b905_8c85903d0e69row19_col4\" class=\"data row19 col4\" >9233</td>\n",
       "                        <td id=\"T_8db0bcb4_857a_11ea_b905_8c85903d0e69row19_col5\" class=\"data row19 col5\" >6669</td>\n",
       "                        <td id=\"T_8db0bcb4_857a_11ea_b905_8c85903d0e69row19_col6\" class=\"data row19 col6\" >4.6128</td>\n",
       "            </tr>\n",
       "    </tbody></table>"
      ],
      "text/plain": [
       "<pandas.io.formats.style.Styler at 0x1a18962290>"
      ]
     },
     "execution_count": 41,
     "metadata": {},
     "output_type": "execute_result"
    }
   ],
   "source": [
    "def highlight_col(x):\n",
    "    r = 'background-color: red'\n",
    "    y = 'background-color: yellow'\n",
    "    g = 'background-color: green'\n",
    "    temp_df = pd.DataFrame('', index=x.index, columns = x.columns)\n",
    "    temp_df.iloc[:,2] = y\n",
    "    temp_df.iloc[:,3] = r\n",
    "    temp_df.iloc[:,4] = g\n",
    "    return temp_df\n",
    "    \n",
    "sorted_country_df.head(20).style.apply(highlight_col, axis=None)\n",
    "\n",
    "sorted_country_df.head(20)[['updated','country','confirmed','deaths','recovered','active','mortality rate %']].style.apply(highlight_col, axis=None)"
   ]
  },
  {
   "cell_type": "markdown",
   "metadata": {},
   "source": [
    "# Confirmed Cases - 20 Most Impacted Countries "
   ]
  },
  {
   "cell_type": "code",
   "execution_count": 42,
   "metadata": {},
   "outputs": [
    {
     "data": {
      "image/png": "[encoded data removed]",
      "text/plain": [
       "<Figure size 720x576 with 1 Axes>"
      ]
     },
     "metadata": {},
     "output_type": "display_data"
    }
   ],
   "source": [
    "fig_dims = (10, 8)\n",
    "fig, ax = plt.subplots(figsize=fig_dims)\n",
    "sns.barplot(x = \"confirmed\", y = \"country\", \n",
    "            ax=ax, \n",
    "            data=sorted_country_df.head(20))\n",
    "plt.show()"
   ]
  },
  {
   "cell_type": "markdown",
   "metadata": {},
   "source": [
    "# Confirmed Cases - 30 Countries \n",
    "###### Adjust slider to change number of countries displayed"
   ]
  },
  {
   "cell_type": "code",
   "execution_count": 43,
   "metadata": {
    "scrolled": false
   },
   "outputs": [
    {
     "data": {
      "application/vnd.jupyter.widget-view+json": {
       "model_id": "baa92307b60447b9b55e72143fb0499c",
       "version_major": 2,
       "version_minor": 0
      },
      "text/plain": [
       "interactive(children=(IntSlider(value=10, description='n', max=30, min=1), Output()), _dom_classes=('widget-in…"
      ]
     },
     "metadata": {},
     "output_type": "display_data"
    }
   ],
   "source": [
    "def bubble_graph(n):    \n",
    "    \n",
    "    fig2 = px.scatter(sorted_country_df.head(n), \n",
    "                     x='country', \n",
    "                     y ='confirmed', \n",
    "                     size='confirmed',\n",
    "                     color='country',\n",
    "                     size_max=80,\n",
    "                     )\n",
    "\n",
    "\n",
    "    fig2.update_layout(xaxis_title=\"Countries\",\n",
    "                      yaxis_title=\"Confirmed Cases\",\n",
    "                      margin=dict(l=20, r=20, t=20, b=20))\n",
    "    return fig2\n",
    "\n",
    "interact(bubble_graph, n=widgets.IntSlider(min=1, max=30, step=1, value=10));\n"
   ]
  },
  {
   "cell_type": "markdown",
   "metadata": {},
   "source": [
    "# Confirmed Cases, Recovered and Death Comparison"
   ]
  },
  {
   "cell_type": "markdown",
   "metadata": {},
   "source": [
    "## Enter Country Name: \n",
    "##### Case sensitive e.g. United Kingdom, Spain, Italy, etc "
   ]
  },
  {
   "cell_type": "code",
   "execution_count": 44,
   "metadata": {
    "scrolled": false
   },
   "outputs": [
    {
     "data": {
      "application/vnd.jupyter.widget-view+json": {
       "model_id": "a9eff458b98049038eabda292aa26339",
       "version_major": 2,
       "version_minor": 0
      },
      "text/plain": [
       "interactive(children=(Text(value='World', description='country'), Output()), _dom_classes=('widget-interact',)…"
      ]
     },
     "metadata": {},
     "output_type": "display_data"
    }
   ],
   "source": [
    "def plot_cases_for_country(country):\n",
    "    labels = ['confirmed','deaths','recovered']\n",
    "    colors = ['black', 'red', 'green']\n",
    "\n",
    "    mode_size = [8]*3\n",
    "    line_size = [2]*3 # size of both lines\n",
    "\n",
    "    df_list = [confirmed_df, death_df, recovered_df] # data sets required confirmed and deaths \n",
    "\n",
    "    fig = go.Figure()\n",
    "\n",
    "    for i, df in enumerate(df_list): # enumerate unpacking to unpack labels, colors and df_list \n",
    "        if country == 'World' or country == 'world' or country == 'global' or country == 'Global':\n",
    "            x_data = np.array(list(df.iloc[:, 5:].columns)) # converting columns from index 5 into a numpy array list for x axis (dates)\n",
    "            y_data = np.sum(np.array(df.iloc[:,5:]),axis=0) # sum all countries from index 5 into numpy array to create y axis \n",
    "            \n",
    "        else:    \n",
    "            x_data = np.array(list(df.iloc[:, 5:].columns)) # converting columns from index 5 into a numpy array list for x axis (dates)\n",
    "            y_data = np.sum(np.array(df[df['country'] == country].iloc[:,5:]),axis = 0) # sum a spec. country total to create y axis \n",
    "            \n",
    "        fig.add_trace(go.Scatter(x=x_data, y=y_data, mode='lines+markers',\n",
    "        name=labels[i],\n",
    "        line=dict(color=colors[i], width=line_size[i]),\n",
    "        connectgaps=True,\n",
    "        text = \"Total \" + str(labels[i]) +\": \"+ str(y_data[-1])))\n",
    "        \n",
    "        fig.update_layout(\n",
    "        xaxis_title=\"Date\",\n",
    "        yaxis_title=\"Number of Cases\",\n",
    "        margin=dict(l=20, r=20, t=20, b=20))\n",
    "            \n",
    "    fig.show()\n",
    "        \n",
    "#plot_cases_for_country('world')\n",
    "interact(plot_cases_for_country, country='World');\n",
    "\n",
    "# interact(plot_cases_for_country, country=['World','US','Spain','Italy','France','Germany',\n",
    "                                            #'China','United Kingdom','Iran','Turkey','Belgium',\n",
    "                                            #'Switzerland','Netherlands','Canada','Brazil','Portugal',\n",
    "                                            #'Austria','Russia','Israel','Korea, South','Sweden']);"
   ]
  },
  {
   "cell_type": "code",
   "execution_count": 45,
   "metadata": {},
   "outputs": [],
   "source": [
    "df3 = death_df"
   ]
  },
  {
   "cell_type": "code",
   "execution_count": 46,
   "metadata": {
    "scrolled": true
   },
   "outputs": [],
   "source": [
    "US = np.sum(np.array(df3[df3['country']=='US'].iloc[:,5:]),axis = 0)\n",
    "SP = np.sum(np.array(df3[df3['country']=='Spain'].iloc[:,5:]),axis = 0)\n",
    "IT = np.sum(np.array(df3[df3['country']=='Italy'].iloc[:,5:]),axis = 0)\n",
    "FR = np.sum(np.array(df3[df3['country']=='France'].iloc[:,5:]),axis = 0)\n",
    "GE = np.sum(np.array(df3[df3['country']=='Germany'].iloc[:,5:]),axis = 0)\n",
    "CH = np.sum(np.array(df3[df3['country']=='China'].iloc[:,5:]),axis = 0)\n",
    "UK = np.sum(np.array(df3[df3['country']=='United Kingdom'].iloc[:,5:]),axis = 0)\n",
    "IR = np.sum(np.array(df3[df3['country']=='Iran'].iloc[:,5:]),axis = 0)\n",
    "TU = np.sum(np.array(df3[df3['country']=='Turkey'].iloc[:,5:]),axis = 0)\n",
    "BE = np.sum(np.array(df3[df3['country']=='Belgium'].iloc[:,5:]),axis = 0)\n",
    "SW = np.sum(np.array(df3[df3['country']=='Switzerland'].iloc[:,5:]),axis = 0)\n",
    "NE = np.sum(np.array(df3[df3['country']=='Netherlands'].iloc[:,5:]),axis = 0)\n",
    "CA = np.sum(np.array(df3[df3['country']=='Canada'].iloc[:,5:]),axis = 0)\n",
    "BR = np.sum(np.array(df3[df3['country']=='Brazil'].iloc[:,5:]),axis = 0)\n",
    "PO = np.sum(np.array(df3[df3['country']=='Portugal'].iloc[:,5:]),axis = 0)\n",
    "AU = np.sum(np.array(df3[df3['country']=='Austria'].iloc[:,5:]),axis = 0)\n",
    "RU = np.sum(np.array(df3[df3['country']=='Russia'].iloc[:,5:]),axis = 0)\n",
    "IS = np.sum(np.array(df3[df3['country']=='Israel'].iloc[:,5:]),axis = 0)\n",
    "KO = np.sum(np.array(df3[df3['country']=='Korea, South'].iloc[:,5:]),axis = 0)\n",
    "SW = np.sum(np.array(df3[df3['country']=='Sweden'].iloc[:,5:]),axis = 0)"
   ]
  },
  {
   "cell_type": "code",
   "execution_count": 47,
   "metadata": {
    "scrolled": false
   },
   "outputs": [],
   "source": [
    "arr = [US, SP, IT, FR, GE, CH, UK, IR, TU, BE, SW, NE, CA, BR, PO ,AU, RU, IS, KO, SW]"
   ]
  },
  {
   "cell_type": "markdown",
   "metadata": {},
   "source": [
    "# Confirmed Deaths - 20 Most Impacted Countries \n",
    "###### Adjust slider to change number of countries displayed"
   ]
  },
  {
   "cell_type": "code",
   "execution_count": 48,
   "metadata": {},
   "outputs": [
    {
     "data": {
      "application/vnd.jupyter.widget-view+json": {
       "model_id": "44b4bf02fc2a4cfab8690c87f237b405",
       "version_major": 2,
       "version_minor": 0
      },
      "text/plain": [
       "interactive(children=(IntSlider(value=20, description='n', max=20, min=1), Output()), _dom_classes=('widget-in…"
      ]
     },
     "metadata": {},
     "output_type": "display_data"
    }
   ],
   "source": [
    "def global_graph(n):\n",
    "    \n",
    "    labels = ['US','Spain','Italy','France','Germany',\n",
    "            'China','United Kingdom','Iran','Turkey','Belgium',\n",
    "            'Switzerland','Netherlands','Canada','Brazil','Portugal',\n",
    "            'Austria','Russia','Israel','Korea, South','Sweden'];\n",
    "    colors = ['red','orange','green','blue','brown','yellow','purple',\n",
    "              'maroon','magenta','grey','black','olivedrab','yellowgreen','plum',\n",
    "              'crimson','orchid','moccasin','aqua','gold','khaki']\n",
    "\n",
    "    mode_size = [8]*20\n",
    "    line_size = [2]*20\n",
    "\n",
    "    x_data = np.array((list(df3.iloc[:, 5:].columns),)*n)\n",
    "\n",
    "    y_data = arr\n",
    "\n",
    "    fig3 = go.Figure()\n",
    "\n",
    "    for i in range(0, n):\n",
    "        fig3.add_trace(go.Scatter(x=x_data[i], y=y_data[i], mode='lines',\n",
    "            name=labels[i],\n",
    "            line=dict(color=colors[i], width=line_size[i]),\n",
    "            connectgaps=True))\n",
    "\n",
    "    fig3.update_layout(\n",
    "            xaxis_title=\"Date\",\n",
    "            yaxis_title=\"Number of Cases\",\n",
    "            margin=dict(l=20, r=20, t=20, b=20))\n",
    "    fig3.show()\n",
    "\n",
    "interact(global_graph, n=widgets.IntSlider(min=1, max=20, step=1, value=20));"
   ]
  },
  {
   "cell_type": "markdown",
   "metadata": {},
   "source": [
    "# Global - Confirmed Deaths "
   ]
  },
  {
   "cell_type": "code",
   "execution_count": 49,
   "metadata": {},
   "outputs": [
    {
     "data": {
      "application/vnd.plotly.v1+json": {
       "config": {
        "plotlyServerURL": "https://plot.ly"
       },
       "data": [
        {
         "geo": "geo",
         "hovertemplate": "<b>%{hovertext}</b><br><br>deaths=%{marker.color}<br>Country=%{location}<extra></extra>",
         "hovertext": [
          "US",
          "Spain",
          "Italy",
          "France",
          "Germany",
          "United Kingdom",
          "Turkey",
          "Iran",
          "China",
          "Russia",
          "Brazil",
          "Belgium",
          "Canada",
          "Netherlands",
          "Switzerland",
          "Portugal",
          "India",
          "Peru",
          "Sweden",
          "Ireland",
          "Austria",
          "Israel",
          "Saudi Arabia",
          "Japan",
          "Chile",
          "Singapore",
          "Ecuador",
          "Pakistan",
          "Korea, South",
          "Mexico",
          "Poland",
          "Romania",
          "United Arab Emirates",
          "Denmark",
          "Belarus",
          "Indonesia",
          "Qatar",
          "Norway",
          "Ukraine",
          "Czechia",
          "Philippines",
          "Serbia",
          "Australia",
          "Malaysia",
          "Dominican Republic",
          "Panama",
          "Colombia",
          "Finland",
          "Bangladesh",
          "Egypt",
          "Luxembourg",
          "South Africa",
          "Morocco",
          "Argentina",
          "Moldova",
          "Algeria",
          "Thailand",
          "Greece",
          "Kuwait",
          "Hungary",
          "Kazakhstan",
          "Bahrain",
          "Croatia",
          "Iceland",
          "Uzbekistan",
          "Oman",
          "Iraq",
          "Estonia",
          "Azerbaijan",
          "Armenia",
          "New Zealand",
          "Bosnia and Herzegovina",
          "Lithuania",
          "Slovenia",
          "Slovakia",
          "North Macedonia",
          "Afghanistan",
          "Cuba",
          "Cameroon",
          "Ghana",
          "Bulgaria",
          "Djibouti",
          "Cote d'Ivoire",
          "Tunisia",
          "Nigeria",
          "Cyprus",
          "Latvia",
          "Guinea",
          "Andorra",
          "Diamond Princess",
          "Lebanon",
          "Costa Rica",
          "Bolivia",
          "Albania",
          "Niger",
          "Kyrgyzstan",
          "Burkina Faso",
          "Uruguay",
          "Honduras",
          "Kosovo",
          "San Marino",
          "West Bank and Gaza",
          "Senegal",
          "Malta",
          "Jordan",
          "Taiwan*",
          "Georgia",
          "Congo (Kinshasa)",
          "Guatemala",
          "Sri Lanka",
          "Mauritius",
          "Kenya",
          "Montenegro",
          "Venezuela",
          "Mali",
          "Somalia",
          "Tanzania",
          "Vietnam",
          "Jamaica",
          "El Salvador",
          "Paraguay",
          "Congo (Brazzaville)",
          "Gabon",
          "Sudan",
          "Rwanda",
          "Brunei",
          "Burma",
          "Cambodia",
          "Madagascar",
          "Ethiopia",
          "Trinidad and Tobago",
          "Liberia",
          "Monaco",
          "Maldives",
          "Togo",
          "Equatorial Guinea",
          "Cabo Verde",
          "Liechtenstein",
          "Barbados",
          "Zambia",
          "Bahamas",
          "Guyana",
          "Uganda",
          "Haiti",
          "Sierra Leone",
          "Libya",
          "Benin",
          "Guinea-Bissau",
          "Nepal",
          "Syria",
          "Mozambique",
          "Eritrea",
          "Mongolia",
          "Malawi",
          "Chad",
          "Eswatini",
          "Zimbabwe",
          "Angola",
          "Antigua and Barbuda",
          "Timor-Leste",
          "Botswana",
          "Laos",
          "Belize",
          "Fiji",
          "Dominica",
          "Namibia",
          "Saint Kitts and Nevis",
          "Grenada",
          "Saint Lucia",
          "Central African Republic",
          "Saint Vincent and the Grenadines",
          "Seychelles",
          "Burundi",
          "Suriname",
          "Gambia",
          "Nicaragua",
          "Holy See",
          "MS Zaandam",
          "Papua New Guinea",
          "Bhutan",
          "Mauritania",
          "Western Sahara",
          "South Sudan",
          "Sao Tome and Principe",
          "Yemen"
         ],
         "legendgroup": "",
         "locations": [
          "USA",
          "ESP",
          "ITA",
          "FRA",
          "DEU",
          "GBR",
          "TUR",
          "IRN",
          "CHN",
          "RUS",
          "BRA",
          "BEL",
          "CAN",
          "NLD",
          "CHE",
          "PRT",
          "IND",
          "PER",
          "SWE",
          "IRL",
          "AUT",
          "ISR",
          "SAU",
          "JPN",
          "CHL",
          "SGP",
          "ECU",
          "PAK",
          "KOR",
          "MEX",
          "POL",
          "ROU",
          "ARE",
          "DNK",
          "BLR",
          "IDN",
          "QAT",
          "NOR",
          "UKR",
          "CZE",
          "PHL",
          "SRB",
          "AUS",
          "MYS",
          "DOM",
          "PAN",
          "COL",
          "FIN",
          "BGD",
          "EGY",
          "LUX",
          "ZAF",
          "MAR",
          "ARG",
          "MDA",
          "DZA",
          "THA",
          "GRC",
          "KWT",
          "HUN",
          "KAZ",
          "BHR",
          "HRV",
          "ISL",
          "UZB",
          "OMN",
          "IRQ",
          "EST",
          "AZE",
          "ARM",
          "NZL",
          "BIH",
          "LTU",
          "SVN",
          "SVK",
          "MKD",
          "AFG",
          "CUB",
          "CMR",
          "GHA",
          "BGR",
          "DJI",
          "CIV",
          "TUN",
          "NGA",
          "CYP",
          "LVA",
          "GIN",
          "AND",
          null,
          "LBN",
          "CRI",
          "BOL",
          "ALB",
          "NER",
          "KGZ",
          "BFA",
          "URY",
          "HND",
          "XKS",
          "SMR",
          "PSE",
          "SEN",
          "MLT",
          "JOR",
          "TWN",
          "GEO",
          "COD",
          "GTM",
          "LKA",
          "MUS",
          "KEN",
          "MNE",
          "VEN",
          "MLI",
          "SOM",
          "TZA",
          "VNM",
          "JAM",
          "SLV",
          "PRY",
          "COG",
          "GAB",
          "SDN",
          "RWA",
          "BRN",
          "MMR",
          "KHM",
          "MDG",
          "ETH",
          "TTO",
          "LBR",
          "MCO",
          "MDV",
          "TGO",
          "GNQ",
          "CPV",
          "LIE",
          "BRB",
          "ZMB",
          "BHS",
          "GUY",
          "UGA",
          "HTI",
          "SLE",
          "LBY",
          "BEN",
          "GNB",
          "NPL",
          "SYR",
          "MOZ",
          "ERI",
          "MNG",
          "MWI",
          "TCD",
          "SWZ",
          "ZWE",
          "AGO",
          "ATG",
          "TLS",
          "BWA",
          "LAO",
          "BLZ",
          "FJI",
          "DMA",
          "NAM",
          "KNA",
          "GRD",
          "LCA",
          "CAF",
          "VCT",
          "SYC",
          "BDI",
          "SUR",
          "GMB",
          "NIC",
          "VAT",
          null,
          "PNG",
          "BTN",
          "MRT",
          "ESH",
          "SSD",
          "STP",
          "YEM"
         ],
         "marker": {
          "color": [
           46859,
           22157,
           25085,
           21373,
           5354,
           18790,
           2376,
           5481,
           4636,
           555,
           2934,
           6490,
           2081,
           4192,
           1538,
           820,
           686,
           530,
           2021,
           769,
           522,
           191,
           121,
           299,
           168,
           12,
           537,
           228,
           240,
           970,
           435,
           541,
           56,
           394,
           60,
           647,
           10,
           191,
           187,
           210,
           462,
           125,
           67,
           95,
           265,
           144,
           206,
           172,
           127,
           276,
           80,
           65,
           151,
           159,
           80,
           402,
           50,
           125,
           14,
           239,
           20,
           8,
           50,
           10,
           7,
           8,
           83,
           45,
           20,
           24,
           16,
           54,
           38,
           79,
           15,
           56,
           42,
           43,
           43,
           9,
           52,
           2,
           14,
           38,
           28,
           13,
           11,
           6,
           37,
           13,
           22,
           6,
           40,
           27,
           22,
           8,
           39,
           12,
           47,
           12,
           40,
           4,
           6,
           3,
           7,
           6,
           5,
           25,
           10,
           7,
           9,
           14,
           5,
           10,
           17,
           8,
           10,
           0,
           6,
           8,
           9,
           6,
           2,
           13,
           0,
           1,
           5,
           0,
           0,
           3,
           8,
           8,
           3,
           0,
           6,
           1,
           1,
           1,
           6,
           3,
           9,
           7,
           0,
           4,
           0,
           1,
           1,
           0,
           0,
           3,
           0,
           0,
           0,
           3,
           0,
           1,
           4,
           2,
           3,
           0,
           1,
           0,
           2,
           0,
           0,
           0,
           0,
           0,
           0,
           0,
           0,
           0,
           1,
           1,
           1,
           2,
           0,
           2,
           0,
           0,
           1,
           0,
           0,
           0,
           0
          ],
          "coloraxis": "coloraxis",
          "size": [
           46859,
           22157,
           25085,
           21373,
           5354,
           18790,
           2376,
           5481,
           4636,
           555,
           2934,
           6490,
           2081,
           4192,
           1538,
           820,
           686,
           530,
           2021,
           769,
           522,
           191,
           121,
           299,
           168,
           12,
           537,
           228,
           240,
           970,
           435,
           541,
           56,
           394,
           60,
           647,
           10,
           191,
           187,
           210,
           462,
           125,
           67,
           95,
           265,
           144,
           206,
           172,
           127,
           276,
           80,
           65,
           151,
           159,
           80,
           402,
           50,
           125,
           14,
           239,
           20,
           8,
           50,
           10,
           7,
           8,
           83,
           45,
           20,
           24,
           16,
           54,
           38,
           79,
           15,
           56,
           42,
           43,
           43,
           9,
           52,
           2,
           14,
           38,
           28,
           13,
           11,
           6,
           37,
           13,
           22,
           6,
           40,
           27,
           22,
           8,
           39,
           12,
           47,
           12,
           40,
           4,
           6,
           3,
           7,
           6,
           5,
           25,
           10,
           7,
           9,
           14,
           5,
           10,
           17,
           8,
           10,
           0,
           6,
           8,
           9,
           6,
           2,
           13,
           0,
           1,
           5,
           0,
           0,
           3,
           8,
           8,
           3,
           0,
           6,
           1,
           1,
           1,
           6,
           3,
           9,
           7,
           0,
           4,
           0,
           1,
           1,
           0,
           0,
           3,
           0,
           0,
           0,
           3,
           0,
           1,
           4,
           2,
           3,
           0,
           1,
           0,
           2,
           0,
           0,
           0,
           0,
           0,
           0,
           0,
           0,
           0,
           1,
           1,
           1,
           2,
           0,
           2,
           0,
           0,
           1,
           0,
           0,
           0,
           0
          ],
          "sizemode": "area",
          "sizeref": 13.016388888888889
         },
         "name": "",
         "showlegend": false,
         "type": "scattergeo"
        }
       ],
       "layout": {
        "coloraxis": {
         "colorbar": {
          "title": {
           "text": "deaths"
          }
         },
         "colorscale": [
          [
           0,
           "rgb(5,48,97)"
          ],
          [
           0.1,
           "rgb(33,102,172)"
          ],
          [
           0.2,
           "rgb(67,147,195)"
          ],
          [
           0.3,
           "rgb(146,197,222)"
          ],
          [
           0.4,
           "rgb(209,229,240)"
          ],
          [
           0.5,
           "rgb(247,247,247)"
          ],
          [
           0.6,
           "rgb(253,219,199)"
          ],
          [
           0.7,
           "rgb(244,165,130)"
          ],
          [
           0.8,
           "rgb(214,96,77)"
          ],
          [
           0.9,
           "rgb(178,24,43)"
          ],
          [
           1,
           "rgb(103,0,31)"
          ]
         ]
        },
        "geo": {
         "center": {},
         "domain": {
          "x": [
           0,
           1
          ],
          "y": [
           0,
           1
          ]
         },
         "projection": {
          "type": "natural earth"
         }
        },
        "legend": {
         "itemsizing": "constant",
         "tracegroupgap": 0
        },
        "margin": {
         "b": 20,
         "l": 20,
         "r": 20,
         "t": 20
        },
        "template": {
         "data": {
          "bar": [
           {
            "error_x": {
             "color": "#2a3f5f"
            },
            "error_y": {
             "color": "#2a3f5f"
            },
            "marker": {
             "line": {
              "color": "#E5ECF6",
              "width": 0.5
             }
            },
            "type": "bar"
           }
          ],
          "barpolar": [
           {
            "marker": {
             "line": {
              "color": "#E5ECF6",
              "width": 0.5
             }
            },
            "type": "barpolar"
           }
          ],
          "carpet": [
           {
            "aaxis": {
             "endlinecolor": "#2a3f5f",
             "gridcolor": "white",
             "linecolor": "white",
             "minorgridcolor": "white",
             "startlinecolor": "#2a3f5f"
            },
            "baxis": {
             "endlinecolor": "#2a3f5f",
             "gridcolor": "white",
             "linecolor": "white",
             "minorgridcolor": "white",
             "startlinecolor": "#2a3f5f"
            },
            "type": "carpet"
           }
          ],
          "choropleth": [
           {
            "colorbar": {
             "outlinewidth": 0,
             "ticks": ""
            },
            "type": "choropleth"
           }
          ],
          "contour": [
           {
            "colorbar": {
             "outlinewidth": 0,
             "ticks": ""
            },
            "colorscale": [
             [
              0,
              "#0d0887"
             ],
             [
              0.1111111111111111,
              "#46039f"
             ],
             [
              0.2222222222222222,
              "#7201a8"
             ],
             [
              0.3333333333333333,
              "#9c179e"
             ],
             [
              0.4444444444444444,
              "#bd3786"
             ],
             [
              0.5555555555555556,
              "#d8576b"
             ],
             [
              0.6666666666666666,
              "#ed7953"
             ],
             [
              0.7777777777777778,
              "#fb9f3a"
             ],
             [
              0.8888888888888888,
              "#fdca26"
             ],
             [
              1,
              "#f0f921"
             ]
            ],
            "type": "contour"
           }
          ],
          "contourcarpet": [
           {
            "colorbar": {
             "outlinewidth": 0,
             "ticks": ""
            },
            "type": "contourcarpet"
           }
          ],
          "heatmap": [
           {
            "colorbar": {
             "outlinewidth": 0,
             "ticks": ""
            },
            "colorscale": [
             [
              0,
              "#0d0887"
             ],
             [
              0.1111111111111111,
              "#46039f"
             ],
             [
              0.2222222222222222,
              "#7201a8"
             ],
             [
              0.3333333333333333,
              "#9c179e"
             ],
             [
              0.4444444444444444,
              "#bd3786"
             ],
             [
              0.5555555555555556,
              "#d8576b"
             ],
             [
              0.6666666666666666,
              "#ed7953"
             ],
             [
              0.7777777777777778,
              "#fb9f3a"
             ],
             [
              0.8888888888888888,
              "#fdca26"
             ],
             [
              1,
              "#f0f921"
             ]
            ],
            "type": "heatmap"
           }
          ],
          "heatmapgl": [
           {
            "colorbar": {
             "outlinewidth": 0,
             "ticks": ""
            },
            "colorscale": [
             [
              0,
              "#0d0887"
             ],
             [
              0.1111111111111111,
              "#46039f"
             ],
             [
              0.2222222222222222,
              "#7201a8"
             ],
             [
              0.3333333333333333,
              "#9c179e"
             ],
             [
              0.4444444444444444,
              "#bd3786"
             ],
             [
              0.5555555555555556,
              "#d8576b"
             ],
             [
              0.6666666666666666,
              "#ed7953"
             ],
             [
              0.7777777777777778,
              "#fb9f3a"
             ],
             [
              0.8888888888888888,
              "#fdca26"
             ],
             [
              1,
              "#f0f921"
             ]
            ],
            "type": "heatmapgl"
           }
          ],
          "histogram": [
           {
            "marker": {
             "colorbar": {
              "outlinewidth": 0,
              "ticks": ""
             }
            },
            "type": "histogram"
           }
          ],
          "histogram2d": [
           {
            "colorbar": {
             "outlinewidth": 0,
             "ticks": ""
            },
            "colorscale": [
             [
              0,
              "#0d0887"
             ],
             [
              0.1111111111111111,
              "#46039f"
             ],
             [
              0.2222222222222222,
              "#7201a8"
             ],
             [
              0.3333333333333333,
              "#9c179e"
             ],
             [
              0.4444444444444444,
              "#bd3786"
             ],
             [
              0.5555555555555556,
              "#d8576b"
             ],
             [
              0.6666666666666666,
              "#ed7953"
             ],
             [
              0.7777777777777778,
              "#fb9f3a"
             ],
             [
              0.8888888888888888,
              "#fdca26"
             ],
             [
              1,
              "#f0f921"
             ]
            ],
            "type": "histogram2d"
           }
          ],
          "histogram2dcontour": [
           {
            "colorbar": {
             "outlinewidth": 0,
             "ticks": ""
            },
            "colorscale": [
             [
              0,
              "#0d0887"
             ],
             [
              0.1111111111111111,
              "#46039f"
             ],
             [
              0.2222222222222222,
              "#7201a8"
             ],
             [
              0.3333333333333333,
              "#9c179e"
             ],
             [
              0.4444444444444444,
              "#bd3786"
             ],
             [
              0.5555555555555556,
              "#d8576b"
             ],
             [
              0.6666666666666666,
              "#ed7953"
             ],
             [
              0.7777777777777778,
              "#fb9f3a"
             ],
             [
              0.8888888888888888,
              "#fdca26"
             ],
             [
              1,
              "#f0f921"
             ]
            ],
            "type": "histogram2dcontour"
           }
          ],
          "mesh3d": [
           {
            "colorbar": {
             "outlinewidth": 0,
             "ticks": ""
            },
            "type": "mesh3d"
           }
          ],
          "parcoords": [
           {
            "line": {
             "colorbar": {
              "outlinewidth": 0,
              "ticks": ""
             }
            },
            "type": "parcoords"
           }
          ],
          "pie": [
           {
            "automargin": true,
            "type": "pie"
           }
          ],
          "scatter": [
           {
            "marker": {
             "colorbar": {
              "outlinewidth": 0,
              "ticks": ""
             }
            },
            "type": "scatter"
           }
          ],
          "scatter3d": [
           {
            "line": {
             "colorbar": {
              "outlinewidth": 0,
              "ticks": ""
             }
            },
            "marker": {
             "colorbar": {
              "outlinewidth": 0,
              "ticks": ""
             }
            },
            "type": "scatter3d"
           }
          ],
          "scattercarpet": [
           {
            "marker": {
             "colorbar": {
              "outlinewidth": 0,
              "ticks": ""
             }
            },
            "type": "scattercarpet"
           }
          ],
          "scattergeo": [
           {
            "marker": {
             "colorbar": {
              "outlinewidth": 0,
              "ticks": ""
             }
            },
            "type": "scattergeo"
           }
          ],
          "scattergl": [
           {
            "marker": {
             "colorbar": {
              "outlinewidth": 0,
              "ticks": ""
             }
            },
            "type": "scattergl"
           }
          ],
          "scattermapbox": [
           {
            "marker": {
             "colorbar": {
              "outlinewidth": 0,
              "ticks": ""
             }
            },
            "type": "scattermapbox"
           }
          ],
          "scatterpolar": [
           {
            "marker": {
             "colorbar": {
              "outlinewidth": 0,
              "ticks": ""
             }
            },
            "type": "scatterpolar"
           }
          ],
          "scatterpolargl": [
           {
            "marker": {
             "colorbar": {
              "outlinewidth": 0,
              "ticks": ""
             }
            },
            "type": "scatterpolargl"
           }
          ],
          "scatterternary": [
           {
            "marker": {
             "colorbar": {
              "outlinewidth": 0,
              "ticks": ""
             }
            },
            "type": "scatterternary"
           }
          ],
          "surface": [
           {
            "colorbar": {
             "outlinewidth": 0,
             "ticks": ""
            },
            "colorscale": [
             [
              0,
              "#0d0887"
             ],
             [
              0.1111111111111111,
              "#46039f"
             ],
             [
              0.2222222222222222,
              "#7201a8"
             ],
             [
              0.3333333333333333,
              "#9c179e"
             ],
             [
              0.4444444444444444,
              "#bd3786"
             ],
             [
              0.5555555555555556,
              "#d8576b"
             ],
             [
              0.6666666666666666,
              "#ed7953"
             ],
             [
              0.7777777777777778,
              "#fb9f3a"
             ],
             [
              0.8888888888888888,
              "#fdca26"
             ],
             [
              1,
              "#f0f921"
             ]
            ],
            "type": "surface"
           }
          ],
          "table": [
           {
            "cells": {
             "fill": {
              "color": "#EBF0F8"
             },
             "line": {
              "color": "white"
             }
            },
            "header": {
             "fill": {
              "color": "#C8D4E3"
             },
             "line": {
              "color": "white"
             }
            },
            "type": "table"
           }
          ]
         },
         "layout": {
          "annotationdefaults": {
           "arrowcolor": "#2a3f5f",
           "arrowhead": 0,
           "arrowwidth": 1
          },
          "coloraxis": {
           "colorbar": {
            "outlinewidth": 0,
            "ticks": ""
           }
          },
          "colorscale": {
           "diverging": [
            [
             0,
             "#8e0152"
            ],
            [
             0.1,
             "#c51b7d"
            ],
            [
             0.2,
             "#de77ae"
            ],
            [
             0.3,
             "#f1b6da"
            ],
            [
             0.4,
             "#fde0ef"
            ],
            [
             0.5,
             "#f7f7f7"
            ],
            [
             0.6,
             "#e6f5d0"
            ],
            [
             0.7,
             "#b8e186"
            ],
            [
             0.8,
             "#7fbc41"
            ],
            [
             0.9,
             "#4d9221"
            ],
            [
             1,
             "#276419"
            ]
           ],
           "sequential": [
            [
             0,
             "#0d0887"
            ],
            [
             0.1111111111111111,
             "#46039f"
            ],
            [
             0.2222222222222222,
             "#7201a8"
            ],
            [
             0.3333333333333333,
             "#9c179e"
            ],
            [
             0.4444444444444444,
             "#bd3786"
            ],
            [
             0.5555555555555556,
             "#d8576b"
            ],
            [
             0.6666666666666666,
             "#ed7953"
            ],
            [
             0.7777777777777778,
             "#fb9f3a"
            ],
            [
             0.8888888888888888,
             "#fdca26"
            ],
            [
             1,
             "#f0f921"
            ]
           ],
           "sequentialminus": [
            [
             0,
             "#0d0887"
            ],
            [
             0.1111111111111111,
             "#46039f"
            ],
            [
             0.2222222222222222,
             "#7201a8"
            ],
            [
             0.3333333333333333,
             "#9c179e"
            ],
            [
             0.4444444444444444,
             "#bd3786"
            ],
            [
             0.5555555555555556,
             "#d8576b"
            ],
            [
             0.6666666666666666,
             "#ed7953"
            ],
            [
             0.7777777777777778,
             "#fb9f3a"
            ],
            [
             0.8888888888888888,
             "#fdca26"
            ],
            [
             1,
             "#f0f921"
            ]
           ]
          },
          "colorway": [
           "#636efa",
           "#EF553B",
           "#00cc96",
           "#ab63fa",
           "#FFA15A",
           "#19d3f3",
           "#FF6692",
           "#B6E880",
           "#FF97FF",
           "#FECB52"
          ],
          "font": {
           "color": "#2a3f5f"
          },
          "geo": {
           "bgcolor": "white",
           "lakecolor": "white",
           "landcolor": "#E5ECF6",
           "showlakes": true,
           "showland": true,
           "subunitcolor": "white"
          },
          "hoverlabel": {
           "align": "left"
          },
          "hovermode": "closest",
          "mapbox": {
           "style": "light"
          },
          "paper_bgcolor": "white",
          "plot_bgcolor": "#E5ECF6",
          "polar": {
           "angularaxis": {
            "gridcolor": "white",
            "linecolor": "white",
            "ticks": ""
           },
           "bgcolor": "#E5ECF6",
           "radialaxis": {
            "gridcolor": "white",
            "linecolor": "white",
            "ticks": ""
           }
          },
          "scene": {
           "xaxis": {
            "backgroundcolor": "#E5ECF6",
            "gridcolor": "white",
            "gridwidth": 2,
            "linecolor": "white",
            "showbackground": true,
            "ticks": "",
            "zerolinecolor": "white"
           },
           "yaxis": {
            "backgroundcolor": "#E5ECF6",
            "gridcolor": "white",
            "gridwidth": 2,
            "linecolor": "white",
            "showbackground": true,
            "ticks": "",
            "zerolinecolor": "white"
           },
           "zaxis": {
            "backgroundcolor": "#E5ECF6",
            "gridcolor": "white",
            "gridwidth": 2,
            "linecolor": "white",
            "showbackground": true,
            "ticks": "",
            "zerolinecolor": "white"
           }
          },
          "shapedefaults": {
           "line": {
            "color": "#2a3f5f"
           }
          },
          "ternary": {
           "aaxis": {
            "gridcolor": "white",
            "linecolor": "white",
            "ticks": ""
           },
           "baxis": {
            "gridcolor": "white",
            "linecolor": "white",
            "ticks": ""
           },
           "bgcolor": "#E5ECF6",
           "caxis": {
            "gridcolor": "white",
            "linecolor": "white",
            "ticks": ""
           }
          },
          "title": {
           "x": 0.05
          },
          "xaxis": {
           "automargin": true,
           "gridcolor": "white",
           "linecolor": "white",
           "ticks": "",
           "title": {
            "standoff": 15
           },
           "zerolinecolor": "white",
           "zerolinewidth": 2
          },
          "yaxis": {
           "automargin": true,
           "gridcolor": "white",
           "linecolor": "white",
           "ticks": "",
           "title": {
            "standoff": 15
           },
           "zerolinecolor": "white",
           "zerolinewidth": 2
          }
         }
        }
       }
      },
      "text/html": [
       "<div>\n",
       "        \n",
       "        \n",
       "            <div id=\"d8404d29-6309-42be-a57c-501cc4c8420b\" class=\"plotly-graph-div\" style=\"height:525px; width:100%;\"></div>\n",
       "            <script type=\"text/javascript\">\n",
       "                require([\"plotly\"], function(Plotly) {\n",
       "                    window.PLOTLYENV=window.PLOTLYENV || {};\n",
       "                    \n",
       "                if (document.getElementById(\"d8404d29-6309-42be-a57c-501cc4c8420b\")) {\n",
       "                    Plotly.newPlot(\n",
       "                        'd8404d29-6309-42be-a57c-501cc4c8420b',\n",
       "                        [{\"geo\": \"geo\", \"hovertemplate\": \"<b>%{hovertext}</b><br><br>deaths=%{marker.color}<br>Country=%{location}<extra></extra>\", \"hovertext\": [\"US\", \"Spain\", \"Italy\", \"France\", \"Germany\", \"United Kingdom\", \"Turkey\", \"Iran\", \"China\", \"Russia\", \"Brazil\", \"Belgium\", \"Canada\", \"Netherlands\", \"Switzerland\", \"Portugal\", \"India\", \"Peru\", \"Sweden\", \"Ireland\", \"Austria\", \"Israel\", \"Saudi Arabia\", \"Japan\", \"Chile\", \"Singapore\", \"Ecuador\", \"Pakistan\", \"Korea, South\", \"Mexico\", \"Poland\", \"Romania\", \"United Arab Emirates\", \"Denmark\", \"Belarus\", \"Indonesia\", \"Qatar\", \"Norway\", \"Ukraine\", \"Czechia\", \"Philippines\", \"Serbia\", \"Australia\", \"Malaysia\", \"Dominican Republic\", \"Panama\", \"Colombia\", \"Finland\", \"Bangladesh\", \"Egypt\", \"Luxembourg\", \"South Africa\", \"Morocco\", \"Argentina\", \"Moldova\", \"Algeria\", \"Thailand\", \"Greece\", \"Kuwait\", \"Hungary\", \"Kazakhstan\", \"Bahrain\", \"Croatia\", \"Iceland\", \"Uzbekistan\", \"Oman\", \"Iraq\", \"Estonia\", \"Azerbaijan\", \"Armenia\", \"New Zealand\", \"Bosnia and Herzegovina\", \"Lithuania\", \"Slovenia\", \"Slovakia\", \"North Macedonia\", \"Afghanistan\", \"Cuba\", \"Cameroon\", \"Ghana\", \"Bulgaria\", \"Djibouti\", \"Cote d'Ivoire\", \"Tunisia\", \"Nigeria\", \"Cyprus\", \"Latvia\", \"Guinea\", \"Andorra\", \"Diamond Princess\", \"Lebanon\", \"Costa Rica\", \"Bolivia\", \"Albania\", \"Niger\", \"Kyrgyzstan\", \"Burkina Faso\", \"Uruguay\", \"Honduras\", \"Kosovo\", \"San Marino\", \"West Bank and Gaza\", \"Senegal\", \"Malta\", \"Jordan\", \"Taiwan*\", \"Georgia\", \"Congo (Kinshasa)\", \"Guatemala\", \"Sri Lanka\", \"Mauritius\", \"Kenya\", \"Montenegro\", \"Venezuela\", \"Mali\", \"Somalia\", \"Tanzania\", \"Vietnam\", \"Jamaica\", \"El Salvador\", \"Paraguay\", \"Congo (Brazzaville)\", \"Gabon\", \"Sudan\", \"Rwanda\", \"Brunei\", \"Burma\", \"Cambodia\", \"Madagascar\", \"Ethiopia\", \"Trinidad and Tobago\", \"Liberia\", \"Monaco\", \"Maldives\", \"Togo\", \"Equatorial Guinea\", \"Cabo Verde\", \"Liechtenstein\", \"Barbados\", \"Zambia\", \"Bahamas\", \"Guyana\", \"Uganda\", \"Haiti\", \"Sierra Leone\", \"Libya\", \"Benin\", \"Guinea-Bissau\", \"Nepal\", \"Syria\", \"Mozambique\", \"Eritrea\", \"Mongolia\", \"Malawi\", \"Chad\", \"Eswatini\", \"Zimbabwe\", \"Angola\", \"Antigua and Barbuda\", \"Timor-Leste\", \"Botswana\", \"Laos\", \"Belize\", \"Fiji\", \"Dominica\", \"Namibia\", \"Saint Kitts and Nevis\", \"Grenada\", \"Saint Lucia\", \"Central African Republic\", \"Saint Vincent and the Grenadines\", \"Seychelles\", \"Burundi\", \"Suriname\", \"Gambia\", \"Nicaragua\", \"Holy See\", \"MS Zaandam\", \"Papua New Guinea\", \"Bhutan\", \"Mauritania\", \"Western Sahara\", \"South Sudan\", \"Sao Tome and Principe\", \"Yemen\"], \"legendgroup\": \"\", \"locations\": [\"USA\", \"ESP\", \"ITA\", \"FRA\", \"DEU\", \"GBR\", \"TUR\", \"IRN\", \"CHN\", \"RUS\", \"BRA\", \"BEL\", \"CAN\", \"NLD\", \"CHE\", \"PRT\", \"IND\", \"PER\", \"SWE\", \"IRL\", \"AUT\", \"ISR\", \"SAU\", \"JPN\", \"CHL\", \"SGP\", \"ECU\", \"PAK\", \"KOR\", \"MEX\", \"POL\", \"ROU\", \"ARE\", \"DNK\", \"BLR\", \"IDN\", \"QAT\", \"NOR\", \"UKR\", \"CZE\", \"PHL\", \"SRB\", \"AUS\", \"MYS\", \"DOM\", \"PAN\", \"COL\", \"FIN\", \"BGD\", \"EGY\", \"LUX\", \"ZAF\", \"MAR\", \"ARG\", \"MDA\", \"DZA\", \"THA\", \"GRC\", \"KWT\", \"HUN\", \"KAZ\", \"BHR\", \"HRV\", \"ISL\", \"UZB\", \"OMN\", \"IRQ\", \"EST\", \"AZE\", \"ARM\", \"NZL\", \"BIH\", \"LTU\", \"SVN\", \"SVK\", \"MKD\", \"AFG\", \"CUB\", \"CMR\", \"GHA\", \"BGR\", \"DJI\", \"CIV\", \"TUN\", \"NGA\", \"CYP\", \"LVA\", \"GIN\", \"AND\", null, \"LBN\", \"CRI\", \"BOL\", \"ALB\", \"NER\", \"KGZ\", \"BFA\", \"URY\", \"HND\", \"XKS\", \"SMR\", \"PSE\", \"SEN\", \"MLT\", \"JOR\", \"TWN\", \"GEO\", \"COD\", \"GTM\", \"LKA\", \"MUS\", \"KEN\", \"MNE\", \"VEN\", \"MLI\", \"SOM\", \"TZA\", \"VNM\", \"JAM\", \"SLV\", \"PRY\", \"COG\", \"GAB\", \"SDN\", \"RWA\", \"BRN\", \"MMR\", \"KHM\", \"MDG\", \"ETH\", \"TTO\", \"LBR\", \"MCO\", \"MDV\", \"TGO\", \"GNQ\", \"CPV\", \"LIE\", \"BRB\", \"ZMB\", \"BHS\", \"GUY\", \"UGA\", \"HTI\", \"SLE\", \"LBY\", \"BEN\", \"GNB\", \"NPL\", \"SYR\", \"MOZ\", \"ERI\", \"MNG\", \"MWI\", \"TCD\", \"SWZ\", \"ZWE\", \"AGO\", \"ATG\", \"TLS\", \"BWA\", \"LAO\", \"BLZ\", \"FJI\", \"DMA\", \"NAM\", \"KNA\", \"GRD\", \"LCA\", \"CAF\", \"VCT\", \"SYC\", \"BDI\", \"SUR\", \"GMB\", \"NIC\", \"VAT\", null, \"PNG\", \"BTN\", \"MRT\", \"ESH\", \"SSD\", \"STP\", \"YEM\"], \"marker\": {\"color\": [46859, 22157, 25085, 21373, 5354, 18790, 2376, 5481, 4636, 555, 2934, 6490, 2081, 4192, 1538, 820, 686, 530, 2021, 769, 522, 191, 121, 299, 168, 12, 537, 228, 240, 970, 435, 541, 56, 394, 60, 647, 10, 191, 187, 210, 462, 125, 67, 95, 265, 144, 206, 172, 127, 276, 80, 65, 151, 159, 80, 402, 50, 125, 14, 239, 20, 8, 50, 10, 7, 8, 83, 45, 20, 24, 16, 54, 38, 79, 15, 56, 42, 43, 43, 9, 52, 2, 14, 38, 28, 13, 11, 6, 37, 13, 22, 6, 40, 27, 22, 8, 39, 12, 47, 12, 40, 4, 6, 3, 7, 6, 5, 25, 10, 7, 9, 14, 5, 10, 17, 8, 10, 0, 6, 8, 9, 6, 2, 13, 0, 1, 5, 0, 0, 3, 8, 8, 3, 0, 6, 1, 1, 1, 6, 3, 9, 7, 0, 4, 0, 1, 1, 0, 0, 3, 0, 0, 0, 3, 0, 1, 4, 2, 3, 0, 1, 0, 2, 0, 0, 0, 0, 0, 0, 0, 0, 0, 1, 1, 1, 2, 0, 2, 0, 0, 1, 0, 0, 0, 0], \"coloraxis\": \"coloraxis\", \"size\": [46859, 22157, 25085, 21373, 5354, 18790, 2376, 5481, 4636, 555, 2934, 6490, 2081, 4192, 1538, 820, 686, 530, 2021, 769, 522, 191, 121, 299, 168, 12, 537, 228, 240, 970, 435, 541, 56, 394, 60, 647, 10, 191, 187, 210, 462, 125, 67, 95, 265, 144, 206, 172, 127, 276, 80, 65, 151, 159, 80, 402, 50, 125, 14, 239, 20, 8, 50, 10, 7, 8, 83, 45, 20, 24, 16, 54, 38, 79, 15, 56, 42, 43, 43, 9, 52, 2, 14, 38, 28, 13, 11, 6, 37, 13, 22, 6, 40, 27, 22, 8, 39, 12, 47, 12, 40, 4, 6, 3, 7, 6, 5, 25, 10, 7, 9, 14, 5, 10, 17, 8, 10, 0, 6, 8, 9, 6, 2, 13, 0, 1, 5, 0, 0, 3, 8, 8, 3, 0, 6, 1, 1, 1, 6, 3, 9, 7, 0, 4, 0, 1, 1, 0, 0, 3, 0, 0, 0, 3, 0, 1, 4, 2, 3, 0, 1, 0, 2, 0, 0, 0, 0, 0, 0, 0, 0, 0, 1, 1, 1, 2, 0, 2, 0, 0, 1, 0, 0, 0, 0], \"sizemode\": \"area\", \"sizeref\": 13.016388888888889}, \"name\": \"\", \"showlegend\": false, \"type\": \"scattergeo\"}],\n",
       "                        {\"coloraxis\": {\"colorbar\": {\"title\": {\"text\": \"deaths\"}}, \"colorscale\": [[0.0, \"rgb(5,48,97)\"], [0.1, \"rgb(33,102,172)\"], [0.2, \"rgb(67,147,195)\"], [0.3, \"rgb(146,197,222)\"], [0.4, \"rgb(209,229,240)\"], [0.5, \"rgb(247,247,247)\"], [0.6, \"rgb(253,219,199)\"], [0.7, \"rgb(244,165,130)\"], [0.8, \"rgb(214,96,77)\"], [0.9, \"rgb(178,24,43)\"], [1.0, \"rgb(103,0,31)\"]]}, \"geo\": {\"center\": {}, \"domain\": {\"x\": [0.0, 1.0], \"y\": [0.0, 1.0]}, \"projection\": {\"type\": \"natural earth\"}}, \"legend\": {\"itemsizing\": \"constant\", \"tracegroupgap\": 0}, \"margin\": {\"b\": 20, \"l\": 20, \"r\": 20, \"t\": 20}, \"template\": {\"data\": {\"bar\": [{\"error_x\": {\"color\": \"#2a3f5f\"}, \"error_y\": {\"color\": \"#2a3f5f\"}, \"marker\": {\"line\": {\"color\": \"#E5ECF6\", \"width\": 0.5}}, \"type\": \"bar\"}], \"barpolar\": [{\"marker\": {\"line\": {\"color\": \"#E5ECF6\", \"width\": 0.5}}, \"type\": \"barpolar\"}], \"carpet\": [{\"aaxis\": {\"endlinecolor\": \"#2a3f5f\", \"gridcolor\": \"white\", \"linecolor\": \"white\", \"minorgridcolor\": \"white\", \"startlinecolor\": \"#2a3f5f\"}, \"baxis\": {\"endlinecolor\": \"#2a3f5f\", \"gridcolor\": \"white\", \"linecolor\": \"white\", \"minorgridcolor\": \"white\", \"startlinecolor\": \"#2a3f5f\"}, \"type\": \"carpet\"}], \"choropleth\": [{\"colorbar\": {\"outlinewidth\": 0, \"ticks\": \"\"}, \"type\": \"choropleth\"}], \"contour\": [{\"colorbar\": {\"outlinewidth\": 0, \"ticks\": \"\"}, \"colorscale\": [[0.0, \"#0d0887\"], [0.1111111111111111, \"#46039f\"], [0.2222222222222222, \"#7201a8\"], [0.3333333333333333, \"#9c179e\"], [0.4444444444444444, \"#bd3786\"], [0.5555555555555556, \"#d8576b\"], [0.6666666666666666, \"#ed7953\"], [0.7777777777777778, \"#fb9f3a\"], [0.8888888888888888, \"#fdca26\"], [1.0, \"#f0f921\"]], \"type\": \"contour\"}], \"contourcarpet\": [{\"colorbar\": {\"outlinewidth\": 0, \"ticks\": \"\"}, \"type\": \"contourcarpet\"}], \"heatmap\": [{\"colorbar\": {\"outlinewidth\": 0, \"ticks\": \"\"}, \"colorscale\": [[0.0, \"#0d0887\"], [0.1111111111111111, \"#46039f\"], [0.2222222222222222, \"#7201a8\"], [0.3333333333333333, \"#9c179e\"], [0.4444444444444444, \"#bd3786\"], [0.5555555555555556, \"#d8576b\"], [0.6666666666666666, \"#ed7953\"], [0.7777777777777778, \"#fb9f3a\"], [0.8888888888888888, \"#fdca26\"], [1.0, \"#f0f921\"]], \"type\": \"heatmap\"}], \"heatmapgl\": [{\"colorbar\": {\"outlinewidth\": 0, \"ticks\": \"\"}, \"colorscale\": [[0.0, \"#0d0887\"], [0.1111111111111111, \"#46039f\"], [0.2222222222222222, \"#7201a8\"], [0.3333333333333333, \"#9c179e\"], [0.4444444444444444, \"#bd3786\"], [0.5555555555555556, \"#d8576b\"], [0.6666666666666666, \"#ed7953\"], [0.7777777777777778, \"#fb9f3a\"], [0.8888888888888888, \"#fdca26\"], [1.0, \"#f0f921\"]], \"type\": \"heatmapgl\"}], \"histogram\": [{\"marker\": {\"colorbar\": {\"outlinewidth\": 0, \"ticks\": \"\"}}, \"type\": \"histogram\"}], \"histogram2d\": [{\"colorbar\": {\"outlinewidth\": 0, \"ticks\": \"\"}, \"colorscale\": [[0.0, \"#0d0887\"], [0.1111111111111111, \"#46039f\"], [0.2222222222222222, \"#7201a8\"], [0.3333333333333333, \"#9c179e\"], [0.4444444444444444, \"#bd3786\"], [0.5555555555555556, \"#d8576b\"], [0.6666666666666666, \"#ed7953\"], [0.7777777777777778, \"#fb9f3a\"], [0.8888888888888888, \"#fdca26\"], [1.0, \"#f0f921\"]], \"type\": \"histogram2d\"}], \"histogram2dcontour\": [{\"colorbar\": {\"outlinewidth\": 0, \"ticks\": \"\"}, \"colorscale\": [[0.0, \"#0d0887\"], [0.1111111111111111, \"#46039f\"], [0.2222222222222222, \"#7201a8\"], [0.3333333333333333, \"#9c179e\"], [0.4444444444444444, \"#bd3786\"], [0.5555555555555556, \"#d8576b\"], [0.6666666666666666, \"#ed7953\"], [0.7777777777777778, \"#fb9f3a\"], [0.8888888888888888, \"#fdca26\"], [1.0, \"#f0f921\"]], \"type\": \"histogram2dcontour\"}], \"mesh3d\": [{\"colorbar\": {\"outlinewidth\": 0, \"ticks\": \"\"}, \"type\": \"mesh3d\"}], \"parcoords\": [{\"line\": {\"colorbar\": {\"outlinewidth\": 0, \"ticks\": \"\"}}, \"type\": \"parcoords\"}], \"pie\": [{\"automargin\": true, \"type\": \"pie\"}], \"scatter\": [{\"marker\": {\"colorbar\": {\"outlinewidth\": 0, \"ticks\": \"\"}}, \"type\": \"scatter\"}], \"scatter3d\": [{\"line\": {\"colorbar\": {\"outlinewidth\": 0, \"ticks\": \"\"}}, \"marker\": {\"colorbar\": {\"outlinewidth\": 0, \"ticks\": \"\"}}, \"type\": \"scatter3d\"}], \"scattercarpet\": [{\"marker\": {\"colorbar\": {\"outlinewidth\": 0, \"ticks\": \"\"}}, \"type\": \"scattercarpet\"}], \"scattergeo\": [{\"marker\": {\"colorbar\": {\"outlinewidth\": 0, \"ticks\": \"\"}}, \"type\": \"scattergeo\"}], \"scattergl\": [{\"marker\": {\"colorbar\": {\"outlinewidth\": 0, \"ticks\": \"\"}}, \"type\": \"scattergl\"}], \"scattermapbox\": [{\"marker\": {\"colorbar\": {\"outlinewidth\": 0, \"ticks\": \"\"}}, \"type\": \"scattermapbox\"}], \"scatterpolar\": [{\"marker\": {\"colorbar\": {\"outlinewidth\": 0, \"ticks\": \"\"}}, \"type\": \"scatterpolar\"}], \"scatterpolargl\": [{\"marker\": {\"colorbar\": {\"outlinewidth\": 0, \"ticks\": \"\"}}, \"type\": \"scatterpolargl\"}], \"scatterternary\": [{\"marker\": {\"colorbar\": {\"outlinewidth\": 0, \"ticks\": \"\"}}, \"type\": \"scatterternary\"}], \"surface\": [{\"colorbar\": {\"outlinewidth\": 0, \"ticks\": \"\"}, \"colorscale\": [[0.0, \"#0d0887\"], [0.1111111111111111, \"#46039f\"], [0.2222222222222222, \"#7201a8\"], [0.3333333333333333, \"#9c179e\"], [0.4444444444444444, \"#bd3786\"], [0.5555555555555556, \"#d8576b\"], [0.6666666666666666, \"#ed7953\"], [0.7777777777777778, \"#fb9f3a\"], [0.8888888888888888, \"#fdca26\"], [1.0, \"#f0f921\"]], \"type\": \"surface\"}], \"table\": [{\"cells\": {\"fill\": {\"color\": \"#EBF0F8\"}, \"line\": {\"color\": \"white\"}}, \"header\": {\"fill\": {\"color\": \"#C8D4E3\"}, \"line\": {\"color\": \"white\"}}, \"type\": \"table\"}]}, \"layout\": {\"annotationdefaults\": {\"arrowcolor\": \"#2a3f5f\", \"arrowhead\": 0, \"arrowwidth\": 1}, \"coloraxis\": {\"colorbar\": {\"outlinewidth\": 0, \"ticks\": \"\"}}, \"colorscale\": {\"diverging\": [[0, \"#8e0152\"], [0.1, \"#c51b7d\"], [0.2, \"#de77ae\"], [0.3, \"#f1b6da\"], [0.4, \"#fde0ef\"], [0.5, \"#f7f7f7\"], [0.6, \"#e6f5d0\"], [0.7, \"#b8e186\"], [0.8, \"#7fbc41\"], [0.9, \"#4d9221\"], [1, \"#276419\"]], \"sequential\": [[0.0, \"#0d0887\"], [0.1111111111111111, \"#46039f\"], [0.2222222222222222, \"#7201a8\"], [0.3333333333333333, \"#9c179e\"], [0.4444444444444444, \"#bd3786\"], [0.5555555555555556, \"#d8576b\"], [0.6666666666666666, \"#ed7953\"], [0.7777777777777778, \"#fb9f3a\"], [0.8888888888888888, \"#fdca26\"], [1.0, \"#f0f921\"]], \"sequentialminus\": [[0.0, \"#0d0887\"], [0.1111111111111111, \"#46039f\"], [0.2222222222222222, \"#7201a8\"], [0.3333333333333333, \"#9c179e\"], [0.4444444444444444, \"#bd3786\"], [0.5555555555555556, \"#d8576b\"], [0.6666666666666666, \"#ed7953\"], [0.7777777777777778, \"#fb9f3a\"], [0.8888888888888888, \"#fdca26\"], [1.0, \"#f0f921\"]]}, \"colorway\": [\"#636efa\", \"#EF553B\", \"#00cc96\", \"#ab63fa\", \"#FFA15A\", \"#19d3f3\", \"#FF6692\", \"#B6E880\", \"#FF97FF\", \"#FECB52\"], \"font\": {\"color\": \"#2a3f5f\"}, \"geo\": {\"bgcolor\": \"white\", \"lakecolor\": \"white\", \"landcolor\": \"#E5ECF6\", \"showlakes\": true, \"showland\": true, \"subunitcolor\": \"white\"}, \"hoverlabel\": {\"align\": \"left\"}, \"hovermode\": \"closest\", \"mapbox\": {\"style\": \"light\"}, \"paper_bgcolor\": \"white\", \"plot_bgcolor\": \"#E5ECF6\", \"polar\": {\"angularaxis\": {\"gridcolor\": \"white\", \"linecolor\": \"white\", \"ticks\": \"\"}, \"bgcolor\": \"#E5ECF6\", \"radialaxis\": {\"gridcolor\": \"white\", \"linecolor\": \"white\", \"ticks\": \"\"}}, \"scene\": {\"xaxis\": {\"backgroundcolor\": \"#E5ECF6\", \"gridcolor\": \"white\", \"gridwidth\": 2, \"linecolor\": \"white\", \"showbackground\": true, \"ticks\": \"\", \"zerolinecolor\": \"white\"}, \"yaxis\": {\"backgroundcolor\": \"#E5ECF6\", \"gridcolor\": \"white\", \"gridwidth\": 2, \"linecolor\": \"white\", \"showbackground\": true, \"ticks\": \"\", \"zerolinecolor\": \"white\"}, \"zaxis\": {\"backgroundcolor\": \"#E5ECF6\", \"gridcolor\": \"white\", \"gridwidth\": 2, \"linecolor\": \"white\", \"showbackground\": true, \"ticks\": \"\", \"zerolinecolor\": \"white\"}}, \"shapedefaults\": {\"line\": {\"color\": \"#2a3f5f\"}}, \"ternary\": {\"aaxis\": {\"gridcolor\": \"white\", \"linecolor\": \"white\", \"ticks\": \"\"}, \"baxis\": {\"gridcolor\": \"white\", \"linecolor\": \"white\", \"ticks\": \"\"}, \"bgcolor\": \"#E5ECF6\", \"caxis\": {\"gridcolor\": \"white\", \"linecolor\": \"white\", \"ticks\": \"\"}}, \"title\": {\"x\": 0.05}, \"xaxis\": {\"automargin\": true, \"gridcolor\": \"white\", \"linecolor\": \"white\", \"ticks\": \"\", \"title\": {\"standoff\": 15}, \"zerolinecolor\": \"white\", \"zerolinewidth\": 2}, \"yaxis\": {\"automargin\": true, \"gridcolor\": \"white\", \"linecolor\": \"white\", \"ticks\": \"\", \"title\": {\"standoff\": 15}, \"zerolinecolor\": \"white\", \"zerolinewidth\": 2}}}},\n",
       "                        {\"responsive\": true}\n",
       "                    ).then(function(){\n",
       "                            \n",
       "var gd = document.getElementById('d8404d29-6309-42be-a57c-501cc4c8420b');\n",
       "var x = new MutationObserver(function (mutations, observer) {{\n",
       "        var display = window.getComputedStyle(gd).display;\n",
       "        if (!display || display === 'none') {{\n",
       "            console.log([gd, 'removed!']);\n",
       "            Plotly.purge(gd);\n",
       "            observer.disconnect();\n",
       "        }}\n",
       "}});\n",
       "\n",
       "// Listen for the removal of the full notebook cells\n",
       "var notebookContainer = gd.closest('#notebook-container');\n",
       "if (notebookContainer) {{\n",
       "    x.observe(notebookContainer, {childList: true});\n",
       "}}\n",
       "\n",
       "// Listen for the clearing of the current output cell\n",
       "var outputEl = gd.closest('.output');\n",
       "if (outputEl) {{\n",
       "    x.observe(outputEl, {childList: true});\n",
       "}}\n",
       "\n",
       "                        })\n",
       "                };\n",
       "                });\n",
       "            </script>\n",
       "        </div>"
      ]
     },
     "metadata": {},
     "output_type": "display_data"
    }
   ],
   "source": [
    "fig = px.scatter_geo(sorted_country_df, \n",
    "                     locations=\"Country\", \n",
    "                     color=\"deaths\",\n",
    "                     hover_name=\"country\", \n",
    "                     size=\"deaths\",\n",
    "                     projection=\"natural earth\",\n",
    "                     size_max=60,\n",
    "                     color_continuous_scale='RdBu_R')\n",
    "\n",
    "fig.update_layout(\n",
    "        margin=dict(l=20, r=20, t=20, b=20))\n",
    "fig.show()"
   ]
  },
  {
   "cell_type": "markdown",
   "metadata": {},
   "source": [
    "# Global - Population Density \n",
    "#### Note: Population Density as of 2018, total of approx 7.5 Billion (Approx 300 million less than 2020)\n"
   ]
  },
  {
   "cell_type": "code",
   "execution_count": 50,
   "metadata": {},
   "outputs": [],
   "source": [
    "population_df = pd.read_csv(\"https://raw.githubusercontent.com/ericchee08/COVID-19-DASHBOARD/master/Population%202018.csv\")"
   ]
  },
  {
   "cell_type": "code",
   "execution_count": 51,
   "metadata": {},
   "outputs": [],
   "source": [
    "population_sorted = population_df.sort_values('2018',ascending=False)\n",
    "population_filtered = population_sorted.drop(population_df.index[[255,100,136,152,99,60,135,245,61,138,226,200, 236, 101,59]])"
   ]
  },
  {
   "cell_type": "code",
   "execution_count": 52,
   "metadata": {
    "scrolled": false
   },
   "outputs": [
    {
     "data": {
      "application/vnd.plotly.v1+json": {
       "config": {
        "plotlyServerURL": "https://plot.ly"
       },
       "data": [
        {
         "geo": "geo",
         "hovertemplate": "<b>%{hovertext}</b><br><br>2018=%{marker.color}<br>Country Code=%{location}<extra></extra>",
         "hovertext": [
          "China",
          "India",
          "OECD members",
          "High income",
          "Post-demographic dividend",
          "IDA only",
          "Sub-Saharan Africa",
          "Sub-Saharan Africa (IDA & IBRD countries)",
          "Sub-Saharan Africa (excluding high income)",
          "Least developed countries: UN classification",
          "Pre-demographic dividend",
          "Europe & Central Asia",
          "Heavily indebted poor countries (HIPC)",
          "Fragile and conflict affected situations",
          "Low income",
          "Latin America & Caribbean",
          "Latin America & the Caribbean (IDA & IBRD countries)",
          "Latin America & Caribbean (excluding high income)",
          "IDA blend",
          "Europe & Central Asia (IDA & IBRD countries)",
          "Middle East & North Africa",
          "European Union",
          "Arab World",
          "Europe & Central Asia (excluding high income)",
          "Middle East & North Africa (excluding high income)",
          "Middle East & North Africa (IDA & IBRD countries)",
          "North America",
          "Euro area",
          "United States",
          "Indonesia",
          "Pakistan",
          "Brazil",
          "Nigeria",
          "Bangladesh",
          "Russian Federation",
          "Japan",
          "Mexico",
          "Ethiopia",
          "Philippines",
          "Central Europe and the Baltics",
          "Egypt, Arab Rep.",
          "Vietnam",
          "Congo, Dem. Rep.",
          "Germany",
          "Turkey",
          "Iran, Islamic Rep.",
          "Thailand",
          "France",
          "United Kingdom",
          "Italy",
          "South Africa",
          "Tanzania",
          "Myanmar",
          "Korea, Rep.",
          "Kenya",
          "Colombia",
          "Spain",
          "Ukraine",
          "Argentina",
          "Uganda",
          "Algeria",
          "Sudan",
          "Small states",
          "Iraq",
          "Poland",
          "Afghanistan",
          "Canada",
          "Morocco",
          "Saudi Arabia",
          "Uzbekistan",
          "Peru",
          "Malaysia",
          "Angola",
          "Other small states",
          "Ghana",
          "Mozambique",
          "Venezuela, RB",
          "Yemen, Rep.",
          "Nepal",
          "Madagascar",
          "Korea, Dem. People’s Rep.",
          "Cameroon",
          "Cote d'Ivoire",
          "Australia",
          "Niger",
          "Sri Lanka",
          "Burkina Faso",
          "Romania",
          "Mali",
          "Chile",
          "Kazakhstan",
          "Malawi",
          "Zambia",
          "Guatemala",
          "Netherlands",
          "Ecuador",
          "Syrian Arab Republic",
          "Cambodia",
          "Senegal",
          "Chad",
          "Somalia",
          "Zimbabwe",
          "Guinea",
          "Rwanda",
          "Tunisia",
          "Benin",
          "Belgium",
          "Bolivia",
          "Cuba",
          "Burundi",
          "Haiti",
          "South Sudan",
          "Greece",
          "Czech Republic",
          "Dominican Republic",
          "Portugal",
          "Sweden",
          "Jordan",
          "Azerbaijan",
          "Hungary",
          "United Arab Emirates",
          "Honduras",
          "Belarus",
          "Tajikistan",
          "Israel",
          "Austria",
          "Papua New Guinea",
          "Switzerland",
          "Togo",
          "Sierra Leone",
          "Hong Kong SAR, China",
          "Caribbean small states",
          "Lao PDR",
          "Bulgaria",
          "Serbia",
          "Paraguay",
          "Lebanon",
          "Libya",
          "Nicaragua",
          "El Salvador",
          "Kyrgyz Republic",
          "Turkmenistan",
          "Denmark",
          "Singapore",
          "Finland",
          "Slovak Republic",
          "Norway",
          "Congo, Rep.",
          "Costa Rica",
          "Ireland",
          "New Zealand",
          "Oman",
          "Liberia",
          "Central African Republic",
          "West Bank and Gaza",
          "Mauritania",
          "Panama",
          "Kuwait",
          "Croatia",
          "Georgia",
          "Uruguay",
          "Bosnia and Herzegovina",
          "Puerto Rico",
          "Mongolia",
          "Armenia",
          "Jamaica",
          "Albania",
          "Lithuania",
          "Qatar",
          "Moldova",
          "Pacific island small states",
          "Namibia",
          "Gambia, The",
          "Botswana",
          "Gabon",
          "Lesotho",
          "North Macedonia",
          "Slovenia",
          "Latvia",
          "Guinea-Bissau",
          "Kosovo",
          "Bahrain",
          "Trinidad and Tobago",
          "Estonia",
          "Equatorial Guinea",
          "Timor-Leste",
          "Mauritius",
          "Cyprus",
          "Eswatini",
          "Djibouti",
          "Fiji",
          "Comoros",
          "Guyana",
          "Bhutan",
          "Solomon Islands",
          "Macao SAR, China",
          "Montenegro",
          "Luxembourg",
          "Suriname",
          "Cabo Verde",
          "Maldives",
          "Malta",
          "Brunei Darussalam",
          "Bahamas, The",
          "Belize",
          "Iceland",
          "Vanuatu",
          "Barbados",
          "New Caledonia",
          "French Polynesia",
          "Sao Tome and Principe",
          "Samoa",
          "St. Lucia",
          "Channel Islands",
          "Guam",
          "Curacao",
          "Kiribati",
          "Micronesia, Fed. Sts.",
          "Grenada",
          "St. Vincent and the Grenadines",
          "Virgin Islands (U.S.)",
          "Aruba",
          "Tonga",
          "Seychelles",
          "Antigua and Barbuda",
          "Isle of Man",
          "Andorra",
          "Dominica",
          "Cayman Islands",
          "Bermuda",
          "Marshall Islands",
          "Northern Mariana Islands",
          "Greenland",
          "American Samoa",
          "St. Kitts and Nevis",
          "Faroe Islands",
          "Sint Maarten (Dutch part)",
          "Monaco",
          "Liechtenstein",
          "Turks and Caicos Islands",
          "St. Martin (French part)",
          "San Marino",
          "Gibraltar",
          "British Virgin Islands",
          "Palau",
          "Nauru",
          "Tuvalu"
         ],
         "legendgroup": "",
         "locations": [
          "CHN",
          "IND",
          "OED",
          "HIC",
          "PST",
          "IDX",
          "SSF",
          "TSS",
          "SSA",
          "LDC",
          "PRE",
          "ECS",
          "HPC",
          "FCS",
          "LIC",
          "LCN",
          "TLA",
          "LAC",
          "IDB",
          "TEC",
          "MEA",
          "EUU",
          "ARB",
          "ECA",
          "MNA",
          "TMN",
          "NAC",
          "EMU",
          "USA",
          "IDN",
          "PAK",
          "BRA",
          "NGA",
          "BGD",
          "RUS",
          "JPN",
          "MEX",
          "ETH",
          "PHL",
          "CEB",
          "EGY",
          "VNM",
          "COD",
          "DEU",
          "TUR",
          "IRN",
          "THA",
          "FRA",
          "GBR",
          "ITA",
          "ZAF",
          "TZA",
          "MMR",
          "KOR",
          "KEN",
          "COL",
          "ESP",
          "UKR",
          "ARG",
          "UGA",
          "DZA",
          "SDN",
          "SST",
          "IRQ",
          "POL",
          "AFG",
          "CAN",
          "MAR",
          "SAU",
          "UZB",
          "PER",
          "MYS",
          "AGO",
          "OSS",
          "GHA",
          "MOZ",
          "VEN",
          "YEM",
          "NPL",
          "MDG",
          "PRK",
          "CMR",
          "CIV",
          "AUS",
          "NER",
          "LKA",
          "BFA",
          "ROU",
          "MLI",
          "CHL",
          "KAZ",
          "MWI",
          "ZMB",
          "GTM",
          "NLD",
          "ECU",
          "SYR",
          "KHM",
          "SEN",
          "TCD",
          "SOM",
          "ZWE",
          "GIN",
          "RWA",
          "TUN",
          "BEN",
          "BEL",
          "BOL",
          "CUB",
          "BDI",
          "HTI",
          "SSD",
          "GRC",
          "CZE",
          "DOM",
          "PRT",
          "SWE",
          "JOR",
          "AZE",
          "HUN",
          "ARE",
          "HND",
          "BLR",
          "TJK",
          "ISR",
          "AUT",
          "PNG",
          "CHE",
          "TGO",
          "SLE",
          "HKG",
          "CSS",
          "LAO",
          "BGR",
          "SRB",
          "PRY",
          "LBN",
          "LBY",
          "NIC",
          "SLV",
          "KGZ",
          "TKM",
          "DNK",
          "SGP",
          "FIN",
          "SVK",
          "NOR",
          "COG",
          "CRI",
          "IRL",
          "NZL",
          "OMN",
          "LBR",
          "CAF",
          "PSE",
          "MRT",
          "PAN",
          "KWT",
          "HRV",
          "GEO",
          "URY",
          "BIH",
          "PRI",
          "MNG",
          "ARM",
          "JAM",
          "ALB",
          "LTU",
          "QAT",
          "MDA",
          "PSS",
          "NAM",
          "GMB",
          "BWA",
          "GAB",
          "LSO",
          "MKD",
          "SVN",
          "LVA",
          "GNB",
          "XKX",
          "BHR",
          "TTO",
          "EST",
          "GNQ",
          "TLS",
          "MUS",
          "CYP",
          "SWZ",
          "DJI",
          "FJI",
          "COM",
          "GUY",
          "BTN",
          "SLB",
          "MAC",
          "MNE",
          "LUX",
          "SUR",
          "CPV",
          "MDV",
          "MLT",
          "BRN",
          "BHS",
          "BLZ",
          "ISL",
          "VUT",
          "BRB",
          "NCL",
          "PYF",
          "STP",
          "WSM",
          "LCA",
          "CHI",
          "GUM",
          "CUW",
          "KIR",
          "FSM",
          "GRD",
          "VCT",
          "VIR",
          "ABW",
          "TON",
          "SYC",
          "ATG",
          "IMN",
          "AND",
          "DMA",
          "CYM",
          "BMU",
          "MHL",
          "MNP",
          "GRL",
          "ASM",
          "KNA",
          "FRO",
          "SXM",
          "MCO",
          "LIE",
          "TCA",
          "MAF",
          "SMR",
          "GIB",
          "VGB",
          "PLW",
          "NRU",
          "TUV"
         ],
         "marker": {
          "color": [
           1392730000,
           1352617328,
           1303529456,
           1210312147,
           1109997273,
           1084407516,
           1078306520,
           1078306520,
           1078209758,
           1009662578,
           919485393,
           918793590,
           780234406,
           743958386,
           705417321,
           641357515,
           625569713,
           609013934,
           555830605,
           459865205,
           448912859,
           446786293,
           419790588,
           417797257,
           382896715,
           378327628,
           364290258,
           341783171,
           326687501,
           267663435,
           212215030,
           209469333,
           195874740,
           161356039,
           144478050,
           126529100,
           126190788,
           109224559,
           106651922,
           102511922,
           98423595,
           95540395,
           84068091,
           82905782,
           82319724,
           81800269,
           69428524,
           66977107,
           66460344,
           60421760,
           57779622,
           56318348,
           53708395,
           51606633,
           51393010,
           49648685,
           46796540,
           44622516,
           44494502,
           42723139,
           42228429,
           41801533,
           40575321,
           38433600,
           37974750,
           37172386,
           37057765,
           36029138,
           33699947,
           32955400,
           31989256,
           31528585,
           30809762,
           30758989,
           29767108,
           29495962,
           28870195,
           28498687,
           28087871,
           26262368,
           25549819,
           25216237,
           25069229,
           24982688,
           22442948,
           21670000,
           19751535,
           19466145,
           19077690,
           18729160,
           18272430,
           18143315,
           17351822,
           17247807,
           17231624,
           17084357,
           16906283,
           16249798,
           15854360,
           15477751,
           15008154,
           14439018,
           12414318,
           12301939,
           11565204,
           11485048,
           11433256,
           11353142,
           11338138,
           11175378,
           11123176,
           10975920,
           10731726,
           10629928,
           10627165,
           10283822,
           10175214,
           9956011,
           9939800,
           9775564,
           9630959,
           9587522,
           9483499,
           9100837,
           8882800,
           8840521,
           8606316,
           8513227,
           7889094,
           7650154,
           7451000,
           7358965,
           7061507,
           7025037,
           6982604,
           6956071,
           6848925,
           6678567,
           6465513,
           6420744,
           6322800,
           5850908,
           5793636,
           5638676,
           5515525,
           5446771,
           5311916,
           5244363,
           4999441,
           4867309,
           4841000,
           4829483,
           4818977,
           4666377,
           4569087,
           4403319,
           4176873,
           4137309,
           4087843,
           3726549,
           3449299,
           3323929,
           3195153,
           3170208,
           2951776,
           2934855,
           2866376,
           2801543,
           2781677,
           2706049,
           2457367,
           2448255,
           2280102,
           2254126,
           2119275,
           2108132,
           2082958,
           2073894,
           1927174,
           1874309,
           1845300,
           1569439,
           1389858,
           1321977,
           1308974,
           1267972,
           1265303,
           1189265,
           1136191,
           958920,
           883483,
           832322,
           779004,
           754394,
           652858,
           631636,
           622227,
           607950,
           575991,
           543767,
           515696,
           484630,
           428962,
           385640,
           383071,
           352721,
           292680,
           286641,
           284060,
           277679,
           211028,
           196130,
           181889,
           170499,
           165768,
           159800,
           115847,
           112640,
           111454,
           110210,
           106977,
           105845,
           103197,
           96762,
           96286,
           84077,
           77006,
           71625,
           64174,
           63973,
           58413,
           56882,
           56025,
           55465,
           52441,
           48497,
           40654,
           38682,
           37910,
           37665,
           37264,
           33785,
           33718,
           29802,
           17907,
           12704,
           11508
          ],
          "coloraxis": "coloraxis",
          "size": [
           1392730000,
           1352617328,
           1303529456,
           1210312147,
           1109997273,
           1084407516,
           1078306520,
           1078306520,
           1078209758,
           1009662578,
           919485393,
           918793590,
           780234406,
           743958386,
           705417321,
           641357515,
           625569713,
           609013934,
           555830605,
           459865205,
           448912859,
           446786293,
           419790588,
           417797257,
           382896715,
           378327628,
           364290258,
           341783171,
           326687501,
           267663435,
           212215030,
           209469333,
           195874740,
           161356039,
           144478050,
           126529100,
           126190788,
           109224559,
           106651922,
           102511922,
           98423595,
           95540395,
           84068091,
           82905782,
           82319724,
           81800269,
           69428524,
           66977107,
           66460344,
           60421760,
           57779622,
           56318348,
           53708395,
           51606633,
           51393010,
           49648685,
           46796540,
           44622516,
           44494502,
           42723139,
           42228429,
           41801533,
           40575321,
           38433600,
           37974750,
           37172386,
           37057765,
           36029138,
           33699947,
           32955400,
           31989256,
           31528585,
           30809762,
           30758989,
           29767108,
           29495962,
           28870195,
           28498687,
           28087871,
           26262368,
           25549819,
           25216237,
           25069229,
           24982688,
           22442948,
           21670000,
           19751535,
           19466145,
           19077690,
           18729160,
           18272430,
           18143315,
           17351822,
           17247807,
           17231624,
           17084357,
           16906283,
           16249798,
           15854360,
           15477751,
           15008154,
           14439018,
           12414318,
           12301939,
           11565204,
           11485048,
           11433256,
           11353142,
           11338138,
           11175378,
           11123176,
           10975920,
           10731726,
           10629928,
           10627165,
           10283822,
           10175214,
           9956011,
           9939800,
           9775564,
           9630959,
           9587522,
           9483499,
           9100837,
           8882800,
           8840521,
           8606316,
           8513227,
           7889094,
           7650154,
           7451000,
           7358965,
           7061507,
           7025037,
           6982604,
           6956071,
           6848925,
           6678567,
           6465513,
           6420744,
           6322800,
           5850908,
           5793636,
           5638676,
           5515525,
           5446771,
           5311916,
           5244363,
           4999441,
           4867309,
           4841000,
           4829483,
           4818977,
           4666377,
           4569087,
           4403319,
           4176873,
           4137309,
           4087843,
           3726549,
           3449299,
           3323929,
           3195153,
           3170208,
           2951776,
           2934855,
           2866376,
           2801543,
           2781677,
           2706049,
           2457367,
           2448255,
           2280102,
           2254126,
           2119275,
           2108132,
           2082958,
           2073894,
           1927174,
           1874309,
           1845300,
           1569439,
           1389858,
           1321977,
           1308974,
           1267972,
           1265303,
           1189265,
           1136191,
           958920,
           883483,
           832322,
           779004,
           754394,
           652858,
           631636,
           622227,
           607950,
           575991,
           543767,
           515696,
           484630,
           428962,
           385640,
           383071,
           352721,
           292680,
           286641,
           284060,
           277679,
           211028,
           196130,
           181889,
           170499,
           165768,
           159800,
           115847,
           112640,
           111454,
           110210,
           106977,
           105845,
           103197,
           96762,
           96286,
           84077,
           77006,
           71625,
           64174,
           63973,
           58413,
           56882,
           56025,
           55465,
           52441,
           48497,
           40654,
           38682,
           37910,
           37665,
           37264,
           33785,
           33718,
           29802,
           17907,
           12704,
           11508
          ],
          "sizemode": "area",
          "sizeref": 386869.44444444444
         },
         "name": "",
         "showlegend": false,
         "type": "scattergeo"
        }
       ],
       "layout": {
        "coloraxis": {
         "colorbar": {
          "title": {
           "text": "2018"
          }
         },
         "colorscale": [
          [
           0,
           "rgb(5,48,97)"
          ],
          [
           0.1,
           "rgb(33,102,172)"
          ],
          [
           0.2,
           "rgb(67,147,195)"
          ],
          [
           0.3,
           "rgb(146,197,222)"
          ],
          [
           0.4,
           "rgb(209,229,240)"
          ],
          [
           0.5,
           "rgb(247,247,247)"
          ],
          [
           0.6,
           "rgb(253,219,199)"
          ],
          [
           0.7,
           "rgb(244,165,130)"
          ],
          [
           0.8,
           "rgb(214,96,77)"
          ],
          [
           0.9,
           "rgb(178,24,43)"
          ],
          [
           1,
           "rgb(103,0,31)"
          ]
         ]
        },
        "geo": {
         "center": {},
         "domain": {
          "x": [
           0,
           1
          ],
          "y": [
           0,
           1
          ]
         },
         "projection": {
          "type": "natural earth"
         }
        },
        "legend": {
         "itemsizing": "constant",
         "tracegroupgap": 0
        },
        "margin": {
         "b": 20,
         "l": 20,
         "r": 20,
         "t": 20
        },
        "template": {
         "data": {
          "bar": [
           {
            "error_x": {
             "color": "#2a3f5f"
            },
            "error_y": {
             "color": "#2a3f5f"
            },
            "marker": {
             "line": {
              "color": "#E5ECF6",
              "width": 0.5
             }
            },
            "type": "bar"
           }
          ],
          "barpolar": [
           {
            "marker": {
             "line": {
              "color": "#E5ECF6",
              "width": 0.5
             }
            },
            "type": "barpolar"
           }
          ],
          "carpet": [
           {
            "aaxis": {
             "endlinecolor": "#2a3f5f",
             "gridcolor": "white",
             "linecolor": "white",
             "minorgridcolor": "white",
             "startlinecolor": "#2a3f5f"
            },
            "baxis": {
             "endlinecolor": "#2a3f5f",
             "gridcolor": "white",
             "linecolor": "white",
             "minorgridcolor": "white",
             "startlinecolor": "#2a3f5f"
            },
            "type": "carpet"
           }
          ],
          "choropleth": [
           {
            "colorbar": {
             "outlinewidth": 0,
             "ticks": ""
            },
            "type": "choropleth"
           }
          ],
          "contour": [
           {
            "colorbar": {
             "outlinewidth": 0,
             "ticks": ""
            },
            "colorscale": [
             [
              0,
              "#0d0887"
             ],
             [
              0.1111111111111111,
              "#46039f"
             ],
             [
              0.2222222222222222,
              "#7201a8"
             ],
             [
              0.3333333333333333,
              "#9c179e"
             ],
             [
              0.4444444444444444,
              "#bd3786"
             ],
             [
              0.5555555555555556,
              "#d8576b"
             ],
             [
              0.6666666666666666,
              "#ed7953"
             ],
             [
              0.7777777777777778,
              "#fb9f3a"
             ],
             [
              0.8888888888888888,
              "#fdca26"
             ],
             [
              1,
              "#f0f921"
             ]
            ],
            "type": "contour"
           }
          ],
          "contourcarpet": [
           {
            "colorbar": {
             "outlinewidth": 0,
             "ticks": ""
            },
            "type": "contourcarpet"
           }
          ],
          "heatmap": [
           {
            "colorbar": {
             "outlinewidth": 0,
             "ticks": ""
            },
            "colorscale": [
             [
              0,
              "#0d0887"
             ],
             [
              0.1111111111111111,
              "#46039f"
             ],
             [
              0.2222222222222222,
              "#7201a8"
             ],
             [
              0.3333333333333333,
              "#9c179e"
             ],
             [
              0.4444444444444444,
              "#bd3786"
             ],
             [
              0.5555555555555556,
              "#d8576b"
             ],
             [
              0.6666666666666666,
              "#ed7953"
             ],
             [
              0.7777777777777778,
              "#fb9f3a"
             ],
             [
              0.8888888888888888,
              "#fdca26"
             ],
             [
              1,
              "#f0f921"
             ]
            ],
            "type": "heatmap"
           }
          ],
          "heatmapgl": [
           {
            "colorbar": {
             "outlinewidth": 0,
             "ticks": ""
            },
            "colorscale": [
             [
              0,
              "#0d0887"
             ],
             [
              0.1111111111111111,
              "#46039f"
             ],
             [
              0.2222222222222222,
              "#7201a8"
             ],
             [
              0.3333333333333333,
              "#9c179e"
             ],
             [
              0.4444444444444444,
              "#bd3786"
             ],
             [
              0.5555555555555556,
              "#d8576b"
             ],
             [
              0.6666666666666666,
              "#ed7953"
             ],
             [
              0.7777777777777778,
              "#fb9f3a"
             ],
             [
              0.8888888888888888,
              "#fdca26"
             ],
             [
              1,
              "#f0f921"
             ]
            ],
            "type": "heatmapgl"
           }
          ],
          "histogram": [
           {
            "marker": {
             "colorbar": {
              "outlinewidth": 0,
              "ticks": ""
             }
            },
            "type": "histogram"
           }
          ],
          "histogram2d": [
           {
            "colorbar": {
             "outlinewidth": 0,
             "ticks": ""
            },
            "colorscale": [
             [
              0,
              "#0d0887"
             ],
             [
              0.1111111111111111,
              "#46039f"
             ],
             [
              0.2222222222222222,
              "#7201a8"
             ],
             [
              0.3333333333333333,
              "#9c179e"
             ],
             [
              0.4444444444444444,
              "#bd3786"
             ],
             [
              0.5555555555555556,
              "#d8576b"
             ],
             [
              0.6666666666666666,
              "#ed7953"
             ],
             [
              0.7777777777777778,
              "#fb9f3a"
             ],
             [
              0.8888888888888888,
              "#fdca26"
             ],
             [
              1,
              "#f0f921"
             ]
            ],
            "type": "histogram2d"
           }
          ],
          "histogram2dcontour": [
           {
            "colorbar": {
             "outlinewidth": 0,
             "ticks": ""
            },
            "colorscale": [
             [
              0,
              "#0d0887"
             ],
             [
              0.1111111111111111,
              "#46039f"
             ],
             [
              0.2222222222222222,
              "#7201a8"
             ],
             [
              0.3333333333333333,
              "#9c179e"
             ],
             [
              0.4444444444444444,
              "#bd3786"
             ],
             [
              0.5555555555555556,
              "#d8576b"
             ],
             [
              0.6666666666666666,
              "#ed7953"
             ],
             [
              0.7777777777777778,
              "#fb9f3a"
             ],
             [
              0.8888888888888888,
              "#fdca26"
             ],
             [
              1,
              "#f0f921"
             ]
            ],
            "type": "histogram2dcontour"
           }
          ],
          "mesh3d": [
           {
            "colorbar": {
             "outlinewidth": 0,
             "ticks": ""
            },
            "type": "mesh3d"
           }
          ],
          "parcoords": [
           {
            "line": {
             "colorbar": {
              "outlinewidth": 0,
              "ticks": ""
             }
            },
            "type": "parcoords"
           }
          ],
          "pie": [
           {
            "automargin": true,
            "type": "pie"
           }
          ],
          "scatter": [
           {
            "marker": {
             "colorbar": {
              "outlinewidth": 0,
              "ticks": ""
             }
            },
            "type": "scatter"
           }
          ],
          "scatter3d": [
           {
            "line": {
             "colorbar": {
              "outlinewidth": 0,
              "ticks": ""
             }
            },
            "marker": {
             "colorbar": {
              "outlinewidth": 0,
              "ticks": ""
             }
            },
            "type": "scatter3d"
           }
          ],
          "scattercarpet": [
           {
            "marker": {
             "colorbar": {
              "outlinewidth": 0,
              "ticks": ""
             }
            },
            "type": "scattercarpet"
           }
          ],
          "scattergeo": [
           {
            "marker": {
             "colorbar": {
              "outlinewidth": 0,
              "ticks": ""
             }
            },
            "type": "scattergeo"
           }
          ],
          "scattergl": [
           {
            "marker": {
             "colorbar": {
              "outlinewidth": 0,
              "ticks": ""
             }
            },
            "type": "scattergl"
           }
          ],
          "scattermapbox": [
           {
            "marker": {
             "colorbar": {
              "outlinewidth": 0,
              "ticks": ""
             }
            },
            "type": "scattermapbox"
           }
          ],
          "scatterpolar": [
           {
            "marker": {
             "colorbar": {
              "outlinewidth": 0,
              "ticks": ""
             }
            },
            "type": "scatterpolar"
           }
          ],
          "scatterpolargl": [
           {
            "marker": {
             "colorbar": {
              "outlinewidth": 0,
              "ticks": ""
             }
            },
            "type": "scatterpolargl"
           }
          ],
          "scatterternary": [
           {
            "marker": {
             "colorbar": {
              "outlinewidth": 0,
              "ticks": ""
             }
            },
            "type": "scatterternary"
           }
          ],
          "surface": [
           {
            "colorbar": {
             "outlinewidth": 0,
             "ticks": ""
            },
            "colorscale": [
             [
              0,
              "#0d0887"
             ],
             [
              0.1111111111111111,
              "#46039f"
             ],
             [
              0.2222222222222222,
              "#7201a8"
             ],
             [
              0.3333333333333333,
              "#9c179e"
             ],
             [
              0.4444444444444444,
              "#bd3786"
             ],
             [
              0.5555555555555556,
              "#d8576b"
             ],
             [
              0.6666666666666666,
              "#ed7953"
             ],
             [
              0.7777777777777778,
              "#fb9f3a"
             ],
             [
              0.8888888888888888,
              "#fdca26"
             ],
             [
              1,
              "#f0f921"
             ]
            ],
            "type": "surface"
           }
          ],
          "table": [
           {
            "cells": {
             "fill": {
              "color": "#EBF0F8"
             },
             "line": {
              "color": "white"
             }
            },
            "header": {
             "fill": {
              "color": "#C8D4E3"
             },
             "line": {
              "color": "white"
             }
            },
            "type": "table"
           }
          ]
         },
         "layout": {
          "annotationdefaults": {
           "arrowcolor": "#2a3f5f",
           "arrowhead": 0,
           "arrowwidth": 1
          },
          "coloraxis": {
           "colorbar": {
            "outlinewidth": 0,
            "ticks": ""
           }
          },
          "colorscale": {
           "diverging": [
            [
             0,
             "#8e0152"
            ],
            [
             0.1,
             "#c51b7d"
            ],
            [
             0.2,
             "#de77ae"
            ],
            [
             0.3,
             "#f1b6da"
            ],
            [
             0.4,
             "#fde0ef"
            ],
            [
             0.5,
             "#f7f7f7"
            ],
            [
             0.6,
             "#e6f5d0"
            ],
            [
             0.7,
             "#b8e186"
            ],
            [
             0.8,
             "#7fbc41"
            ],
            [
             0.9,
             "#4d9221"
            ],
            [
             1,
             "#276419"
            ]
           ],
           "sequential": [
            [
             0,
             "#0d0887"
            ],
            [
             0.1111111111111111,
             "#46039f"
            ],
            [
             0.2222222222222222,
             "#7201a8"
            ],
            [
             0.3333333333333333,
             "#9c179e"
            ],
            [
             0.4444444444444444,
             "#bd3786"
            ],
            [
             0.5555555555555556,
             "#d8576b"
            ],
            [
             0.6666666666666666,
             "#ed7953"
            ],
            [
             0.7777777777777778,
             "#fb9f3a"
            ],
            [
             0.8888888888888888,
             "#fdca26"
            ],
            [
             1,
             "#f0f921"
            ]
           ],
           "sequentialminus": [
            [
             0,
             "#0d0887"
            ],
            [
             0.1111111111111111,
             "#46039f"
            ],
            [
             0.2222222222222222,
             "#7201a8"
            ],
            [
             0.3333333333333333,
             "#9c179e"
            ],
            [
             0.4444444444444444,
             "#bd3786"
            ],
            [
             0.5555555555555556,
             "#d8576b"
            ],
            [
             0.6666666666666666,
             "#ed7953"
            ],
            [
             0.7777777777777778,
             "#fb9f3a"
            ],
            [
             0.8888888888888888,
             "#fdca26"
            ],
            [
             1,
             "#f0f921"
            ]
           ]
          },
          "colorway": [
           "#636efa",
           "#EF553B",
           "#00cc96",
           "#ab63fa",
           "#FFA15A",
           "#19d3f3",
           "#FF6692",
           "#B6E880",
           "#FF97FF",
           "#FECB52"
          ],
          "font": {
           "color": "#2a3f5f"
          },
          "geo": {
           "bgcolor": "white",
           "lakecolor": "white",
           "landcolor": "#E5ECF6",
           "showlakes": true,
           "showland": true,
           "subunitcolor": "white"
          },
          "hoverlabel": {
           "align": "left"
          },
          "hovermode": "closest",
          "mapbox": {
           "style": "light"
          },
          "paper_bgcolor": "white",
          "plot_bgcolor": "#E5ECF6",
          "polar": {
           "angularaxis": {
            "gridcolor": "white",
            "linecolor": "white",
            "ticks": ""
           },
           "bgcolor": "#E5ECF6",
           "radialaxis": {
            "gridcolor": "white",
            "linecolor": "white",
            "ticks": ""
           }
          },
          "scene": {
           "xaxis": {
            "backgroundcolor": "#E5ECF6",
            "gridcolor": "white",
            "gridwidth": 2,
            "linecolor": "white",
            "showbackground": true,
            "ticks": "",
            "zerolinecolor": "white"
           },
           "yaxis": {
            "backgroundcolor": "#E5ECF6",
            "gridcolor": "white",
            "gridwidth": 2,
            "linecolor": "white",
            "showbackground": true,
            "ticks": "",
            "zerolinecolor": "white"
           },
           "zaxis": {
            "backgroundcolor": "#E5ECF6",
            "gridcolor": "white",
            "gridwidth": 2,
            "linecolor": "white",
            "showbackground": true,
            "ticks": "",
            "zerolinecolor": "white"
           }
          },
          "shapedefaults": {
           "line": {
            "color": "#2a3f5f"
           }
          },
          "ternary": {
           "aaxis": {
            "gridcolor": "white",
            "linecolor": "white",
            "ticks": ""
           },
           "baxis": {
            "gridcolor": "white",
            "linecolor": "white",
            "ticks": ""
           },
           "bgcolor": "#E5ECF6",
           "caxis": {
            "gridcolor": "white",
            "linecolor": "white",
            "ticks": ""
           }
          },
          "title": {
           "x": 0.05
          },
          "xaxis": {
           "automargin": true,
           "gridcolor": "white",
           "linecolor": "white",
           "ticks": "",
           "title": {
            "standoff": 15
           },
           "zerolinecolor": "white",
           "zerolinewidth": 2
          },
          "yaxis": {
           "automargin": true,
           "gridcolor": "white",
           "linecolor": "white",
           "ticks": "",
           "title": {
            "standoff": 15
           },
           "zerolinecolor": "white",
           "zerolinewidth": 2
          }
         }
        }
       }
      },
      "text/html": [
       "<div>\n",
       "        \n",
       "        \n",
       "            <div id=\"a7c70c11-27e5-49ef-85da-aec19d09bbf0\" class=\"plotly-graph-div\" style=\"height:525px; width:100%;\"></div>\n",
       "            <script type=\"text/javascript\">\n",
       "                require([\"plotly\"], function(Plotly) {\n",
       "                    window.PLOTLYENV=window.PLOTLYENV || {};\n",
       "                    \n",
       "                if (document.getElementById(\"a7c70c11-27e5-49ef-85da-aec19d09bbf0\")) {\n",
       "                    Plotly.newPlot(\n",
       "                        'a7c70c11-27e5-49ef-85da-aec19d09bbf0',\n",
       "                        [{\"geo\": \"geo\", \"hovertemplate\": \"<b>%{hovertext}</b><br><br>2018=%{marker.color}<br>Country Code=%{location}<extra></extra>\", \"hovertext\": [\"China\", \"India\", \"OECD members\", \"High income\", \"Post-demographic dividend\", \"IDA only\", \"Sub-Saharan Africa\", \"Sub-Saharan Africa (IDA & IBRD countries)\", \"Sub-Saharan Africa (excluding high income)\", \"Least developed countries: UN classification\", \"Pre-demographic dividend\", \"Europe & Central Asia\", \"Heavily indebted poor countries (HIPC)\", \"Fragile and conflict affected situations\", \"Low income\", \"Latin America & Caribbean\", \"Latin America & the Caribbean (IDA & IBRD countries)\", \"Latin America & Caribbean (excluding high income)\", \"IDA blend\", \"Europe & Central Asia (IDA & IBRD countries)\", \"Middle East & North Africa\", \"European Union\", \"Arab World\", \"Europe & Central Asia (excluding high income)\", \"Middle East & North Africa (excluding high income)\", \"Middle East & North Africa (IDA & IBRD countries)\", \"North America\", \"Euro area\", \"United States\", \"Indonesia\", \"Pakistan\", \"Brazil\", \"Nigeria\", \"Bangladesh\", \"Russian Federation\", \"Japan\", \"Mexico\", \"Ethiopia\", \"Philippines\", \"Central Europe and the Baltics\", \"Egypt, Arab Rep.\", \"Vietnam\", \"Congo, Dem. Rep.\", \"Germany\", \"Turkey\", \"Iran, Islamic Rep.\", \"Thailand\", \"France\", \"United Kingdom\", \"Italy\", \"South Africa\", \"Tanzania\", \"Myanmar\", \"Korea, Rep.\", \"Kenya\", \"Colombia\", \"Spain\", \"Ukraine\", \"Argentina\", \"Uganda\", \"Algeria\", \"Sudan\", \"Small states\", \"Iraq\", \"Poland\", \"Afghanistan\", \"Canada\", \"Morocco\", \"Saudi Arabia\", \"Uzbekistan\", \"Peru\", \"Malaysia\", \"Angola\", \"Other small states\", \"Ghana\", \"Mozambique\", \"Venezuela, RB\", \"Yemen, Rep.\", \"Nepal\", \"Madagascar\", \"Korea, Dem. People\\u2019s Rep.\", \"Cameroon\", \"Cote d'Ivoire\", \"Australia\", \"Niger\", \"Sri Lanka\", \"Burkina Faso\", \"Romania\", \"Mali\", \"Chile\", \"Kazakhstan\", \"Malawi\", \"Zambia\", \"Guatemala\", \"Netherlands\", \"Ecuador\", \"Syrian Arab Republic\", \"Cambodia\", \"Senegal\", \"Chad\", \"Somalia\", \"Zimbabwe\", \"Guinea\", \"Rwanda\", \"Tunisia\", \"Benin\", \"Belgium\", \"Bolivia\", \"Cuba\", \"Burundi\", \"Haiti\", \"South Sudan\", \"Greece\", \"Czech Republic\", \"Dominican Republic\", \"Portugal\", \"Sweden\", \"Jordan\", \"Azerbaijan\", \"Hungary\", \"United Arab Emirates\", \"Honduras\", \"Belarus\", \"Tajikistan\", \"Israel\", \"Austria\", \"Papua New Guinea\", \"Switzerland\", \"Togo\", \"Sierra Leone\", \"Hong Kong SAR, China\", \"Caribbean small states\", \"Lao PDR\", \"Bulgaria\", \"Serbia\", \"Paraguay\", \"Lebanon\", \"Libya\", \"Nicaragua\", \"El Salvador\", \"Kyrgyz Republic\", \"Turkmenistan\", \"Denmark\", \"Singapore\", \"Finland\", \"Slovak Republic\", \"Norway\", \"Congo, Rep.\", \"Costa Rica\", \"Ireland\", \"New Zealand\", \"Oman\", \"Liberia\", \"Central African Republic\", \"West Bank and Gaza\", \"Mauritania\", \"Panama\", \"Kuwait\", \"Croatia\", \"Georgia\", \"Uruguay\", \"Bosnia and Herzegovina\", \"Puerto Rico\", \"Mongolia\", \"Armenia\", \"Jamaica\", \"Albania\", \"Lithuania\", \"Qatar\", \"Moldova\", \"Pacific island small states\", \"Namibia\", \"Gambia, The\", \"Botswana\", \"Gabon\", \"Lesotho\", \"North Macedonia\", \"Slovenia\", \"Latvia\", \"Guinea-Bissau\", \"Kosovo\", \"Bahrain\", \"Trinidad and Tobago\", \"Estonia\", \"Equatorial Guinea\", \"Timor-Leste\", \"Mauritius\", \"Cyprus\", \"Eswatini\", \"Djibouti\", \"Fiji\", \"Comoros\", \"Guyana\", \"Bhutan\", \"Solomon Islands\", \"Macao SAR, China\", \"Montenegro\", \"Luxembourg\", \"Suriname\", \"Cabo Verde\", \"Maldives\", \"Malta\", \"Brunei Darussalam\", \"Bahamas, The\", \"Belize\", \"Iceland\", \"Vanuatu\", \"Barbados\", \"New Caledonia\", \"French Polynesia\", \"Sao Tome and Principe\", \"Samoa\", \"St. Lucia\", \"Channel Islands\", \"Guam\", \"Curacao\", \"Kiribati\", \"Micronesia, Fed. Sts.\", \"Grenada\", \"St. Vincent and the Grenadines\", \"Virgin Islands (U.S.)\", \"Aruba\", \"Tonga\", \"Seychelles\", \"Antigua and Barbuda\", \"Isle of Man\", \"Andorra\", \"Dominica\", \"Cayman Islands\", \"Bermuda\", \"Marshall Islands\", \"Northern Mariana Islands\", \"Greenland\", \"American Samoa\", \"St. Kitts and Nevis\", \"Faroe Islands\", \"Sint Maarten (Dutch part)\", \"Monaco\", \"Liechtenstein\", \"Turks and Caicos Islands\", \"St. Martin (French part)\", \"San Marino\", \"Gibraltar\", \"British Virgin Islands\", \"Palau\", \"Nauru\", \"Tuvalu\"], \"legendgroup\": \"\", \"locations\": [\"CHN\", \"IND\", \"OED\", \"HIC\", \"PST\", \"IDX\", \"SSF\", \"TSS\", \"SSA\", \"LDC\", \"PRE\", \"ECS\", \"HPC\", \"FCS\", \"LIC\", \"LCN\", \"TLA\", \"LAC\", \"IDB\", \"TEC\", \"MEA\", \"EUU\", \"ARB\", \"ECA\", \"MNA\", \"TMN\", \"NAC\", \"EMU\", \"USA\", \"IDN\", \"PAK\", \"BRA\", \"NGA\", \"BGD\", \"RUS\", \"JPN\", \"MEX\", \"ETH\", \"PHL\", \"CEB\", \"EGY\", \"VNM\", \"COD\", \"DEU\", \"TUR\", \"IRN\", \"THA\", \"FRA\", \"GBR\", \"ITA\", \"ZAF\", \"TZA\", \"MMR\", \"KOR\", \"KEN\", \"COL\", \"ESP\", \"UKR\", \"ARG\", \"UGA\", \"DZA\", \"SDN\", \"SST\", \"IRQ\", \"POL\", \"AFG\", \"CAN\", \"MAR\", \"SAU\", \"UZB\", \"PER\", \"MYS\", \"AGO\", \"OSS\", \"GHA\", \"MOZ\", \"VEN\", \"YEM\", \"NPL\", \"MDG\", \"PRK\", \"CMR\", \"CIV\", \"AUS\", \"NER\", \"LKA\", \"BFA\", \"ROU\", \"MLI\", \"CHL\", \"KAZ\", \"MWI\", \"ZMB\", \"GTM\", \"NLD\", \"ECU\", \"SYR\", \"KHM\", \"SEN\", \"TCD\", \"SOM\", \"ZWE\", \"GIN\", \"RWA\", \"TUN\", \"BEN\", \"BEL\", \"BOL\", \"CUB\", \"BDI\", \"HTI\", \"SSD\", \"GRC\", \"CZE\", \"DOM\", \"PRT\", \"SWE\", \"JOR\", \"AZE\", \"HUN\", \"ARE\", \"HND\", \"BLR\", \"TJK\", \"ISR\", \"AUT\", \"PNG\", \"CHE\", \"TGO\", \"SLE\", \"HKG\", \"CSS\", \"LAO\", \"BGR\", \"SRB\", \"PRY\", \"LBN\", \"LBY\", \"NIC\", \"SLV\", \"KGZ\", \"TKM\", \"DNK\", \"SGP\", \"FIN\", \"SVK\", \"NOR\", \"COG\", \"CRI\", \"IRL\", \"NZL\", \"OMN\", \"LBR\", \"CAF\", \"PSE\", \"MRT\", \"PAN\", \"KWT\", \"HRV\", \"GEO\", \"URY\", \"BIH\", \"PRI\", \"MNG\", \"ARM\", \"JAM\", \"ALB\", \"LTU\", \"QAT\", \"MDA\", \"PSS\", \"NAM\", \"GMB\", \"BWA\", \"GAB\", \"LSO\", \"MKD\", \"SVN\", \"LVA\", \"GNB\", \"XKX\", \"BHR\", \"TTO\", \"EST\", \"GNQ\", \"TLS\", \"MUS\", \"CYP\", \"SWZ\", \"DJI\", \"FJI\", \"COM\", \"GUY\", \"BTN\", \"SLB\", \"MAC\", \"MNE\", \"LUX\", \"SUR\", \"CPV\", \"MDV\", \"MLT\", \"BRN\", \"BHS\", \"BLZ\", \"ISL\", \"VUT\", \"BRB\", \"NCL\", \"PYF\", \"STP\", \"WSM\", \"LCA\", \"CHI\", \"GUM\", \"CUW\", \"KIR\", \"FSM\", \"GRD\", \"VCT\", \"VIR\", \"ABW\", \"TON\", \"SYC\", \"ATG\", \"IMN\", \"AND\", \"DMA\", \"CYM\", \"BMU\", \"MHL\", \"MNP\", \"GRL\", \"ASM\", \"KNA\", \"FRO\", \"SXM\", \"MCO\", \"LIE\", \"TCA\", \"MAF\", \"SMR\", \"GIB\", \"VGB\", \"PLW\", \"NRU\", \"TUV\"], \"marker\": {\"color\": [1392730000, 1352617328, 1303529456, 1210312147, 1109997273, 1084407516, 1078306520, 1078306520, 1078209758, 1009662578, 919485393, 918793590, 780234406, 743958386, 705417321, 641357515, 625569713, 609013934, 555830605, 459865205, 448912859, 446786293, 419790588, 417797257, 382896715, 378327628, 364290258, 341783171, 326687501, 267663435, 212215030, 209469333, 195874740, 161356039, 144478050, 126529100, 126190788, 109224559, 106651922, 102511922, 98423595, 95540395, 84068091, 82905782, 82319724, 81800269, 69428524, 66977107, 66460344, 60421760, 57779622, 56318348, 53708395, 51606633, 51393010, 49648685, 46796540, 44622516, 44494502, 42723139, 42228429, 41801533, 40575321, 38433600, 37974750, 37172386, 37057765, 36029138, 33699947, 32955400, 31989256, 31528585, 30809762, 30758989, 29767108, 29495962, 28870195, 28498687, 28087871, 26262368, 25549819, 25216237, 25069229, 24982688, 22442948, 21670000, 19751535, 19466145, 19077690, 18729160, 18272430, 18143315, 17351822, 17247807, 17231624, 17084357, 16906283, 16249798, 15854360, 15477751, 15008154, 14439018, 12414318, 12301939, 11565204, 11485048, 11433256, 11353142, 11338138, 11175378, 11123176, 10975920, 10731726, 10629928, 10627165, 10283822, 10175214, 9956011, 9939800, 9775564, 9630959, 9587522, 9483499, 9100837, 8882800, 8840521, 8606316, 8513227, 7889094, 7650154, 7451000, 7358965, 7061507, 7025037, 6982604, 6956071, 6848925, 6678567, 6465513, 6420744, 6322800, 5850908, 5793636, 5638676, 5515525, 5446771, 5311916, 5244363, 4999441, 4867309, 4841000, 4829483, 4818977, 4666377, 4569087, 4403319, 4176873, 4137309, 4087843, 3726549, 3449299, 3323929, 3195153, 3170208, 2951776, 2934855, 2866376, 2801543, 2781677, 2706049, 2457367, 2448255, 2280102, 2254126, 2119275, 2108132, 2082958, 2073894, 1927174, 1874309, 1845300, 1569439, 1389858, 1321977, 1308974, 1267972, 1265303, 1189265, 1136191, 958920, 883483, 832322, 779004, 754394, 652858, 631636, 622227, 607950, 575991, 543767, 515696, 484630, 428962, 385640, 383071, 352721, 292680, 286641, 284060, 277679, 211028, 196130, 181889, 170499, 165768, 159800, 115847, 112640, 111454, 110210, 106977, 105845, 103197, 96762, 96286, 84077, 77006, 71625, 64174, 63973, 58413, 56882, 56025, 55465, 52441, 48497, 40654, 38682, 37910, 37665, 37264, 33785, 33718, 29802, 17907, 12704, 11508], \"coloraxis\": \"coloraxis\", \"size\": [1392730000, 1352617328, 1303529456, 1210312147, 1109997273, 1084407516, 1078306520, 1078306520, 1078209758, 1009662578, 919485393, 918793590, 780234406, 743958386, 705417321, 641357515, 625569713, 609013934, 555830605, 459865205, 448912859, 446786293, 419790588, 417797257, 382896715, 378327628, 364290258, 341783171, 326687501, 267663435, 212215030, 209469333, 195874740, 161356039, 144478050, 126529100, 126190788, 109224559, 106651922, 102511922, 98423595, 95540395, 84068091, 82905782, 82319724, 81800269, 69428524, 66977107, 66460344, 60421760, 57779622, 56318348, 53708395, 51606633, 51393010, 49648685, 46796540, 44622516, 44494502, 42723139, 42228429, 41801533, 40575321, 38433600, 37974750, 37172386, 37057765, 36029138, 33699947, 32955400, 31989256, 31528585, 30809762, 30758989, 29767108, 29495962, 28870195, 28498687, 28087871, 26262368, 25549819, 25216237, 25069229, 24982688, 22442948, 21670000, 19751535, 19466145, 19077690, 18729160, 18272430, 18143315, 17351822, 17247807, 17231624, 17084357, 16906283, 16249798, 15854360, 15477751, 15008154, 14439018, 12414318, 12301939, 11565204, 11485048, 11433256, 11353142, 11338138, 11175378, 11123176, 10975920, 10731726, 10629928, 10627165, 10283822, 10175214, 9956011, 9939800, 9775564, 9630959, 9587522, 9483499, 9100837, 8882800, 8840521, 8606316, 8513227, 7889094, 7650154, 7451000, 7358965, 7061507, 7025037, 6982604, 6956071, 6848925, 6678567, 6465513, 6420744, 6322800, 5850908, 5793636, 5638676, 5515525, 5446771, 5311916, 5244363, 4999441, 4867309, 4841000, 4829483, 4818977, 4666377, 4569087, 4403319, 4176873, 4137309, 4087843, 3726549, 3449299, 3323929, 3195153, 3170208, 2951776, 2934855, 2866376, 2801543, 2781677, 2706049, 2457367, 2448255, 2280102, 2254126, 2119275, 2108132, 2082958, 2073894, 1927174, 1874309, 1845300, 1569439, 1389858, 1321977, 1308974, 1267972, 1265303, 1189265, 1136191, 958920, 883483, 832322, 779004, 754394, 652858, 631636, 622227, 607950, 575991, 543767, 515696, 484630, 428962, 385640, 383071, 352721, 292680, 286641, 284060, 277679, 211028, 196130, 181889, 170499, 165768, 159800, 115847, 112640, 111454, 110210, 106977, 105845, 103197, 96762, 96286, 84077, 77006, 71625, 64174, 63973, 58413, 56882, 56025, 55465, 52441, 48497, 40654, 38682, 37910, 37665, 37264, 33785, 33718, 29802, 17907, 12704, 11508], \"sizemode\": \"area\", \"sizeref\": 386869.44444444444}, \"name\": \"\", \"showlegend\": false, \"type\": \"scattergeo\"}],\n",
       "                        {\"coloraxis\": {\"colorbar\": {\"title\": {\"text\": \"2018\"}}, \"colorscale\": [[0.0, \"rgb(5,48,97)\"], [0.1, \"rgb(33,102,172)\"], [0.2, \"rgb(67,147,195)\"], [0.3, \"rgb(146,197,222)\"], [0.4, \"rgb(209,229,240)\"], [0.5, \"rgb(247,247,247)\"], [0.6, \"rgb(253,219,199)\"], [0.7, \"rgb(244,165,130)\"], [0.8, \"rgb(214,96,77)\"], [0.9, \"rgb(178,24,43)\"], [1.0, \"rgb(103,0,31)\"]]}, \"geo\": {\"center\": {}, \"domain\": {\"x\": [0.0, 1.0], \"y\": [0.0, 1.0]}, \"projection\": {\"type\": \"natural earth\"}}, \"legend\": {\"itemsizing\": \"constant\", \"tracegroupgap\": 0}, \"margin\": {\"b\": 20, \"l\": 20, \"r\": 20, \"t\": 20}, \"template\": {\"data\": {\"bar\": [{\"error_x\": {\"color\": \"#2a3f5f\"}, \"error_y\": {\"color\": \"#2a3f5f\"}, \"marker\": {\"line\": {\"color\": \"#E5ECF6\", \"width\": 0.5}}, \"type\": \"bar\"}], \"barpolar\": [{\"marker\": {\"line\": {\"color\": \"#E5ECF6\", \"width\": 0.5}}, \"type\": \"barpolar\"}], \"carpet\": [{\"aaxis\": {\"endlinecolor\": \"#2a3f5f\", \"gridcolor\": \"white\", \"linecolor\": \"white\", \"minorgridcolor\": \"white\", \"startlinecolor\": \"#2a3f5f\"}, \"baxis\": {\"endlinecolor\": \"#2a3f5f\", \"gridcolor\": \"white\", \"linecolor\": \"white\", \"minorgridcolor\": \"white\", \"startlinecolor\": \"#2a3f5f\"}, \"type\": \"carpet\"}], \"choropleth\": [{\"colorbar\": {\"outlinewidth\": 0, \"ticks\": \"\"}, \"type\": \"choropleth\"}], \"contour\": [{\"colorbar\": {\"outlinewidth\": 0, \"ticks\": \"\"}, \"colorscale\": [[0.0, \"#0d0887\"], [0.1111111111111111, \"#46039f\"], [0.2222222222222222, \"#7201a8\"], [0.3333333333333333, \"#9c179e\"], [0.4444444444444444, \"#bd3786\"], [0.5555555555555556, \"#d8576b\"], [0.6666666666666666, \"#ed7953\"], [0.7777777777777778, \"#fb9f3a\"], [0.8888888888888888, \"#fdca26\"], [1.0, \"#f0f921\"]], \"type\": \"contour\"}], \"contourcarpet\": [{\"colorbar\": {\"outlinewidth\": 0, \"ticks\": \"\"}, \"type\": \"contourcarpet\"}], \"heatmap\": [{\"colorbar\": {\"outlinewidth\": 0, \"ticks\": \"\"}, \"colorscale\": [[0.0, \"#0d0887\"], [0.1111111111111111, \"#46039f\"], [0.2222222222222222, \"#7201a8\"], [0.3333333333333333, \"#9c179e\"], [0.4444444444444444, \"#bd3786\"], [0.5555555555555556, \"#d8576b\"], [0.6666666666666666, \"#ed7953\"], [0.7777777777777778, \"#fb9f3a\"], [0.8888888888888888, \"#fdca26\"], [1.0, \"#f0f921\"]], \"type\": \"heatmap\"}], \"heatmapgl\": [{\"colorbar\": {\"outlinewidth\": 0, \"ticks\": \"\"}, \"colorscale\": [[0.0, \"#0d0887\"], [0.1111111111111111, \"#46039f\"], [0.2222222222222222, \"#7201a8\"], [0.3333333333333333, \"#9c179e\"], [0.4444444444444444, \"#bd3786\"], [0.5555555555555556, \"#d8576b\"], [0.6666666666666666, \"#ed7953\"], [0.7777777777777778, \"#fb9f3a\"], [0.8888888888888888, \"#fdca26\"], [1.0, \"#f0f921\"]], \"type\": \"heatmapgl\"}], \"histogram\": [{\"marker\": {\"colorbar\": {\"outlinewidth\": 0, \"ticks\": \"\"}}, \"type\": \"histogram\"}], \"histogram2d\": [{\"colorbar\": {\"outlinewidth\": 0, \"ticks\": \"\"}, \"colorscale\": [[0.0, \"#0d0887\"], [0.1111111111111111, \"#46039f\"], [0.2222222222222222, \"#7201a8\"], [0.3333333333333333, \"#9c179e\"], [0.4444444444444444, \"#bd3786\"], [0.5555555555555556, \"#d8576b\"], [0.6666666666666666, \"#ed7953\"], [0.7777777777777778, \"#fb9f3a\"], [0.8888888888888888, \"#fdca26\"], [1.0, \"#f0f921\"]], \"type\": \"histogram2d\"}], \"histogram2dcontour\": [{\"colorbar\": {\"outlinewidth\": 0, \"ticks\": \"\"}, \"colorscale\": [[0.0, \"#0d0887\"], [0.1111111111111111, \"#46039f\"], [0.2222222222222222, \"#7201a8\"], [0.3333333333333333, \"#9c179e\"], [0.4444444444444444, \"#bd3786\"], [0.5555555555555556, \"#d8576b\"], [0.6666666666666666, \"#ed7953\"], [0.7777777777777778, \"#fb9f3a\"], [0.8888888888888888, \"#fdca26\"], [1.0, \"#f0f921\"]], \"type\": \"histogram2dcontour\"}], \"mesh3d\": [{\"colorbar\": {\"outlinewidth\": 0, \"ticks\": \"\"}, \"type\": \"mesh3d\"}], \"parcoords\": [{\"line\": {\"colorbar\": {\"outlinewidth\": 0, \"ticks\": \"\"}}, \"type\": \"parcoords\"}], \"pie\": [{\"automargin\": true, \"type\": \"pie\"}], \"scatter\": [{\"marker\": {\"colorbar\": {\"outlinewidth\": 0, \"ticks\": \"\"}}, \"type\": \"scatter\"}], \"scatter3d\": [{\"line\": {\"colorbar\": {\"outlinewidth\": 0, \"ticks\": \"\"}}, \"marker\": {\"colorbar\": {\"outlinewidth\": 0, \"ticks\": \"\"}}, \"type\": \"scatter3d\"}], \"scattercarpet\": [{\"marker\": {\"colorbar\": {\"outlinewidth\": 0, \"ticks\": \"\"}}, \"type\": \"scattercarpet\"}], \"scattergeo\": [{\"marker\": {\"colorbar\": {\"outlinewidth\": 0, \"ticks\": \"\"}}, \"type\": \"scattergeo\"}], \"scattergl\": [{\"marker\": {\"colorbar\": {\"outlinewidth\": 0, \"ticks\": \"\"}}, \"type\": \"scattergl\"}], \"scattermapbox\": [{\"marker\": {\"colorbar\": {\"outlinewidth\": 0, \"ticks\": \"\"}}, \"type\": \"scattermapbox\"}], \"scatterpolar\": [{\"marker\": {\"colorbar\": {\"outlinewidth\": 0, \"ticks\": \"\"}}, \"type\": \"scatterpolar\"}], \"scatterpolargl\": [{\"marker\": {\"colorbar\": {\"outlinewidth\": 0, \"ticks\": \"\"}}, \"type\": \"scatterpolargl\"}], \"scatterternary\": [{\"marker\": {\"colorbar\": {\"outlinewidth\": 0, \"ticks\": \"\"}}, \"type\": \"scatterternary\"}], \"surface\": [{\"colorbar\": {\"outlinewidth\": 0, \"ticks\": \"\"}, \"colorscale\": [[0.0, \"#0d0887\"], [0.1111111111111111, \"#46039f\"], [0.2222222222222222, \"#7201a8\"], [0.3333333333333333, \"#9c179e\"], [0.4444444444444444, \"#bd3786\"], [0.5555555555555556, \"#d8576b\"], [0.6666666666666666, \"#ed7953\"], [0.7777777777777778, \"#fb9f3a\"], [0.8888888888888888, \"#fdca26\"], [1.0, \"#f0f921\"]], \"type\": \"surface\"}], \"table\": [{\"cells\": {\"fill\": {\"color\": \"#EBF0F8\"}, \"line\": {\"color\": \"white\"}}, \"header\": {\"fill\": {\"color\": \"#C8D4E3\"}, \"line\": {\"color\": \"white\"}}, \"type\": \"table\"}]}, \"layout\": {\"annotationdefaults\": {\"arrowcolor\": \"#2a3f5f\", \"arrowhead\": 0, \"arrowwidth\": 1}, \"coloraxis\": {\"colorbar\": {\"outlinewidth\": 0, \"ticks\": \"\"}}, \"colorscale\": {\"diverging\": [[0, \"#8e0152\"], [0.1, \"#c51b7d\"], [0.2, \"#de77ae\"], [0.3, \"#f1b6da\"], [0.4, \"#fde0ef\"], [0.5, \"#f7f7f7\"], [0.6, \"#e6f5d0\"], [0.7, \"#b8e186\"], [0.8, \"#7fbc41\"], [0.9, \"#4d9221\"], [1, \"#276419\"]], \"sequential\": [[0.0, \"#0d0887\"], [0.1111111111111111, \"#46039f\"], [0.2222222222222222, \"#7201a8\"], [0.3333333333333333, \"#9c179e\"], [0.4444444444444444, \"#bd3786\"], [0.5555555555555556, \"#d8576b\"], [0.6666666666666666, \"#ed7953\"], [0.7777777777777778, \"#fb9f3a\"], [0.8888888888888888, \"#fdca26\"], [1.0, \"#f0f921\"]], \"sequentialminus\": [[0.0, \"#0d0887\"], [0.1111111111111111, \"#46039f\"], [0.2222222222222222, \"#7201a8\"], [0.3333333333333333, \"#9c179e\"], [0.4444444444444444, \"#bd3786\"], [0.5555555555555556, \"#d8576b\"], [0.6666666666666666, \"#ed7953\"], [0.7777777777777778, \"#fb9f3a\"], [0.8888888888888888, \"#fdca26\"], [1.0, \"#f0f921\"]]}, \"colorway\": [\"#636efa\", \"#EF553B\", \"#00cc96\", \"#ab63fa\", \"#FFA15A\", \"#19d3f3\", \"#FF6692\", \"#B6E880\", \"#FF97FF\", \"#FECB52\"], \"font\": {\"color\": \"#2a3f5f\"}, \"geo\": {\"bgcolor\": \"white\", \"lakecolor\": \"white\", \"landcolor\": \"#E5ECF6\", \"showlakes\": true, \"showland\": true, \"subunitcolor\": \"white\"}, \"hoverlabel\": {\"align\": \"left\"}, \"hovermode\": \"closest\", \"mapbox\": {\"style\": \"light\"}, \"paper_bgcolor\": \"white\", \"plot_bgcolor\": \"#E5ECF6\", \"polar\": {\"angularaxis\": {\"gridcolor\": \"white\", \"linecolor\": \"white\", \"ticks\": \"\"}, \"bgcolor\": \"#E5ECF6\", \"radialaxis\": {\"gridcolor\": \"white\", \"linecolor\": \"white\", \"ticks\": \"\"}}, \"scene\": {\"xaxis\": {\"backgroundcolor\": \"#E5ECF6\", \"gridcolor\": \"white\", \"gridwidth\": 2, \"linecolor\": \"white\", \"showbackground\": true, \"ticks\": \"\", \"zerolinecolor\": \"white\"}, \"yaxis\": {\"backgroundcolor\": \"#E5ECF6\", \"gridcolor\": \"white\", \"gridwidth\": 2, \"linecolor\": \"white\", \"showbackground\": true, \"ticks\": \"\", \"zerolinecolor\": \"white\"}, \"zaxis\": {\"backgroundcolor\": \"#E5ECF6\", \"gridcolor\": \"white\", \"gridwidth\": 2, \"linecolor\": \"white\", \"showbackground\": true, \"ticks\": \"\", \"zerolinecolor\": \"white\"}}, \"shapedefaults\": {\"line\": {\"color\": \"#2a3f5f\"}}, \"ternary\": {\"aaxis\": {\"gridcolor\": \"white\", \"linecolor\": \"white\", \"ticks\": \"\"}, \"baxis\": {\"gridcolor\": \"white\", \"linecolor\": \"white\", \"ticks\": \"\"}, \"bgcolor\": \"#E5ECF6\", \"caxis\": {\"gridcolor\": \"white\", \"linecolor\": \"white\", \"ticks\": \"\"}}, \"title\": {\"x\": 0.05}, \"xaxis\": {\"automargin\": true, \"gridcolor\": \"white\", \"linecolor\": \"white\", \"ticks\": \"\", \"title\": {\"standoff\": 15}, \"zerolinecolor\": \"white\", \"zerolinewidth\": 2}, \"yaxis\": {\"automargin\": true, \"gridcolor\": \"white\", \"linecolor\": \"white\", \"ticks\": \"\", \"title\": {\"standoff\": 15}, \"zerolinecolor\": \"white\", \"zerolinewidth\": 2}}}},\n",
       "                        {\"responsive\": true}\n",
       "                    ).then(function(){\n",
       "                            \n",
       "var gd = document.getElementById('a7c70c11-27e5-49ef-85da-aec19d09bbf0');\n",
       "var x = new MutationObserver(function (mutations, observer) {{\n",
       "        var display = window.getComputedStyle(gd).display;\n",
       "        if (!display || display === 'none') {{\n",
       "            console.log([gd, 'removed!']);\n",
       "            Plotly.purge(gd);\n",
       "            observer.disconnect();\n",
       "        }}\n",
       "}});\n",
       "\n",
       "// Listen for the removal of the full notebook cells\n",
       "var notebookContainer = gd.closest('#notebook-container');\n",
       "if (notebookContainer) {{\n",
       "    x.observe(notebookContainer, {childList: true});\n",
       "}}\n",
       "\n",
       "// Listen for the clearing of the current output cell\n",
       "var outputEl = gd.closest('.output');\n",
       "if (outputEl) {{\n",
       "    x.observe(outputEl, {childList: true});\n",
       "}}\n",
       "\n",
       "                        })\n",
       "                };\n",
       "                });\n",
       "            </script>\n",
       "        </div>"
      ]
     },
     "metadata": {},
     "output_type": "display_data"
    }
   ],
   "source": [
    "pop_fig = px.scatter_geo(population_filtered,   \n",
    "                     locations=\"Country Code\", \n",
    "                     color='2018',\n",
    "                     hover_name=\"Country Name\", \n",
    "                     size='2018',\n",
    "                     projection=\"natural earth\",\n",
    "                     size_max=60,\n",
    "                     color_continuous_scale='RdBu_R')\n",
    "\n",
    "pop_fig.update_layout(\n",
    "        margin=dict(l=20, r=20, t=20, b=20))\n",
    "pop_fig.show()"
   ]
  },
  {
   "cell_type": "markdown",
   "metadata": {},
   "source": [
    "All Data sourced from John Hopkins University COVID-19 Github Repository - https://github.com/CSSEGISandData/COVID-19\n",
    "\n",
    "Global Population Data sourced from World Bank Group - https://data.worldbank.org/indicator/sp.pop.totl"
   ]
  }
 ],
 "metadata": {
  "file_extension": ".py",
  "kernelspec": {
   "display_name": "Python 3",
   "language": "python",
   "name": "python3"
  },
  "language_info": {
   "codemirror_mode": {
    "name": "ipython",
    "version": 3
   },
   "file_extension": ".py",
   "mimetype": "text/x-python",
   "name": "python",
   "nbconvert_exporter": "python",
   "pygments_lexer": "ipython3",
   "version": "3.7.4"
  },
  "mimetype": "text/x-python",
  "name": "python",
  "npconvert_exporter": "python",
  "pygments_lexer": "ipython3",
  "version": 3
 },
 "nbformat": 4,
 "nbformat_minor": 2
}
