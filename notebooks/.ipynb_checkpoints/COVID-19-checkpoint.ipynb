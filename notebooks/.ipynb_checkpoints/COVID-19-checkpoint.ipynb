{
 "cells": [
  {
   "cell_type": "code",
   "execution_count": 2,
   "metadata": {},
   "outputs": [],
   "source": [
    "from __future__ import print_function\n",
    "from ipywidgets import interact, interactive, fixed, interact_manual\n",
    "from IPython.core.display import display, HTML\n",
    "from IPython.display import Image\n",
    "#from plotly.offline import download_plotlyjs, init_notebook_mode, plot, iplot\n",
    "\n",
    "import pandas as pd\n",
    "import numpy as np \n",
    "import plotly.express as px \n",
    "import ipywidgets as widgets\n",
    "import seaborn as sns\n",
    "import matplotlib.pyplot as plt\n",
    "import matplotlib.style\n",
    "import chart_studio as py\n",
    "import plotly.graph_objects as go\n",
    "import datetime \n",
    "\n",
    "plt.style.use('seaborn-darkgrid')\n",
    "\n",
    "#init_notebook_mode(connected=True) "
   ]
  },
  {
   "cell_type": "markdown",
   "metadata": {},
   "source": [
    "# COVID-19 - Dashboard\n"
   ]
  },
  {
   "cell_type": "markdown",
   "metadata": {},
   "source": [
    "##### UPDATE 1: Added Geographic Visualization for 'Global - Population Density' for comparison with 'Global - Confirmed Deaths' -  sourced from World Bank Group - https://data.worldbank.org/indicator/sp.pop.totl (2020-04-21)"
   ]
  },
  {
   "cell_type": "code",
   "execution_count": 3,
   "metadata": {},
   "outputs": [
    {
     "name": "stdout",
     "output_type": "stream",
     "text": [
      "Eric Chee 2020-04-21\n"
     ]
    }
   ],
   "source": [
    "today = datetime.date.today()\n",
    "print('Eric Chee ' + str(today))"
   ]
  },
  {
   "cell_type": "code",
   "execution_count": 4,
   "metadata": {},
   "outputs": [
    {
     "data": {
      "text/html": [
       "<img src=\"https://raw.githubusercontent.com/ericchee08/COVID-19-Dashboard/master/coronavirus-banner.png\"/>"
      ],
      "text/plain": [
       "<IPython.core.display.Image object>"
      ]
     },
     "execution_count": 4,
     "metadata": {},
     "output_type": "execute_result"
    }
   ],
   "source": [
    "Image(url= \"https://raw.githubusercontent.com/ericchee08/COVID-19-Dashboard/master/coronavirus-banner.png\")"
   ]
  },
  {
   "cell_type": "markdown",
   "metadata": {},
   "source": [
    "## World Health Organisation - Overview on Coronavirus \n",
    "\n",
    "Coronavirus disease (COVID-19) is an infectious disease caused by a newly discovered coronavirus.\n",
    "\n",
    "Most people infected with the COVID-19 virus will experience mild to moderate respiratory illness and recover without requiring special treatment.  Older people, and those with underlying medical problems like cardiovascular disease, diabetes, chronic respiratory disease, and cancer are more likely to develop serious illness.\n",
    "\n",
    "The best way to prevent and slow down transmission is be well informed about the COVID-19 virus, the disease it causes and how it spreads. Protect yourself and others from infection by washing your hands or using an alcohol based rub frequently and not touching your face. \n",
    "\n",
    "The COVID-19 virus spreads primarily through droplets of saliva or discharge from the nose when an infected person coughs or sneezes, so it’s important that you also practice respiratory etiquette (for example, by coughing into a flexed elbow).\n",
    "\n",
    "At this time, there are no specific vaccines or treatments for COVID-19. However, there are many ongoing clinical trials evaluating potential treatments."
   ]
  },
  {
   "cell_type": "code",
   "execution_count": 5,
   "metadata": {},
   "outputs": [
    {
     "data": {
      "text/html": [
       "<img src=\"https://raw.githubusercontent.com/ericchee08/COVID-19-Dashboard/master/123.png\"/>"
      ],
      "text/plain": [
       "<IPython.core.display.Image object>"
      ]
     },
     "execution_count": 5,
     "metadata": {},
     "output_type": "execute_result"
    }
   ],
   "source": [
    "Image(url= \"https://raw.githubusercontent.com/ericchee08/COVID-19-Dashboard/master/123.png\")"
   ]
  },
  {
   "cell_type": "markdown",
   "metadata": {},
   "source": [
    "## To prevent infection and to slow transmission of COVID-19, do the following:\n",
    "\n",
    "- -Wash your hands regularly with soap and water, or clean them with alcohol-based hand rub.\n",
    "- -Maintain at least 1 metre distance between you and people coughing or sneezing.\n",
    "- -Avoid touching your face.\n",
    "- -Cover your mouth and nose when coughing or sneezing.\n",
    "- -Stay home if you feel unwell.\n",
    "- -Refrain from smoking and other activities that weaken the lungs.\n",
    "- -Practice physical distancing by avoiding unnecessary travel and staying away from large groups of people"
   ]
  },
  {
   "cell_type": "code",
   "execution_count": 6,
   "metadata": {},
   "outputs": [
    {
     "data": {
      "text/html": [
       "<img src=\"https://raw.githubusercontent.com/ericchee08/COVID-19-Dashboard/master/1234.png\"/>"
      ],
      "text/plain": [
       "<IPython.core.display.Image object>"
      ]
     },
     "execution_count": 6,
     "metadata": {},
     "output_type": "execute_result"
    }
   ],
   "source": [
    "Image(url=\"https://raw.githubusercontent.com/ericchee08/COVID-19-Dashboard/master/1234.png\")"
   ]
  },
  {
   "cell_type": "markdown",
   "metadata": {},
   "source": [
    "## Symptoms \n",
    "\n",
    "The COVID-19 virus affects different people in different ways.  COVID-19 is a respiratory disease and most infected people will develop mild to moderate symptoms and recover without requiring special treatment.  People who have underlying medical conditions and those over 60 years old have a higher risk of developing severe disease and death.\n",
    "\n",
    "Common symptoms include:\n",
    "\n",
    "- -fever\n",
    "- -tiredness\n",
    "- -dry cough\n",
    "- -shortness of breath\n",
    "- -aches and pains\n",
    "- -sore throat\n",
    "- -and very few people will report diarrhoea, nausea or a runny nose\n",
    "\n",
    "People with mild symptoms who are otherwise healthy should self-isolate and contact their medical provider or a COVID-19 information line for advice on testing and referral.\n",
    "\n",
    "People with fever, cough or difficulty breathing should call their doctor and seek medical attention.\n",
    "\n",
    "**All information above can be found on the World Health Orginisation Coronavirus Health Topic section.**"
   ]
  },
  {
   "cell_type": "code",
   "execution_count": 7,
   "metadata": {},
   "outputs": [
    {
     "data": {
      "text/html": [
       "<img src=\"https://raw.githubusercontent.com/ericchee08/COVID-19-Dashboard/master/12345.png\"/>"
      ],
      "text/plain": [
       "<IPython.core.display.Image object>"
      ]
     },
     "execution_count": 7,
     "metadata": {},
     "output_type": "execute_result"
    }
   ],
   "source": [
    "Image(url=\"https://raw.githubusercontent.com/ericchee08/COVID-19-Dashboard/master/12345.png\")"
   ]
  },
  {
   "cell_type": "code",
   "execution_count": 8,
   "metadata": {},
   "outputs": [],
   "source": [
    "death_df = pd.read_csv(\"https://raw.githubusercontent.com/CSSEGISandData/COVID-19/master/csse_covid_19_data/csse_covid_19_time_series/time_series_covid19_deaths_global.csv\")\n",
    "confirmed_df = pd.read_csv(\"https://raw.githubusercontent.com/CSSEGISandData/COVID-19/master/csse_covid_19_data/csse_covid_19_time_series/time_series_covid19_confirmed_global.csv\")\n",
    "recovered_df = pd.read_csv(\"https://raw.githubusercontent.com/CSSEGISandData/COVID-19/master/csse_covid_19_data/csse_covid_19_time_series/time_series_covid19_recovered_global.csv\")\n",
    "country_df = pd.read_csv(\"https://raw.githubusercontent.com/CSSEGISandData/COVID-19/web-data/data/cases_country.csv\")"
   ]
  },
  {
   "cell_type": "code",
   "execution_count": 9,
   "metadata": {},
   "outputs": [],
   "source": [
    "# death_df.head()"
   ]
  },
  {
   "cell_type": "code",
   "execution_count": 10,
   "metadata": {},
   "outputs": [],
   "source": [
    "# recovered_df.head()"
   ]
  },
  {
   "cell_type": "code",
   "execution_count": 11,
   "metadata": {},
   "outputs": [],
   "source": [
    "# confirmed_df.head()"
   ]
  },
  {
   "cell_type": "code",
   "execution_count": 12,
   "metadata": {},
   "outputs": [],
   "source": [
    "# country_df.head()"
   ]
  },
  {
   "cell_type": "code",
   "execution_count": 13,
   "metadata": {},
   "outputs": [],
   "source": [
    "# data cleaning - making all columns lower case \n",
    "\n",
    "country_df.columns = map(str.lower, country_df.columns)\n",
    "recovered_df.columns = map(str.lower, recovered_df.columns)\n",
    "death_df.columns = map(str.lower, death_df.columns)\n",
    "confirmed_df.columns = map(str.lower, confirmed_df.columns)"
   ]
  },
  {
   "cell_type": "code",
   "execution_count": 14,
   "metadata": {},
   "outputs": [],
   "source": [
    "# data cleaning - renaming columns \n",
    "\n",
    "confirmed_df = confirmed_df.rename(columns = {'province/state': 'state', 'country/region': 'country'})\n",
    "recovered_df = recovered_df.rename(columns = {'province/state': 'state', 'country/region': 'country'})\n",
    "death_df = death_df.rename(columns = {'province/state': 'state', 'country/region': 'country'})\n",
    "country_df = country_df.rename(columns = {'country_region': 'country','iso3': 'Country', 'mortality_rate': 'mortality rate %','last_update':'updated'})"
   ]
  },
  {
   "cell_type": "code",
   "execution_count": 15,
   "metadata": {},
   "outputs": [],
   "source": [
    "# data cleaning - sorting the countries from worst case scenarios \n",
    "sorted_country_df = country_df.sort_values('confirmed', ascending=False)"
   ]
  },
  {
   "cell_type": "code",
   "execution_count": 16,
   "metadata": {},
   "outputs": [],
   "source": [
    "# sorted_country_df.head()"
   ]
  },
  {
   "cell_type": "markdown",
   "metadata": {},
   "source": [
    "# COVID-19 Confirmed Cases, Recovered and Deaths by Country "
   ]
  },
  {
   "cell_type": "code",
   "execution_count": 17,
   "metadata": {},
   "outputs": [
    {
     "data": {
      "text/html": [
       "<style  type=\"text/css\" >\n",
       "    #T_0b30ef5c_840d_11ea_90ba_fcaa14e7ba64row0_col2 {\n",
       "            background-color:  yellow;\n",
       "        }    #T_0b30ef5c_840d_11ea_90ba_fcaa14e7ba64row0_col3 {\n",
       "            background-color:  red;\n",
       "        }    #T_0b30ef5c_840d_11ea_90ba_fcaa14e7ba64row0_col4 {\n",
       "            background-color:  green;\n",
       "        }    #T_0b30ef5c_840d_11ea_90ba_fcaa14e7ba64row1_col2 {\n",
       "            background-color:  yellow;\n",
       "        }    #T_0b30ef5c_840d_11ea_90ba_fcaa14e7ba64row1_col3 {\n",
       "            background-color:  red;\n",
       "        }    #T_0b30ef5c_840d_11ea_90ba_fcaa14e7ba64row1_col4 {\n",
       "            background-color:  green;\n",
       "        }    #T_0b30ef5c_840d_11ea_90ba_fcaa14e7ba64row2_col2 {\n",
       "            background-color:  yellow;\n",
       "        }    #T_0b30ef5c_840d_11ea_90ba_fcaa14e7ba64row2_col3 {\n",
       "            background-color:  red;\n",
       "        }    #T_0b30ef5c_840d_11ea_90ba_fcaa14e7ba64row2_col4 {\n",
       "            background-color:  green;\n",
       "        }    #T_0b30ef5c_840d_11ea_90ba_fcaa14e7ba64row3_col2 {\n",
       "            background-color:  yellow;\n",
       "        }    #T_0b30ef5c_840d_11ea_90ba_fcaa14e7ba64row3_col3 {\n",
       "            background-color:  red;\n",
       "        }    #T_0b30ef5c_840d_11ea_90ba_fcaa14e7ba64row3_col4 {\n",
       "            background-color:  green;\n",
       "        }    #T_0b30ef5c_840d_11ea_90ba_fcaa14e7ba64row4_col2 {\n",
       "            background-color:  yellow;\n",
       "        }    #T_0b30ef5c_840d_11ea_90ba_fcaa14e7ba64row4_col3 {\n",
       "            background-color:  red;\n",
       "        }    #T_0b30ef5c_840d_11ea_90ba_fcaa14e7ba64row4_col4 {\n",
       "            background-color:  green;\n",
       "        }    #T_0b30ef5c_840d_11ea_90ba_fcaa14e7ba64row5_col2 {\n",
       "            background-color:  yellow;\n",
       "        }    #T_0b30ef5c_840d_11ea_90ba_fcaa14e7ba64row5_col3 {\n",
       "            background-color:  red;\n",
       "        }    #T_0b30ef5c_840d_11ea_90ba_fcaa14e7ba64row5_col4 {\n",
       "            background-color:  green;\n",
       "        }    #T_0b30ef5c_840d_11ea_90ba_fcaa14e7ba64row6_col2 {\n",
       "            background-color:  yellow;\n",
       "        }    #T_0b30ef5c_840d_11ea_90ba_fcaa14e7ba64row6_col3 {\n",
       "            background-color:  red;\n",
       "        }    #T_0b30ef5c_840d_11ea_90ba_fcaa14e7ba64row6_col4 {\n",
       "            background-color:  green;\n",
       "        }    #T_0b30ef5c_840d_11ea_90ba_fcaa14e7ba64row7_col2 {\n",
       "            background-color:  yellow;\n",
       "        }    #T_0b30ef5c_840d_11ea_90ba_fcaa14e7ba64row7_col3 {\n",
       "            background-color:  red;\n",
       "        }    #T_0b30ef5c_840d_11ea_90ba_fcaa14e7ba64row7_col4 {\n",
       "            background-color:  green;\n",
       "        }    #T_0b30ef5c_840d_11ea_90ba_fcaa14e7ba64row8_col2 {\n",
       "            background-color:  yellow;\n",
       "        }    #T_0b30ef5c_840d_11ea_90ba_fcaa14e7ba64row8_col3 {\n",
       "            background-color:  red;\n",
       "        }    #T_0b30ef5c_840d_11ea_90ba_fcaa14e7ba64row8_col4 {\n",
       "            background-color:  green;\n",
       "        }    #T_0b30ef5c_840d_11ea_90ba_fcaa14e7ba64row9_col2 {\n",
       "            background-color:  yellow;\n",
       "        }    #T_0b30ef5c_840d_11ea_90ba_fcaa14e7ba64row9_col3 {\n",
       "            background-color:  red;\n",
       "        }    #T_0b30ef5c_840d_11ea_90ba_fcaa14e7ba64row9_col4 {\n",
       "            background-color:  green;\n",
       "        }    #T_0b30ef5c_840d_11ea_90ba_fcaa14e7ba64row10_col2 {\n",
       "            background-color:  yellow;\n",
       "        }    #T_0b30ef5c_840d_11ea_90ba_fcaa14e7ba64row10_col3 {\n",
       "            background-color:  red;\n",
       "        }    #T_0b30ef5c_840d_11ea_90ba_fcaa14e7ba64row10_col4 {\n",
       "            background-color:  green;\n",
       "        }    #T_0b30ef5c_840d_11ea_90ba_fcaa14e7ba64row11_col2 {\n",
       "            background-color:  yellow;\n",
       "        }    #T_0b30ef5c_840d_11ea_90ba_fcaa14e7ba64row11_col3 {\n",
       "            background-color:  red;\n",
       "        }    #T_0b30ef5c_840d_11ea_90ba_fcaa14e7ba64row11_col4 {\n",
       "            background-color:  green;\n",
       "        }    #T_0b30ef5c_840d_11ea_90ba_fcaa14e7ba64row12_col2 {\n",
       "            background-color:  yellow;\n",
       "        }    #T_0b30ef5c_840d_11ea_90ba_fcaa14e7ba64row12_col3 {\n",
       "            background-color:  red;\n",
       "        }    #T_0b30ef5c_840d_11ea_90ba_fcaa14e7ba64row12_col4 {\n",
       "            background-color:  green;\n",
       "        }    #T_0b30ef5c_840d_11ea_90ba_fcaa14e7ba64row13_col2 {\n",
       "            background-color:  yellow;\n",
       "        }    #T_0b30ef5c_840d_11ea_90ba_fcaa14e7ba64row13_col3 {\n",
       "            background-color:  red;\n",
       "        }    #T_0b30ef5c_840d_11ea_90ba_fcaa14e7ba64row13_col4 {\n",
       "            background-color:  green;\n",
       "        }    #T_0b30ef5c_840d_11ea_90ba_fcaa14e7ba64row14_col2 {\n",
       "            background-color:  yellow;\n",
       "        }    #T_0b30ef5c_840d_11ea_90ba_fcaa14e7ba64row14_col3 {\n",
       "            background-color:  red;\n",
       "        }    #T_0b30ef5c_840d_11ea_90ba_fcaa14e7ba64row14_col4 {\n",
       "            background-color:  green;\n",
       "        }    #T_0b30ef5c_840d_11ea_90ba_fcaa14e7ba64row15_col2 {\n",
       "            background-color:  yellow;\n",
       "        }    #T_0b30ef5c_840d_11ea_90ba_fcaa14e7ba64row15_col3 {\n",
       "            background-color:  red;\n",
       "        }    #T_0b30ef5c_840d_11ea_90ba_fcaa14e7ba64row15_col4 {\n",
       "            background-color:  green;\n",
       "        }    #T_0b30ef5c_840d_11ea_90ba_fcaa14e7ba64row16_col2 {\n",
       "            background-color:  yellow;\n",
       "        }    #T_0b30ef5c_840d_11ea_90ba_fcaa14e7ba64row16_col3 {\n",
       "            background-color:  red;\n",
       "        }    #T_0b30ef5c_840d_11ea_90ba_fcaa14e7ba64row16_col4 {\n",
       "            background-color:  green;\n",
       "        }    #T_0b30ef5c_840d_11ea_90ba_fcaa14e7ba64row17_col2 {\n",
       "            background-color:  yellow;\n",
       "        }    #T_0b30ef5c_840d_11ea_90ba_fcaa14e7ba64row17_col3 {\n",
       "            background-color:  red;\n",
       "        }    #T_0b30ef5c_840d_11ea_90ba_fcaa14e7ba64row17_col4 {\n",
       "            background-color:  green;\n",
       "        }    #T_0b30ef5c_840d_11ea_90ba_fcaa14e7ba64row18_col2 {\n",
       "            background-color:  yellow;\n",
       "        }    #T_0b30ef5c_840d_11ea_90ba_fcaa14e7ba64row18_col3 {\n",
       "            background-color:  red;\n",
       "        }    #T_0b30ef5c_840d_11ea_90ba_fcaa14e7ba64row18_col4 {\n",
       "            background-color:  green;\n",
       "        }    #T_0b30ef5c_840d_11ea_90ba_fcaa14e7ba64row19_col2 {\n",
       "            background-color:  yellow;\n",
       "        }    #T_0b30ef5c_840d_11ea_90ba_fcaa14e7ba64row19_col3 {\n",
       "            background-color:  red;\n",
       "        }    #T_0b30ef5c_840d_11ea_90ba_fcaa14e7ba64row19_col4 {\n",
       "            background-color:  green;\n",
       "        }</style><table id=\"T_0b30ef5c_840d_11ea_90ba_fcaa14e7ba64\" ><thead>    <tr>        <th class=\"blank level0\" ></th>        <th class=\"col_heading level0 col0\" >updated</th>        <th class=\"col_heading level0 col1\" >country</th>        <th class=\"col_heading level0 col2\" >confirmed</th>        <th class=\"col_heading level0 col3\" >deaths</th>        <th class=\"col_heading level0 col4\" >recovered</th>        <th class=\"col_heading level0 col5\" >active</th>        <th class=\"col_heading level0 col6\" >mortality rate %</th>    </tr></thead><tbody>\n",
       "                <tr>\n",
       "                        <th id=\"T_0b30ef5c_840d_11ea_90ba_fcaa14e7ba64level0_row0\" class=\"row_heading level0 row0\" >17</th>\n",
       "                        <td id=\"T_0b30ef5c_840d_11ea_90ba_fcaa14e7ba64row0_col0\" class=\"data row0 col0\" >2020-04-21 19:38:32</td>\n",
       "                        <td id=\"T_0b30ef5c_840d_11ea_90ba_fcaa14e7ba64row0_col1\" class=\"data row0 col1\" >US</td>\n",
       "                        <td id=\"T_0b30ef5c_840d_11ea_90ba_fcaa14e7ba64row0_col2\" class=\"data row0 col2\" >814587</td>\n",
       "                        <td id=\"T_0b30ef5c_840d_11ea_90ba_fcaa14e7ba64row0_col3\" class=\"data row0 col3\" >43796</td>\n",
       "                        <td id=\"T_0b30ef5c_840d_11ea_90ba_fcaa14e7ba64row0_col4\" class=\"data row0 col4\" >74906</td>\n",
       "                        <td id=\"T_0b30ef5c_840d_11ea_90ba_fcaa14e7ba64row0_col5\" class=\"data row0 col5\" >695885</td>\n",
       "                        <td id=\"T_0b30ef5c_840d_11ea_90ba_fcaa14e7ba64row0_col6\" class=\"data row0 col6\" >5.37647</td>\n",
       "            </tr>\n",
       "            <tr>\n",
       "                        <th id=\"T_0b30ef5c_840d_11ea_90ba_fcaa14e7ba64level0_row1\" class=\"row_heading level0 row1\" >160</th>\n",
       "                        <td id=\"T_0b30ef5c_840d_11ea_90ba_fcaa14e7ba64row1_col0\" class=\"data row1 col0\" >2020-04-21 19:30:32</td>\n",
       "                        <td id=\"T_0b30ef5c_840d_11ea_90ba_fcaa14e7ba64row1_col1\" class=\"data row1 col1\" >Spain</td>\n",
       "                        <td id=\"T_0b30ef5c_840d_11ea_90ba_fcaa14e7ba64row1_col2\" class=\"data row1 col2\" >204178</td>\n",
       "                        <td id=\"T_0b30ef5c_840d_11ea_90ba_fcaa14e7ba64row1_col3\" class=\"data row1 col3\" >21282</td>\n",
       "                        <td id=\"T_0b30ef5c_840d_11ea_90ba_fcaa14e7ba64row1_col4\" class=\"data row1 col4\" >82514</td>\n",
       "                        <td id=\"T_0b30ef5c_840d_11ea_90ba_fcaa14e7ba64row1_col5\" class=\"data row1 col5\" >100382</td>\n",
       "                        <td id=\"T_0b30ef5c_840d_11ea_90ba_fcaa14e7ba64row1_col6\" class=\"data row1 col6\" >10.4233</td>\n",
       "            </tr>\n",
       "            <tr>\n",
       "                        <th id=\"T_0b30ef5c_840d_11ea_90ba_fcaa14e7ba64level0_row2\" class=\"row_heading level0 row2\" >10</th>\n",
       "                        <td id=\"T_0b30ef5c_840d_11ea_90ba_fcaa14e7ba64row2_col0\" class=\"data row2 col0\" >2020-04-21 19:30:32</td>\n",
       "                        <td id=\"T_0b30ef5c_840d_11ea_90ba_fcaa14e7ba64row2_col1\" class=\"data row2 col1\" >Italy</td>\n",
       "                        <td id=\"T_0b30ef5c_840d_11ea_90ba_fcaa14e7ba64row2_col2\" class=\"data row2 col2\" >183957</td>\n",
       "                        <td id=\"T_0b30ef5c_840d_11ea_90ba_fcaa14e7ba64row2_col3\" class=\"data row2 col3\" >24648</td>\n",
       "                        <td id=\"T_0b30ef5c_840d_11ea_90ba_fcaa14e7ba64row2_col4\" class=\"data row2 col4\" >51600</td>\n",
       "                        <td id=\"T_0b30ef5c_840d_11ea_90ba_fcaa14e7ba64row2_col5\" class=\"data row2 col5\" >107709</td>\n",
       "                        <td id=\"T_0b30ef5c_840d_11ea_90ba_fcaa14e7ba64row2_col6\" class=\"data row2 col6\" >13.3988</td>\n",
       "            </tr>\n",
       "            <tr>\n",
       "                        <th id=\"T_0b30ef5c_840d_11ea_90ba_fcaa14e7ba64level0_row3\" class=\"row_heading level0 row3\" >6</th>\n",
       "                        <td id=\"T_0b30ef5c_840d_11ea_90ba_fcaa14e7ba64row3_col0\" class=\"data row3 col0\" >2020-04-21 19:30:32</td>\n",
       "                        <td id=\"T_0b30ef5c_840d_11ea_90ba_fcaa14e7ba64row3_col1\" class=\"data row3 col1\" >France</td>\n",
       "                        <td id=\"T_0b30ef5c_840d_11ea_90ba_fcaa14e7ba64row3_col2\" class=\"data row3 col2\" >156522</td>\n",
       "                        <td id=\"T_0b30ef5c_840d_11ea_90ba_fcaa14e7ba64row3_col3\" class=\"data row3 col3\" >20829</td>\n",
       "                        <td id=\"T_0b30ef5c_840d_11ea_90ba_fcaa14e7ba64row3_col4\" class=\"data row3 col4\" >39818</td>\n",
       "                        <td id=\"T_0b30ef5c_840d_11ea_90ba_fcaa14e7ba64row3_col5\" class=\"data row3 col5\" >95875</td>\n",
       "                        <td id=\"T_0b30ef5c_840d_11ea_90ba_fcaa14e7ba64row3_col6\" class=\"data row3 col6\" >13.3074</td>\n",
       "            </tr>\n",
       "            <tr>\n",
       "                        <th id=\"T_0b30ef5c_840d_11ea_90ba_fcaa14e7ba64level0_row4\" class=\"row_heading level0 row4\" >7</th>\n",
       "                        <td id=\"T_0b30ef5c_840d_11ea_90ba_fcaa14e7ba64row4_col0\" class=\"data row4 col0\" >2020-04-21 19:30:32</td>\n",
       "                        <td id=\"T_0b30ef5c_840d_11ea_90ba_fcaa14e7ba64row4_col1\" class=\"data row4 col1\" >Germany</td>\n",
       "                        <td id=\"T_0b30ef5c_840d_11ea_90ba_fcaa14e7ba64row4_col2\" class=\"data row4 col2\" >148174</td>\n",
       "                        <td id=\"T_0b30ef5c_840d_11ea_90ba_fcaa14e7ba64row4_col3\" class=\"data row4 col3\" >4961</td>\n",
       "                        <td id=\"T_0b30ef5c_840d_11ea_90ba_fcaa14e7ba64row4_col4\" class=\"data row4 col4\" >95200</td>\n",
       "                        <td id=\"T_0b30ef5c_840d_11ea_90ba_fcaa14e7ba64row4_col5\" class=\"data row4 col5\" >48013</td>\n",
       "                        <td id=\"T_0b30ef5c_840d_11ea_90ba_fcaa14e7ba64row4_col6\" class=\"data row4 col6\" >3.34809</td>\n",
       "            </tr>\n",
       "            <tr>\n",
       "                        <th id=\"T_0b30ef5c_840d_11ea_90ba_fcaa14e7ba64level0_row5\" class=\"row_heading level0 row5\" >16</th>\n",
       "                        <td id=\"T_0b30ef5c_840d_11ea_90ba_fcaa14e7ba64row5_col0\" class=\"data row5 col0\" >2020-04-21 19:30:32</td>\n",
       "                        <td id=\"T_0b30ef5c_840d_11ea_90ba_fcaa14e7ba64row5_col1\" class=\"data row5 col1\" >United Kingdom</td>\n",
       "                        <td id=\"T_0b30ef5c_840d_11ea_90ba_fcaa14e7ba64row5_col2\" class=\"data row5 col2\" >130172</td>\n",
       "                        <td id=\"T_0b30ef5c_840d_11ea_90ba_fcaa14e7ba64row5_col3\" class=\"data row5 col3\" >17378</td>\n",
       "                        <td id=\"T_0b30ef5c_840d_11ea_90ba_fcaa14e7ba64row5_col4\" class=\"data row5 col4\" >638</td>\n",
       "                        <td id=\"T_0b30ef5c_840d_11ea_90ba_fcaa14e7ba64row5_col5\" class=\"data row5 col5\" >112156</td>\n",
       "                        <td id=\"T_0b30ef5c_840d_11ea_90ba_fcaa14e7ba64row5_col6\" class=\"data row5 col6\" >13.35</td>\n",
       "            </tr>\n",
       "            <tr>\n",
       "                        <th id=\"T_0b30ef5c_840d_11ea_90ba_fcaa14e7ba64level0_row6\" class=\"row_heading level0 row6\" >172</th>\n",
       "                        <td id=\"T_0b30ef5c_840d_11ea_90ba_fcaa14e7ba64row6_col0\" class=\"data row6 col0\" >2020-04-21 19:30:32</td>\n",
       "                        <td id=\"T_0b30ef5c_840d_11ea_90ba_fcaa14e7ba64row6_col1\" class=\"data row6 col1\" >Turkey</td>\n",
       "                        <td id=\"T_0b30ef5c_840d_11ea_90ba_fcaa14e7ba64row6_col2\" class=\"data row6 col2\" >95591</td>\n",
       "                        <td id=\"T_0b30ef5c_840d_11ea_90ba_fcaa14e7ba64row6_col3\" class=\"data row6 col3\" >2259</td>\n",
       "                        <td id=\"T_0b30ef5c_840d_11ea_90ba_fcaa14e7ba64row6_col4\" class=\"data row6 col4\" >14918</td>\n",
       "                        <td id=\"T_0b30ef5c_840d_11ea_90ba_fcaa14e7ba64row6_col5\" class=\"data row6 col5\" >78414</td>\n",
       "                        <td id=\"T_0b30ef5c_840d_11ea_90ba_fcaa14e7ba64row6_col6\" class=\"data row6 col6\" >2.36319</td>\n",
       "            </tr>\n",
       "            <tr>\n",
       "                        <th id=\"T_0b30ef5c_840d_11ea_90ba_fcaa14e7ba64level0_row7\" class=\"row_heading level0 row7\" >89</th>\n",
       "                        <td id=\"T_0b30ef5c_840d_11ea_90ba_fcaa14e7ba64row7_col0\" class=\"data row7 col0\" >2020-04-21 19:30:32</td>\n",
       "                        <td id=\"T_0b30ef5c_840d_11ea_90ba_fcaa14e7ba64row7_col1\" class=\"data row7 col1\" >Iran</td>\n",
       "                        <td id=\"T_0b30ef5c_840d_11ea_90ba_fcaa14e7ba64row7_col2\" class=\"data row7 col2\" >84802</td>\n",
       "                        <td id=\"T_0b30ef5c_840d_11ea_90ba_fcaa14e7ba64row7_col3\" class=\"data row7 col3\" >5297</td>\n",
       "                        <td id=\"T_0b30ef5c_840d_11ea_90ba_fcaa14e7ba64row7_col4\" class=\"data row7 col4\" >60965</td>\n",
       "                        <td id=\"T_0b30ef5c_840d_11ea_90ba_fcaa14e7ba64row7_col5\" class=\"data row7 col5\" >18540</td>\n",
       "                        <td id=\"T_0b30ef5c_840d_11ea_90ba_fcaa14e7ba64row7_col6\" class=\"data row7 col6\" >6.24631</td>\n",
       "            </tr>\n",
       "            <tr>\n",
       "                        <th id=\"T_0b30ef5c_840d_11ea_90ba_fcaa14e7ba64level0_row8\" class=\"row_heading level0 row8\" >3</th>\n",
       "                        <td id=\"T_0b30ef5c_840d_11ea_90ba_fcaa14e7ba64row8_col0\" class=\"data row8 col0\" >2020-04-21 12:33:57</td>\n",
       "                        <td id=\"T_0b30ef5c_840d_11ea_90ba_fcaa14e7ba64row8_col1\" class=\"data row8 col1\" >China</td>\n",
       "                        <td id=\"T_0b30ef5c_840d_11ea_90ba_fcaa14e7ba64row8_col2\" class=\"data row8 col2\" >83853</td>\n",
       "                        <td id=\"T_0b30ef5c_840d_11ea_90ba_fcaa14e7ba64row8_col3\" class=\"data row8 col3\" >4636</td>\n",
       "                        <td id=\"T_0b30ef5c_840d_11ea_90ba_fcaa14e7ba64row8_col4\" class=\"data row8 col4\" >77799</td>\n",
       "                        <td id=\"T_0b30ef5c_840d_11ea_90ba_fcaa14e7ba64row8_col5\" class=\"data row8 col5\" >1418</td>\n",
       "                        <td id=\"T_0b30ef5c_840d_11ea_90ba_fcaa14e7ba64row8_col6\" class=\"data row8 col6\" >5.52872</td>\n",
       "            </tr>\n",
       "            <tr>\n",
       "                        <th id=\"T_0b30ef5c_840d_11ea_90ba_fcaa14e7ba64level0_row9\" class=\"row_heading level0 row9\" >13</th>\n",
       "                        <td id=\"T_0b30ef5c_840d_11ea_90ba_fcaa14e7ba64row9_col0\" class=\"data row9 col0\" >2020-04-21 19:30:32</td>\n",
       "                        <td id=\"T_0b30ef5c_840d_11ea_90ba_fcaa14e7ba64row9_col1\" class=\"data row9 col1\" >Russia</td>\n",
       "                        <td id=\"T_0b30ef5c_840d_11ea_90ba_fcaa14e7ba64row9_col2\" class=\"data row9 col2\" >52763</td>\n",
       "                        <td id=\"T_0b30ef5c_840d_11ea_90ba_fcaa14e7ba64row9_col3\" class=\"data row9 col3\" >456</td>\n",
       "                        <td id=\"T_0b30ef5c_840d_11ea_90ba_fcaa14e7ba64row9_col4\" class=\"data row9 col4\" >3873</td>\n",
       "                        <td id=\"T_0b30ef5c_840d_11ea_90ba_fcaa14e7ba64row9_col5\" class=\"data row9 col5\" >48434</td>\n",
       "                        <td id=\"T_0b30ef5c_840d_11ea_90ba_fcaa14e7ba64row9_col6\" class=\"data row9 col6\" >0.864242</td>\n",
       "            </tr>\n",
       "            <tr>\n",
       "                        <th id=\"T_0b30ef5c_840d_11ea_90ba_fcaa14e7ba64level0_row10\" class=\"row_heading level0 row10\" >32</th>\n",
       "                        <td id=\"T_0b30ef5c_840d_11ea_90ba_fcaa14e7ba64row10_col0\" class=\"data row10 col0\" >2020-04-21 19:30:32</td>\n",
       "                        <td id=\"T_0b30ef5c_840d_11ea_90ba_fcaa14e7ba64row10_col1\" class=\"data row10 col1\" >Belgium</td>\n",
       "                        <td id=\"T_0b30ef5c_840d_11ea_90ba_fcaa14e7ba64row10_col2\" class=\"data row10 col2\" >40956</td>\n",
       "                        <td id=\"T_0b30ef5c_840d_11ea_90ba_fcaa14e7ba64row10_col3\" class=\"data row10 col3\" >5998</td>\n",
       "                        <td id=\"T_0b30ef5c_840d_11ea_90ba_fcaa14e7ba64row10_col4\" class=\"data row10 col4\" >9002</td>\n",
       "                        <td id=\"T_0b30ef5c_840d_11ea_90ba_fcaa14e7ba64row10_col5\" class=\"data row10 col5\" >25956</td>\n",
       "                        <td id=\"T_0b30ef5c_840d_11ea_90ba_fcaa14e7ba64row10_col6\" class=\"data row10 col6\" >14.645</td>\n",
       "            </tr>\n",
       "            <tr>\n",
       "                        <th id=\"T_0b30ef5c_840d_11ea_90ba_fcaa14e7ba64level0_row11\" class=\"row_heading level0 row11\" >39</th>\n",
       "                        <td id=\"T_0b30ef5c_840d_11ea_90ba_fcaa14e7ba64row11_col0\" class=\"data row11 col0\" >2020-04-21 19:30:32</td>\n",
       "                        <td id=\"T_0b30ef5c_840d_11ea_90ba_fcaa14e7ba64row11_col1\" class=\"data row11 col1\" >Brazil</td>\n",
       "                        <td id=\"T_0b30ef5c_840d_11ea_90ba_fcaa14e7ba64row11_col2\" class=\"data row11 col2\" >40814</td>\n",
       "                        <td id=\"T_0b30ef5c_840d_11ea_90ba_fcaa14e7ba64row11_col3\" class=\"data row11 col3\" >2588</td>\n",
       "                        <td id=\"T_0b30ef5c_840d_11ea_90ba_fcaa14e7ba64row11_col4\" class=\"data row11 col4\" >22991</td>\n",
       "                        <td id=\"T_0b30ef5c_840d_11ea_90ba_fcaa14e7ba64row11_col5\" class=\"data row11 col5\" >15235</td>\n",
       "                        <td id=\"T_0b30ef5c_840d_11ea_90ba_fcaa14e7ba64row11_col6\" class=\"data row11 col6\" >6.34096</td>\n",
       "            </tr>\n",
       "            <tr>\n",
       "                        <th id=\"T_0b30ef5c_840d_11ea_90ba_fcaa14e7ba64level0_row12\" class=\"row_heading level0 row12\" >2</th>\n",
       "                        <td id=\"T_0b30ef5c_840d_11ea_90ba_fcaa14e7ba64row12_col0\" class=\"data row12 col0\" >2020-04-21 19:38:34</td>\n",
       "                        <td id=\"T_0b30ef5c_840d_11ea_90ba_fcaa14e7ba64row12_col1\" class=\"data row12 col1\" >Canada</td>\n",
       "                        <td id=\"T_0b30ef5c_840d_11ea_90ba_fcaa14e7ba64row12_col2\" class=\"data row12 col2\" >38912</td>\n",
       "                        <td id=\"T_0b30ef5c_840d_11ea_90ba_fcaa14e7ba64row12_col3\" class=\"data row12 col3\" >1872</td>\n",
       "                        <td id=\"T_0b30ef5c_840d_11ea_90ba_fcaa14e7ba64row12_col4\" class=\"data row12 col4\" >12917</td>\n",
       "                        <td id=\"T_0b30ef5c_840d_11ea_90ba_fcaa14e7ba64row12_col5\" class=\"data row12 col5\" >24123</td>\n",
       "                        <td id=\"T_0b30ef5c_840d_11ea_90ba_fcaa14e7ba64row12_col6\" class=\"data row12 col6\" >4.81086</td>\n",
       "            </tr>\n",
       "            <tr>\n",
       "                        <th id=\"T_0b30ef5c_840d_11ea_90ba_fcaa14e7ba64level0_row13\" class=\"row_heading level0 row13\" >11</th>\n",
       "                        <td id=\"T_0b30ef5c_840d_11ea_90ba_fcaa14e7ba64row13_col0\" class=\"data row13 col0\" >2020-04-21 19:30:32</td>\n",
       "                        <td id=\"T_0b30ef5c_840d_11ea_90ba_fcaa14e7ba64row13_col1\" class=\"data row13 col1\" >Netherlands</td>\n",
       "                        <td id=\"T_0b30ef5c_840d_11ea_90ba_fcaa14e7ba64row13_col2\" class=\"data row13 col2\" >34317</td>\n",
       "                        <td id=\"T_0b30ef5c_840d_11ea_90ba_fcaa14e7ba64row13_col3\" class=\"data row13 col3\" >3929</td>\n",
       "                        <td id=\"T_0b30ef5c_840d_11ea_90ba_fcaa14e7ba64row13_col4\" class=\"data row13 col4\" >74</td>\n",
       "                        <td id=\"T_0b30ef5c_840d_11ea_90ba_fcaa14e7ba64row13_col5\" class=\"data row13 col5\" >30314</td>\n",
       "                        <td id=\"T_0b30ef5c_840d_11ea_90ba_fcaa14e7ba64row13_col6\" class=\"data row13 col6\" >11.4491</td>\n",
       "            </tr>\n",
       "            <tr>\n",
       "                        <th id=\"T_0b30ef5c_840d_11ea_90ba_fcaa14e7ba64level0_row14\" class=\"row_heading level0 row14\" >15</th>\n",
       "                        <td id=\"T_0b30ef5c_840d_11ea_90ba_fcaa14e7ba64row14_col0\" class=\"data row14 col0\" >2020-04-21 19:30:32</td>\n",
       "                        <td id=\"T_0b30ef5c_840d_11ea_90ba_fcaa14e7ba64row14_col1\" class=\"data row14 col1\" >Switzerland</td>\n",
       "                        <td id=\"T_0b30ef5c_840d_11ea_90ba_fcaa14e7ba64row14_col2\" class=\"data row14 col2\" >28063</td>\n",
       "                        <td id=\"T_0b30ef5c_840d_11ea_90ba_fcaa14e7ba64row14_col3\" class=\"data row14 col3\" >1478</td>\n",
       "                        <td id=\"T_0b30ef5c_840d_11ea_90ba_fcaa14e7ba64row14_col4\" class=\"data row14 col4\" >19400</td>\n",
       "                        <td id=\"T_0b30ef5c_840d_11ea_90ba_fcaa14e7ba64row14_col5\" class=\"data row14 col5\" >7185</td>\n",
       "                        <td id=\"T_0b30ef5c_840d_11ea_90ba_fcaa14e7ba64row14_col6\" class=\"data row14 col6\" >5.26672</td>\n",
       "            </tr>\n",
       "            <tr>\n",
       "                        <th id=\"T_0b30ef5c_840d_11ea_90ba_fcaa14e7ba64level0_row15\" class=\"row_heading level0 row15\" >140</th>\n",
       "                        <td id=\"T_0b30ef5c_840d_11ea_90ba_fcaa14e7ba64row15_col0\" class=\"data row15 col0\" >2020-04-21 19:30:32</td>\n",
       "                        <td id=\"T_0b30ef5c_840d_11ea_90ba_fcaa14e7ba64row15_col1\" class=\"data row15 col1\" >Portugal</td>\n",
       "                        <td id=\"T_0b30ef5c_840d_11ea_90ba_fcaa14e7ba64row15_col2\" class=\"data row15 col2\" >21379</td>\n",
       "                        <td id=\"T_0b30ef5c_840d_11ea_90ba_fcaa14e7ba64row15_col3\" class=\"data row15 col3\" >762</td>\n",
       "                        <td id=\"T_0b30ef5c_840d_11ea_90ba_fcaa14e7ba64row15_col4\" class=\"data row15 col4\" >917</td>\n",
       "                        <td id=\"T_0b30ef5c_840d_11ea_90ba_fcaa14e7ba64row15_col5\" class=\"data row15 col5\" >19700</td>\n",
       "                        <td id=\"T_0b30ef5c_840d_11ea_90ba_fcaa14e7ba64row15_col6\" class=\"data row15 col6\" >3.56425</td>\n",
       "            </tr>\n",
       "            <tr>\n",
       "                        <th id=\"T_0b30ef5c_840d_11ea_90ba_fcaa14e7ba64level0_row16\" class=\"row_heading level0 row16\" >87</th>\n",
       "                        <td id=\"T_0b30ef5c_840d_11ea_90ba_fcaa14e7ba64row16_col0\" class=\"data row16 col0\" >2020-04-21 19:30:32</td>\n",
       "                        <td id=\"T_0b30ef5c_840d_11ea_90ba_fcaa14e7ba64row16_col1\" class=\"data row16 col1\" >India</td>\n",
       "                        <td id=\"T_0b30ef5c_840d_11ea_90ba_fcaa14e7ba64row16_col2\" class=\"data row16 col2\" >18985</td>\n",
       "                        <td id=\"T_0b30ef5c_840d_11ea_90ba_fcaa14e7ba64row16_col3\" class=\"data row16 col3\" >603</td>\n",
       "                        <td id=\"T_0b30ef5c_840d_11ea_90ba_fcaa14e7ba64row16_col4\" class=\"data row16 col4\" >3273</td>\n",
       "                        <td id=\"T_0b30ef5c_840d_11ea_90ba_fcaa14e7ba64row16_col5\" class=\"data row16 col5\" >15109</td>\n",
       "                        <td id=\"T_0b30ef5c_840d_11ea_90ba_fcaa14e7ba64row16_col6\" class=\"data row16 col6\" >3.17619</td>\n",
       "            </tr>\n",
       "            <tr>\n",
       "                        <th id=\"T_0b30ef5c_840d_11ea_90ba_fcaa14e7ba64level0_row17\" class=\"row_heading level0 row17\" >137</th>\n",
       "                        <td id=\"T_0b30ef5c_840d_11ea_90ba_fcaa14e7ba64row17_col0\" class=\"data row17 col0\" >2020-04-21 19:30:32</td>\n",
       "                        <td id=\"T_0b30ef5c_840d_11ea_90ba_fcaa14e7ba64row17_col1\" class=\"data row17 col1\" >Peru</td>\n",
       "                        <td id=\"T_0b30ef5c_840d_11ea_90ba_fcaa14e7ba64row17_col2\" class=\"data row17 col2\" >17837</td>\n",
       "                        <td id=\"T_0b30ef5c_840d_11ea_90ba_fcaa14e7ba64row17_col3\" class=\"data row17 col3\" >484</td>\n",
       "                        <td id=\"T_0b30ef5c_840d_11ea_90ba_fcaa14e7ba64row17_col4\" class=\"data row17 col4\" >6982</td>\n",
       "                        <td id=\"T_0b30ef5c_840d_11ea_90ba_fcaa14e7ba64row17_col5\" class=\"data row17 col5\" >10371</td>\n",
       "                        <td id=\"T_0b30ef5c_840d_11ea_90ba_fcaa14e7ba64row17_col6\" class=\"data row17 col6\" >2.71346</td>\n",
       "            </tr>\n",
       "            <tr>\n",
       "                        <th id=\"T_0b30ef5c_840d_11ea_90ba_fcaa14e7ba64level0_row18\" class=\"row_heading level0 row18\" >9</th>\n",
       "                        <td id=\"T_0b30ef5c_840d_11ea_90ba_fcaa14e7ba64row18_col0\" class=\"data row18 col0\" >2020-04-21 19:30:32</td>\n",
       "                        <td id=\"T_0b30ef5c_840d_11ea_90ba_fcaa14e7ba64row18_col1\" class=\"data row18 col1\" >Ireland</td>\n",
       "                        <td id=\"T_0b30ef5c_840d_11ea_90ba_fcaa14e7ba64row18_col2\" class=\"data row18 col2\" >16040</td>\n",
       "                        <td id=\"T_0b30ef5c_840d_11ea_90ba_fcaa14e7ba64row18_col3\" class=\"data row18 col3\" >730</td>\n",
       "                        <td id=\"T_0b30ef5c_840d_11ea_90ba_fcaa14e7ba64row18_col4\" class=\"data row18 col4\" >9233</td>\n",
       "                        <td id=\"T_0b30ef5c_840d_11ea_90ba_fcaa14e7ba64row18_col5\" class=\"data row18 col5\" >6077</td>\n",
       "                        <td id=\"T_0b30ef5c_840d_11ea_90ba_fcaa14e7ba64row18_col6\" class=\"data row18 col6\" >4.55112</td>\n",
       "            </tr>\n",
       "            <tr>\n",
       "                        <th id=\"T_0b30ef5c_840d_11ea_90ba_fcaa14e7ba64level0_row19\" class=\"row_heading level0 row19\" >14</th>\n",
       "                        <td id=\"T_0b30ef5c_840d_11ea_90ba_fcaa14e7ba64row19_col0\" class=\"data row19 col0\" >2020-04-21 19:30:32</td>\n",
       "                        <td id=\"T_0b30ef5c_840d_11ea_90ba_fcaa14e7ba64row19_col1\" class=\"data row19 col1\" >Sweden</td>\n",
       "                        <td id=\"T_0b30ef5c_840d_11ea_90ba_fcaa14e7ba64row19_col2\" class=\"data row19 col2\" >15322</td>\n",
       "                        <td id=\"T_0b30ef5c_840d_11ea_90ba_fcaa14e7ba64row19_col3\" class=\"data row19 col3\" >1765</td>\n",
       "                        <td id=\"T_0b30ef5c_840d_11ea_90ba_fcaa14e7ba64row19_col4\" class=\"data row19 col4\" >550</td>\n",
       "                        <td id=\"T_0b30ef5c_840d_11ea_90ba_fcaa14e7ba64row19_col5\" class=\"data row19 col5\" >13007</td>\n",
       "                        <td id=\"T_0b30ef5c_840d_11ea_90ba_fcaa14e7ba64row19_col6\" class=\"data row19 col6\" >11.5194</td>\n",
       "            </tr>\n",
       "    </tbody></table>"
      ],
      "text/plain": [
       "<pandas.io.formats.style.Styler at 0x2266d07cc88>"
      ]
     },
     "execution_count": 17,
     "metadata": {},
     "output_type": "execute_result"
    }
   ],
   "source": [
    "def highlight_col(x):\n",
    "    r = 'background-color: red'\n",
    "    y = 'background-color: yellow'\n",
    "    g = 'background-color: green'\n",
    "    temp_df = pd.DataFrame('', index=x.index, columns = x.columns)\n",
    "    temp_df.iloc[:,2] = y\n",
    "    temp_df.iloc[:,3] = r\n",
    "    temp_df.iloc[:,4] = g\n",
    "    return temp_df\n",
    "    \n",
    "sorted_country_df.head(20).style.apply(highlight_col, axis=None)\n",
    "\n",
    "sorted_country_df.head(20)[['updated','country','confirmed','deaths','recovered','active','mortality rate %']].style.apply(highlight_col, axis=None)"
   ]
  },
  {
   "cell_type": "markdown",
   "metadata": {},
   "source": [
    "# Confirmed Cases - 20 Most Impacted Countries "
   ]
  },
  {
   "cell_type": "code",
   "execution_count": 18,
   "metadata": {},
   "outputs": [
    {
     "data": {
      "image/png": "[encoded data removed]",
      "text/plain": [
       "<Figure size 720x576 with 1 Axes>"
      ]
     },
     "metadata": {
      "needs_background": "light"
     },
     "output_type": "display_data"
    }
   ],
   "source": [
    "fig_dims = (10, 8)\n",
    "fig, ax = plt.subplots(figsize=fig_dims)\n",
    "sns.barplot(x = \"confirmed\", y = \"country\", \n",
    "            ax=ax, \n",
    "            data=sorted_country_df.head(20))\n",
    "plt.show()"
   ]
  },
  {
   "cell_type": "markdown",
   "metadata": {},
   "source": [
    "# Confirmed Cases - 30 Countries \n",
    "###### Adjust slider to change number of countries displayed"
   ]
  },
  {
   "cell_type": "code",
   "execution_count": 19,
   "metadata": {
    "scrolled": false
   },
   "outputs": [
    {
     "data": {
      "application/vnd.jupyter.widget-view+json": {
       "model_id": "fc6c1d8182f54fa695dcca913b6302dd",
       "version_major": 2,
       "version_minor": 0
      },
      "text/plain": [
       "interactive(children=(IntSlider(value=10, description='n', max=30, min=1), Output()), _dom_classes=('widget-in…"
      ]
     },
     "metadata": {},
     "output_type": "display_data"
    }
   ],
   "source": [
    "def bubble_graph(n):    \n",
    "    \n",
    "    fig2 = px.scatter(sorted_country_df.head(n), \n",
    "                     x='country', \n",
    "                     y ='confirmed', \n",
    "                     size='confirmed',\n",
    "                     color='country',\n",
    "                     size_max=80,\n",
    "                     )\n",
    "\n",
    "\n",
    "    fig2.update_layout(xaxis_title=\"Countries\",\n",
    "                      yaxis_title=\"Confirmed Cases\",\n",
    "                      margin=dict(l=20, r=20, t=20, b=20))\n",
    "    return fig2\n",
    "\n",
    "interact(bubble_graph, n=widgets.IntSlider(min=1, max=30, step=1, value=10));\n"
   ]
  },
  {
   "cell_type": "markdown",
   "metadata": {},
   "source": [
    "# Confirmed Cases, Recovered and Death Comparison"
   ]
  },
  {
   "cell_type": "markdown",
   "metadata": {},
   "source": [
    "## Enter Country Name: \n",
    "##### Case sensitive e.g. United Kingdom, Spain, Italy, etc "
   ]
  },
  {
   "cell_type": "code",
   "execution_count": 20,
   "metadata": {
    "scrolled": false
   },
   "outputs": [
    {
     "data": {
      "application/vnd.jupyter.widget-view+json": {
       "model_id": "046ca682320245d78e7112b99a03b504",
       "version_major": 2,
       "version_minor": 0
      },
      "text/plain": [
       "interactive(children=(Text(value='World', description='country'), Output()), _dom_classes=('widget-interact',)…"
      ]
     },
     "metadata": {},
     "output_type": "display_data"
    }
   ],
   "source": [
    "def plot_cases_for_country(country):\n",
    "    labels = ['confirmed','deaths','recovered']\n",
    "    colors = ['black', 'red', 'green']\n",
    "\n",
    "    mode_size = [8]*3\n",
    "    line_size = [3]*3 # size of both lines\n",
    "\n",
    "    df_list = [confirmed_df, death_df, recovered_df] # data sets required confirmed and deaths \n",
    "\n",
    "    fig = go.Figure()\n",
    "\n",
    "    for i, df in enumerate(df_list): # enumerate unpacking to unpack labels, colors and df_list \n",
    "        if country == 'World' or country == 'world' or country == 'global' or country == 'Global':\n",
    "            x_data = np.array(list(df.iloc[:, 5:].columns)) # converting columns from index 5 into a numpy array list for x axis (dates)\n",
    "            y_data = np.sum(np.array(df.iloc[:,5:]),axis=0) # sum all countries from index 5 into numpy array to create y axis \n",
    "            \n",
    "        else:    \n",
    "            x_data = np.array(list(df.iloc[:, 5:].columns)) # converting columns from index 5 into a numpy array list for x axis (dates)\n",
    "            y_data = np.sum(np.array(df[df['country'] == country].iloc[:,5:]),axis = 0) # sum a spec. country total to create y axis \n",
    "            \n",
    "        fig.add_trace(go.Scatter(x=x_data, y=y_data, mode='lines',\n",
    "        name=labels[i],\n",
    "        line=dict(color=colors[i], width=line_size[i]),\n",
    "        connectgaps=True,\n",
    "        text = \"Total \" + str(labels[i]) +\": \"+ str(y_data[-1])))\n",
    "        \n",
    "        fig.update_layout(\n",
    "        xaxis_title=\"Date\",\n",
    "        yaxis_title=\"Number of Cases\",\n",
    "        margin=dict(l=20, r=20, t=20, b=20))\n",
    "            \n",
    "    fig.show()\n",
    "        \n",
    "#plot_cases_for_country('world')\n",
    "interact(plot_cases_for_country, country='World');\n",
    "\n",
    "# interact(plot_cases_for_country, country=['World','US','Spain','Italy','France','Germany',\n",
    "                                            #'China','United Kingdom','Iran','Turkey','Belgium',\n",
    "                                            #'Switzerland','Netherlands','Canada','Brazil','Portugal',\n",
    "                                            #'Austria','Russia','Israel','Korea, South','Sweden']);"
   ]
  },
  {
   "cell_type": "code",
   "execution_count": 21,
   "metadata": {},
   "outputs": [],
   "source": [
    "df3 = death_df"
   ]
  },
  {
   "cell_type": "code",
   "execution_count": 22,
   "metadata": {
    "scrolled": true
   },
   "outputs": [],
   "source": [
    "US = np.sum(np.array(df3[df3['country']=='US'].iloc[:,5:]),axis = 0)\n",
    "SP = np.sum(np.array(df3[df3['country']=='Spain'].iloc[:,5:]),axis = 0)\n",
    "IT = np.sum(np.array(df3[df3['country']=='Italy'].iloc[:,5:]),axis = 0)\n",
    "FR = np.sum(np.array(df3[df3['country']=='France'].iloc[:,5:]),axis = 0)\n",
    "GE = np.sum(np.array(df3[df3['country']=='Germany'].iloc[:,5:]),axis = 0)\n",
    "CH = np.sum(np.array(df3[df3['country']=='China'].iloc[:,5:]),axis = 0)\n",
    "UK = np.sum(np.array(df3[df3['country']=='United Kingdom'].iloc[:,5:]),axis = 0)\n",
    "IR = np.sum(np.array(df3[df3['country']=='Iran'].iloc[:,5:]),axis = 0)\n",
    "TU = np.sum(np.array(df3[df3['country']=='Turkey'].iloc[:,5:]),axis = 0)\n",
    "BE = np.sum(np.array(df3[df3['country']=='Belgium'].iloc[:,5:]),axis = 0)\n",
    "SW = np.sum(np.array(df3[df3['country']=='Switzerland'].iloc[:,5:]),axis = 0)\n",
    "NE = np.sum(np.array(df3[df3['country']=='Netherlands'].iloc[:,5:]),axis = 0)\n",
    "CA = np.sum(np.array(df3[df3['country']=='Canada'].iloc[:,5:]),axis = 0)\n",
    "BR = np.sum(np.array(df3[df3['country']=='Brazil'].iloc[:,5:]),axis = 0)\n",
    "PO = np.sum(np.array(df3[df3['country']=='Portugal'].iloc[:,5:]),axis = 0)\n",
    "AU = np.sum(np.array(df3[df3['country']=='Austria'].iloc[:,5:]),axis = 0)\n",
    "RU = np.sum(np.array(df3[df3['country']=='Russia'].iloc[:,5:]),axis = 0)\n",
    "IS = np.sum(np.array(df3[df3['country']=='Israel'].iloc[:,5:]),axis = 0)\n",
    "KO = np.sum(np.array(df3[df3['country']=='Korea, South'].iloc[:,5:]),axis = 0)\n",
    "SW = np.sum(np.array(df3[df3['country']=='Sweden'].iloc[:,5:]),axis = 0)"
   ]
  },
  {
   "cell_type": "code",
   "execution_count": 23,
   "metadata": {
    "scrolled": false
   },
   "outputs": [],
   "source": [
    "arr = [US, SP, IT, FR, GE, CH, UK, IR, TU, BE, SW, NE, CA, BR, PO ,AU, RU, IS, KO, SW]"
   ]
  },
  {
   "cell_type": "markdown",
   "metadata": {},
   "source": [
    "# Confirmed Deaths - 20 Most Impacted Countries \n",
    "###### Adjust slider to change number of countries displayed"
   ]
  },
  {
   "cell_type": "code",
   "execution_count": 24,
   "metadata": {},
   "outputs": [
    {
     "data": {
      "application/vnd.jupyter.widget-view+json": {
       "model_id": "947db19d0dcc4fa4824727ffe5df0f00",
       "version_major": 2,
       "version_minor": 0
      },
      "text/plain": [
       "interactive(children=(IntSlider(value=20, description='n', max=20, min=1), Output()), _dom_classes=('widget-in…"
      ]
     },
     "metadata": {},
     "output_type": "display_data"
    }
   ],
   "source": [
    "def global_graph(n):\n",
    "    \n",
    "    labels = ['US','Spain','Italy','France','Germany',\n",
    "            'China','United Kingdom','Iran','Turkey','Belgium',\n",
    "            'Switzerland','Netherlands','Canada','Brazil','Portugal',\n",
    "            'Austria','Russia','Israel','Korea, South','Sweden'];\n",
    "    colors = ['red','orange','green','blue','brown','yellow','purple',\n",
    "              'maroon','magenta','grey','black','olivedrab','yellowgreen','plum',\n",
    "              'crimson','orchid','moccasin','aqua','gold','khaki']\n",
    "\n",
    "    mode_size = [8]*20\n",
    "    line_size = [2]*20\n",
    "\n",
    "    x_data = np.array((list(df3.iloc[:, 5:].columns),)*n)\n",
    "\n",
    "    y_data = arr\n",
    "\n",
    "    fig3 = go.Figure()\n",
    "\n",
    "    for i in range(0, n):\n",
    "        fig3.add_trace(go.Scatter(x=x_data[i], y=y_data[i], mode='lines',\n",
    "            name=labels[i],\n",
    "            line=dict(color=colors[i], width=line_size[i]),\n",
    "            connectgaps=True))\n",
    "\n",
    "    fig3.update_layout(\n",
    "            xaxis_title=\"Date\",\n",
    "            yaxis_title=\"Number of Cases\",\n",
    "            margin=dict(l=20, r=20, t=20, b=20))\n",
    "    fig3.show()\n",
    "\n",
    "interact(global_graph, n=widgets.IntSlider(min=1, max=20, step=1, value=20));"
   ]
  },
  {
   "cell_type": "markdown",
   "metadata": {},
   "source": [
    "# Global - Confirmed Deaths "
   ]
  },
  {
   "cell_type": "code",
   "execution_count": 183,
   "metadata": {},
   "outputs": [
    {
     "data": {
      "application/vnd.plotly.v1+json": {
       "config": {
        "plotlyServerURL": "https://plot.ly"
       },
       "data": [
        {
         "geo": "geo",
         "hovertemplate": "<b>%{hovertext}</b><br><br>deaths=%{marker.color}<br>Country=%{location}<extra></extra>",
         "hovertext": [
          "US",
          "Spain",
          "Italy",
          "France",
          "Germany",
          "United Kingdom",
          "Turkey",
          "Iran",
          "China",
          "Russia",
          "Belgium",
          "Brazil",
          "Canada",
          "Netherlands",
          "Switzerland",
          "Portugal",
          "India",
          "Peru",
          "Ireland",
          "Sweden",
          "Austria",
          "Israel",
          "Saudi Arabia",
          "Japan",
          "Chile",
          "Korea, South",
          "Ecuador",
          "Poland",
          "Pakistan",
          "Romania",
          "Singapore",
          "Mexico",
          "Denmark",
          "United Arab Emirates",
          "Norway",
          "Indonesia",
          "Czechia",
          "Belarus",
          "Serbia",
          "Philippines",
          "Australia",
          "Qatar",
          "Ukraine",
          "Malaysia",
          "Dominican Republic",
          "Panama",
          "Finland",
          "Colombia",
          "Luxembourg",
          "Egypt",
          "South Africa",
          "Bangladesh",
          "Morocco",
          "Argentina",
          "Thailand",
          "Algeria",
          "Moldova",
          "Greece",
          "Hungary",
          "Kuwait",
          "Kazakhstan",
          "Bahrain",
          "Croatia",
          "Iceland",
          "Uzbekistan",
          "Iraq",
          "Estonia",
          "Oman",
          "Azerbaijan",
          "New Zealand",
          "Armenia",
          "Lithuania",
          "Slovenia",
          "Bosnia and Herzegovina",
          "North Macedonia",
          "Slovakia",
          "Cameroon",
          "Cuba",
          "Afghanistan",
          "Ghana",
          "Bulgaria",
          "Djibouti",
          "Tunisia",
          "Cote d'Ivoire",
          "Cyprus",
          "Latvia",
          "Andorra",
          "Diamond Princess",
          "Guinea",
          "Lebanon",
          "Costa Rica",
          "Nigeria",
          "Niger",
          "Albania",
          "Burkina Faso",
          "Bolivia",
          "Kyrgyzstan",
          "Uruguay",
          "Kosovo",
          "Honduras",
          "San Marino",
          "West Bank and Gaza",
          "Malta",
          "Jordan",
          "Taiwan*",
          "Senegal",
          "Georgia",
          "Congo (Kinshasa)",
          "Mauritius",
          "Montenegro",
          "Sri Lanka",
          "Kenya",
          "Guatemala",
          "Somalia",
          "Venezuela",
          "Vietnam",
          "Mali",
          "Tanzania",
          "El Salvador",
          "Jamaica",
          "Paraguay",
          "Congo (Brazzaville)",
          "Rwanda",
          "Brunei",
          "Cambodia",
          "Burma",
          "Madagascar",
          "Gabon",
          "Ethiopia",
          "Trinidad and Tobago",
          "Sudan",
          "Liberia",
          "Monaco",
          "Togo",
          "Maldives",
          "Equatorial Guinea",
          "Liechtenstein",
          "Barbados",
          "Zambia",
          "Cabo Verde",
          "Guyana",
          "Bahamas",
          "Uganda",
          "Haiti",
          "Benin",
          "Libya",
          "Guinea-Bissau",
          "Sierra Leone",
          "Nepal",
          "Syria",
          "Mozambique",
          "Eritrea",
          "Mongolia",
          "Chad",
          "Eswatini",
          "Zimbabwe",
          "Angola",
          "Antigua and Barbuda",
          "Timor-Leste",
          "Botswana",
          "Laos",
          "Malawi",
          "Belize",
          "Fiji",
          "Dominica",
          "Namibia",
          "Saint Lucia",
          "Saint Kitts and Nevis",
          "Central African Republic",
          "Grenada",
          "Saint Vincent and the Grenadines",
          "Seychelles",
          "Nicaragua",
          "Gambia",
          "Suriname",
          "Holy See",
          "MS Zaandam",
          "Mauritania",
          "Papua New Guinea",
          "Bhutan",
          "Western Sahara",
          "Burundi",
          "South Sudan",
          "Sao Tome and Principe",
          "Yemen"
         ],
         "legendgroup": "",
         "locations": [
          "USA",
          "ESP",
          "ITA",
          "FRA",
          "DEU",
          "GBR",
          "TUR",
          "IRN",
          "CHN",
          "RUS",
          "BEL",
          "BRA",
          "CAN",
          "NLD",
          "CHE",
          "PRT",
          "IND",
          "PER",
          "IRL",
          "SWE",
          "AUT",
          "ISR",
          "SAU",
          "JPN",
          "CHL",
          "KOR",
          "ECU",
          "POL",
          "PAK",
          "ROU",
          "SGP",
          "MEX",
          "DNK",
          "ARE",
          "NOR",
          "IDN",
          "CZE",
          "BLR",
          "SRB",
          "PHL",
          "AUS",
          "QAT",
          "UKR",
          "MYS",
          "DOM",
          "PAN",
          "FIN",
          "COL",
          "LUX",
          "EGY",
          "ZAF",
          "BGD",
          "MAR",
          "ARG",
          "THA",
          "DZA",
          "MDA",
          "GRC",
          "HUN",
          "KWT",
          "KAZ",
          "BHR",
          "HRV",
          "ISL",
          "UZB",
          "IRQ",
          "EST",
          "OMN",
          "AZE",
          "NZL",
          "ARM",
          "LTU",
          "SVN",
          "BIH",
          "MKD",
          "SVK",
          "CMR",
          "CUB",
          "AFG",
          "GHA",
          "BGR",
          "DJI",
          "TUN",
          "CIV",
          "CYP",
          "LVA",
          "AND",
          null,
          "GIN",
          "LBN",
          "CRI",
          "NGA",
          "NER",
          "ALB",
          "BFA",
          "BOL",
          "KGZ",
          "URY",
          "XKS",
          "HND",
          "SMR",
          "PSE",
          "MLT",
          "JOR",
          "TWN",
          "SEN",
          "GEO",
          "COD",
          "MUS",
          "MNE",
          "LKA",
          "KEN",
          "GTM",
          "SOM",
          "VEN",
          "VNM",
          "MLI",
          "TZA",
          "SLV",
          "JAM",
          "PRY",
          "COG",
          "RWA",
          "BRN",
          "KHM",
          "MMR",
          "MDG",
          "GAB",
          "ETH",
          "TTO",
          "SDN",
          "LBR",
          "MCO",
          "TGO",
          "MDV",
          "GNQ",
          "LIE",
          "BRB",
          "ZMB",
          "CPV",
          "GUY",
          "BHS",
          "UGA",
          "HTI",
          "BEN",
          "LBY",
          "GNB",
          "SLE",
          "NPL",
          "SYR",
          "MOZ",
          "ERI",
          "MNG",
          "TCD",
          "SWZ",
          "ZWE",
          "AGO",
          "ATG",
          "TLS",
          "BWA",
          "LAO",
          "MWI",
          "BLZ",
          "FJI",
          "DMA",
          "NAM",
          "LCA",
          "KNA",
          "CAF",
          "GRD",
          "VCT",
          "SYC",
          "NIC",
          "GMB",
          "SUR",
          "VAT",
          null,
          "MRT",
          "PNG",
          "BTN",
          "ESH",
          "BDI",
          "SSD",
          "STP",
          "YEM"
         ],
         "marker": {
          "color": [
           43796,
           21282,
           24648,
           20829,
           4961,
           17378,
           2259,
           5297,
           4636,
           456,
           5998,
           2588,
           1872,
           3929,
           1478,
           762,
           603,
           484,
           730,
           1765,
           491,
           184,
           109,
           263,
           147,
           237,
           520,
           401,
           201,
           498,
           11,
           712,
           370,
           46,
           182,
           616,
           201,
           55,
           125,
           437,
           67,
           9,
           161,
           92,
           245,
           136,
           141,
           189,
           78,
           264,
           58,
           110,
           145,
           147,
           48,
           392,
           72,
           121,
           213,
           11,
           19,
           7,
           48,
           10,
           6,
           83,
           43,
           8,
           20,
           13,
           24,
           38,
           77,
           51,
           55,
           14,
           43,
           38,
           36,
           9,
           45,
           2,
           38,
           10,
           12,
           9,
           37,
           13,
           6,
           21,
           6,
           22,
           20,
           26,
           38,
           34,
           7,
           11,
           12,
           46,
           40,
           4,
           3,
           7,
           6,
           5,
           4,
           25,
           9,
           5,
           7,
           14,
           7,
           8,
           10,
           0,
           14,
           10,
           7,
           6,
           8,
           6,
           0,
           1,
           0,
           5,
           0,
           1,
           3,
           8,
           12,
           8,
           3,
           6,
           0,
           0,
           1,
           5,
           3,
           1,
           7,
           9,
           0,
           3,
           1,
           1,
           0,
           0,
           0,
           3,
           0,
           0,
           0,
           0,
           1,
           3,
           2,
           3,
           0,
           1,
           0,
           2,
           2,
           0,
           0,
           0,
           0,
           0,
           0,
           0,
           0,
           0,
           2,
           1,
           1,
           0,
           2,
           1,
           0,
           0,
           0,
           1,
           0,
           0,
           0
          ],
          "coloraxis": "coloraxis",
          "size": [
           43796,
           21282,
           24648,
           20829,
           4961,
           17378,
           2259,
           5297,
           4636,
           456,
           5998,
           2588,
           1872,
           3929,
           1478,
           762,
           603,
           484,
           730,
           1765,
           491,
           184,
           109,
           263,
           147,
           237,
           520,
           401,
           201,
           498,
           11,
           712,
           370,
           46,
           182,
           616,
           201,
           55,
           125,
           437,
           67,
           9,
           161,
           92,
           245,
           136,
           141,
           189,
           78,
           264,
           58,
           110,
           145,
           147,
           48,
           392,
           72,
           121,
           213,
           11,
           19,
           7,
           48,
           10,
           6,
           83,
           43,
           8,
           20,
           13,
           24,
           38,
           77,
           51,
           55,
           14,
           43,
           38,
           36,
           9,
           45,
           2,
           38,
           10,
           12,
           9,
           37,
           13,
           6,
           21,
           6,
           22,
           20,
           26,
           38,
           34,
           7,
           11,
           12,
           46,
           40,
           4,
           3,
           7,
           6,
           5,
           4,
           25,
           9,
           5,
           7,
           14,
           7,
           8,
           10,
           0,
           14,
           10,
           7,
           6,
           8,
           6,
           0,
           1,
           0,
           5,
           0,
           1,
           3,
           8,
           12,
           8,
           3,
           6,
           0,
           0,
           1,
           5,
           3,
           1,
           7,
           9,
           0,
           3,
           1,
           1,
           0,
           0,
           0,
           3,
           0,
           0,
           0,
           0,
           1,
           3,
           2,
           3,
           0,
           1,
           0,
           2,
           2,
           0,
           0,
           0,
           0,
           0,
           0,
           0,
           0,
           0,
           2,
           1,
           1,
           0,
           2,
           1,
           0,
           0,
           0,
           1,
           0,
           0,
           0
          ],
          "sizemode": "area",
          "sizeref": 12.165555555555555
         },
         "name": "",
         "showlegend": false,
         "type": "scattergeo"
        }
       ],
       "layout": {
        "coloraxis": {
         "colorbar": {
          "title": {
           "text": "deaths"
          }
         },
         "colorscale": [
          [
           0,
           "rgb(5,48,97)"
          ],
          [
           0.1,
           "rgb(33,102,172)"
          ],
          [
           0.2,
           "rgb(67,147,195)"
          ],
          [
           0.3,
           "rgb(146,197,222)"
          ],
          [
           0.4,
           "rgb(209,229,240)"
          ],
          [
           0.5,
           "rgb(247,247,247)"
          ],
          [
           0.6,
           "rgb(253,219,199)"
          ],
          [
           0.7,
           "rgb(244,165,130)"
          ],
          [
           0.8,
           "rgb(214,96,77)"
          ],
          [
           0.9,
           "rgb(178,24,43)"
          ],
          [
           1,
           "rgb(103,0,31)"
          ]
         ]
        },
        "geo": {
         "center": {},
         "domain": {
          "x": [
           0,
           1
          ],
          "y": [
           0,
           1
          ]
         },
         "projection": {
          "type": "natural earth"
         }
        },
        "legend": {
         "itemsizing": "constant",
         "tracegroupgap": 0
        },
        "margin": {
         "b": 20,
         "l": 20,
         "r": 20,
         "t": 20
        },
        "template": {
         "data": {
          "bar": [
           {
            "error_x": {
             "color": "#2a3f5f"
            },
            "error_y": {
             "color": "#2a3f5f"
            },
            "marker": {
             "line": {
              "color": "#E5ECF6",
              "width": 0.5
             }
            },
            "type": "bar"
           }
          ],
          "barpolar": [
           {
            "marker": {
             "line": {
              "color": "#E5ECF6",
              "width": 0.5
             }
            },
            "type": "barpolar"
           }
          ],
          "carpet": [
           {
            "aaxis": {
             "endlinecolor": "#2a3f5f",
             "gridcolor": "white",
             "linecolor": "white",
             "minorgridcolor": "white",
             "startlinecolor": "#2a3f5f"
            },
            "baxis": {
             "endlinecolor": "#2a3f5f",
             "gridcolor": "white",
             "linecolor": "white",
             "minorgridcolor": "white",
             "startlinecolor": "#2a3f5f"
            },
            "type": "carpet"
           }
          ],
          "choropleth": [
           {
            "colorbar": {
             "outlinewidth": 0,
             "ticks": ""
            },
            "type": "choropleth"
           }
          ],
          "contour": [
           {
            "colorbar": {
             "outlinewidth": 0,
             "ticks": ""
            },
            "colorscale": [
             [
              0,
              "#0d0887"
             ],
             [
              0.1111111111111111,
              "#46039f"
             ],
             [
              0.2222222222222222,
              "#7201a8"
             ],
             [
              0.3333333333333333,
              "#9c179e"
             ],
             [
              0.4444444444444444,
              "#bd3786"
             ],
             [
              0.5555555555555556,
              "#d8576b"
             ],
             [
              0.6666666666666666,
              "#ed7953"
             ],
             [
              0.7777777777777778,
              "#fb9f3a"
             ],
             [
              0.8888888888888888,
              "#fdca26"
             ],
             [
              1,
              "#f0f921"
             ]
            ],
            "type": "contour"
           }
          ],
          "contourcarpet": [
           {
            "colorbar": {
             "outlinewidth": 0,
             "ticks": ""
            },
            "type": "contourcarpet"
           }
          ],
          "heatmap": [
           {
            "colorbar": {
             "outlinewidth": 0,
             "ticks": ""
            },
            "colorscale": [
             [
              0,
              "#0d0887"
             ],
             [
              0.1111111111111111,
              "#46039f"
             ],
             [
              0.2222222222222222,
              "#7201a8"
             ],
             [
              0.3333333333333333,
              "#9c179e"
             ],
             [
              0.4444444444444444,
              "#bd3786"
             ],
             [
              0.5555555555555556,
              "#d8576b"
             ],
             [
              0.6666666666666666,
              "#ed7953"
             ],
             [
              0.7777777777777778,
              "#fb9f3a"
             ],
             [
              0.8888888888888888,
              "#fdca26"
             ],
             [
              1,
              "#f0f921"
             ]
            ],
            "type": "heatmap"
           }
          ],
          "heatmapgl": [
           {
            "colorbar": {
             "outlinewidth": 0,
             "ticks": ""
            },
            "colorscale": [
             [
              0,
              "#0d0887"
             ],
             [
              0.1111111111111111,
              "#46039f"
             ],
             [
              0.2222222222222222,
              "#7201a8"
             ],
             [
              0.3333333333333333,
              "#9c179e"
             ],
             [
              0.4444444444444444,
              "#bd3786"
             ],
             [
              0.5555555555555556,
              "#d8576b"
             ],
             [
              0.6666666666666666,
              "#ed7953"
             ],
             [
              0.7777777777777778,
              "#fb9f3a"
             ],
             [
              0.8888888888888888,
              "#fdca26"
             ],
             [
              1,
              "#f0f921"
             ]
            ],
            "type": "heatmapgl"
           }
          ],
          "histogram": [
           {
            "marker": {
             "colorbar": {
              "outlinewidth": 0,
              "ticks": ""
             }
            },
            "type": "histogram"
           }
          ],
          "histogram2d": [
           {
            "colorbar": {
             "outlinewidth": 0,
             "ticks": ""
            },
            "colorscale": [
             [
              0,
              "#0d0887"
             ],
             [
              0.1111111111111111,
              "#46039f"
             ],
             [
              0.2222222222222222,
              "#7201a8"
             ],
             [
              0.3333333333333333,
              "#9c179e"
             ],
             [
              0.4444444444444444,
              "#bd3786"
             ],
             [
              0.5555555555555556,
              "#d8576b"
             ],
             [
              0.6666666666666666,
              "#ed7953"
             ],
             [
              0.7777777777777778,
              "#fb9f3a"
             ],
             [
              0.8888888888888888,
              "#fdca26"
             ],
             [
              1,
              "#f0f921"
             ]
            ],
            "type": "histogram2d"
           }
          ],
          "histogram2dcontour": [
           {
            "colorbar": {
             "outlinewidth": 0,
             "ticks": ""
            },
            "colorscale": [
             [
              0,
              "#0d0887"
             ],
             [
              0.1111111111111111,
              "#46039f"
             ],
             [
              0.2222222222222222,
              "#7201a8"
             ],
             [
              0.3333333333333333,
              "#9c179e"
             ],
             [
              0.4444444444444444,
              "#bd3786"
             ],
             [
              0.5555555555555556,
              "#d8576b"
             ],
             [
              0.6666666666666666,
              "#ed7953"
             ],
             [
              0.7777777777777778,
              "#fb9f3a"
             ],
             [
              0.8888888888888888,
              "#fdca26"
             ],
             [
              1,
              "#f0f921"
             ]
            ],
            "type": "histogram2dcontour"
           }
          ],
          "mesh3d": [
           {
            "colorbar": {
             "outlinewidth": 0,
             "ticks": ""
            },
            "type": "mesh3d"
           }
          ],
          "parcoords": [
           {
            "line": {
             "colorbar": {
              "outlinewidth": 0,
              "ticks": ""
             }
            },
            "type": "parcoords"
           }
          ],
          "pie": [
           {
            "automargin": true,
            "type": "pie"
           }
          ],
          "scatter": [
           {
            "marker": {
             "colorbar": {
              "outlinewidth": 0,
              "ticks": ""
             }
            },
            "type": "scatter"
           }
          ],
          "scatter3d": [
           {
            "line": {
             "colorbar": {
              "outlinewidth": 0,
              "ticks": ""
             }
            },
            "marker": {
             "colorbar": {
              "outlinewidth": 0,
              "ticks": ""
             }
            },
            "type": "scatter3d"
           }
          ],
          "scattercarpet": [
           {
            "marker": {
             "colorbar": {
              "outlinewidth": 0,
              "ticks": ""
             }
            },
            "type": "scattercarpet"
           }
          ],
          "scattergeo": [
           {
            "marker": {
             "colorbar": {
              "outlinewidth": 0,
              "ticks": ""
             }
            },
            "type": "scattergeo"
           }
          ],
          "scattergl": [
           {
            "marker": {
             "colorbar": {
              "outlinewidth": 0,
              "ticks": ""
             }
            },
            "type": "scattergl"
           }
          ],
          "scattermapbox": [
           {
            "marker": {
             "colorbar": {
              "outlinewidth": 0,
              "ticks": ""
             }
            },
            "type": "scattermapbox"
           }
          ],
          "scatterpolar": [
           {
            "marker": {
             "colorbar": {
              "outlinewidth": 0,
              "ticks": ""
             }
            },
            "type": "scatterpolar"
           }
          ],
          "scatterpolargl": [
           {
            "marker": {
             "colorbar": {
              "outlinewidth": 0,
              "ticks": ""
             }
            },
            "type": "scatterpolargl"
           }
          ],
          "scatterternary": [
           {
            "marker": {
             "colorbar": {
              "outlinewidth": 0,
              "ticks": ""
             }
            },
            "type": "scatterternary"
           }
          ],
          "surface": [
           {
            "colorbar": {
             "outlinewidth": 0,
             "ticks": ""
            },
            "colorscale": [
             [
              0,
              "#0d0887"
             ],
             [
              0.1111111111111111,
              "#46039f"
             ],
             [
              0.2222222222222222,
              "#7201a8"
             ],
             [
              0.3333333333333333,
              "#9c179e"
             ],
             [
              0.4444444444444444,
              "#bd3786"
             ],
             [
              0.5555555555555556,
              "#d8576b"
             ],
             [
              0.6666666666666666,
              "#ed7953"
             ],
             [
              0.7777777777777778,
              "#fb9f3a"
             ],
             [
              0.8888888888888888,
              "#fdca26"
             ],
             [
              1,
              "#f0f921"
             ]
            ],
            "type": "surface"
           }
          ],
          "table": [
           {
            "cells": {
             "fill": {
              "color": "#EBF0F8"
             },
             "line": {
              "color": "white"
             }
            },
            "header": {
             "fill": {
              "color": "#C8D4E3"
             },
             "line": {
              "color": "white"
             }
            },
            "type": "table"
           }
          ]
         },
         "layout": {
          "annotationdefaults": {
           "arrowcolor": "#2a3f5f",
           "arrowhead": 0,
           "arrowwidth": 1
          },
          "coloraxis": {
           "colorbar": {
            "outlinewidth": 0,
            "ticks": ""
           }
          },
          "colorscale": {
           "diverging": [
            [
             0,
             "#8e0152"
            ],
            [
             0.1,
             "#c51b7d"
            ],
            [
             0.2,
             "#de77ae"
            ],
            [
             0.3,
             "#f1b6da"
            ],
            [
             0.4,
             "#fde0ef"
            ],
            [
             0.5,
             "#f7f7f7"
            ],
            [
             0.6,
             "#e6f5d0"
            ],
            [
             0.7,
             "#b8e186"
            ],
            [
             0.8,
             "#7fbc41"
            ],
            [
             0.9,
             "#4d9221"
            ],
            [
             1,
             "#276419"
            ]
           ],
           "sequential": [
            [
             0,
             "#0d0887"
            ],
            [
             0.1111111111111111,
             "#46039f"
            ],
            [
             0.2222222222222222,
             "#7201a8"
            ],
            [
             0.3333333333333333,
             "#9c179e"
            ],
            [
             0.4444444444444444,
             "#bd3786"
            ],
            [
             0.5555555555555556,
             "#d8576b"
            ],
            [
             0.6666666666666666,
             "#ed7953"
            ],
            [
             0.7777777777777778,
             "#fb9f3a"
            ],
            [
             0.8888888888888888,
             "#fdca26"
            ],
            [
             1,
             "#f0f921"
            ]
           ],
           "sequentialminus": [
            [
             0,
             "#0d0887"
            ],
            [
             0.1111111111111111,
             "#46039f"
            ],
            [
             0.2222222222222222,
             "#7201a8"
            ],
            [
             0.3333333333333333,
             "#9c179e"
            ],
            [
             0.4444444444444444,
             "#bd3786"
            ],
            [
             0.5555555555555556,
             "#d8576b"
            ],
            [
             0.6666666666666666,
             "#ed7953"
            ],
            [
             0.7777777777777778,
             "#fb9f3a"
            ],
            [
             0.8888888888888888,
             "#fdca26"
            ],
            [
             1,
             "#f0f921"
            ]
           ]
          },
          "colorway": [
           "#636efa",
           "#EF553B",
           "#00cc96",
           "#ab63fa",
           "#FFA15A",
           "#19d3f3",
           "#FF6692",
           "#B6E880",
           "#FF97FF",
           "#FECB52"
          ],
          "font": {
           "color": "#2a3f5f"
          },
          "geo": {
           "bgcolor": "white",
           "lakecolor": "white",
           "landcolor": "#E5ECF6",
           "showlakes": true,
           "showland": true,
           "subunitcolor": "white"
          },
          "hoverlabel": {
           "align": "left"
          },
          "hovermode": "closest",
          "mapbox": {
           "style": "light"
          },
          "paper_bgcolor": "white",
          "plot_bgcolor": "#E5ECF6",
          "polar": {
           "angularaxis": {
            "gridcolor": "white",
            "linecolor": "white",
            "ticks": ""
           },
           "bgcolor": "#E5ECF6",
           "radialaxis": {
            "gridcolor": "white",
            "linecolor": "white",
            "ticks": ""
           }
          },
          "scene": {
           "xaxis": {
            "backgroundcolor": "#E5ECF6",
            "gridcolor": "white",
            "gridwidth": 2,
            "linecolor": "white",
            "showbackground": true,
            "ticks": "",
            "zerolinecolor": "white"
           },
           "yaxis": {
            "backgroundcolor": "#E5ECF6",
            "gridcolor": "white",
            "gridwidth": 2,
            "linecolor": "white",
            "showbackground": true,
            "ticks": "",
            "zerolinecolor": "white"
           },
           "zaxis": {
            "backgroundcolor": "#E5ECF6",
            "gridcolor": "white",
            "gridwidth": 2,
            "linecolor": "white",
            "showbackground": true,
            "ticks": "",
            "zerolinecolor": "white"
           }
          },
          "shapedefaults": {
           "line": {
            "color": "#2a3f5f"
           }
          },
          "ternary": {
           "aaxis": {
            "gridcolor": "white",
            "linecolor": "white",
            "ticks": ""
           },
           "baxis": {
            "gridcolor": "white",
            "linecolor": "white",
            "ticks": ""
           },
           "bgcolor": "#E5ECF6",
           "caxis": {
            "gridcolor": "white",
            "linecolor": "white",
            "ticks": ""
           }
          },
          "title": {
           "x": 0.05
          },
          "xaxis": {
           "automargin": true,
           "gridcolor": "white",
           "linecolor": "white",
           "ticks": "",
           "title": {
            "standoff": 15
           },
           "zerolinecolor": "white",
           "zerolinewidth": 2
          },
          "yaxis": {
           "automargin": true,
           "gridcolor": "white",
           "linecolor": "white",
           "ticks": "",
           "title": {
            "standoff": 15
           },
           "zerolinecolor": "white",
           "zerolinewidth": 2
          }
         }
        }
       }
      },
      "text/html": [
       "<div>\n",
       "        \n",
       "        \n",
       "            <div id=\"2b19da35-94b3-4161-b741-8377d50b6bb7\" class=\"plotly-graph-div\" style=\"height:525px; width:100%;\"></div>\n",
       "            <script type=\"text/javascript\">\n",
       "                require([\"plotly\"], function(Plotly) {\n",
       "                    window.PLOTLYENV=window.PLOTLYENV || {};\n",
       "                    \n",
       "                if (document.getElementById(\"2b19da35-94b3-4161-b741-8377d50b6bb7\")) {\n",
       "                    Plotly.newPlot(\n",
       "                        '2b19da35-94b3-4161-b741-8377d50b6bb7',\n",
       "                        [{\"geo\": \"geo\", \"hovertemplate\": \"<b>%{hovertext}</b><br><br>deaths=%{marker.color}<br>Country=%{location}<extra></extra>\", \"hovertext\": [\"US\", \"Spain\", \"Italy\", \"France\", \"Germany\", \"United Kingdom\", \"Turkey\", \"Iran\", \"China\", \"Russia\", \"Belgium\", \"Brazil\", \"Canada\", \"Netherlands\", \"Switzerland\", \"Portugal\", \"India\", \"Peru\", \"Ireland\", \"Sweden\", \"Austria\", \"Israel\", \"Saudi Arabia\", \"Japan\", \"Chile\", \"Korea, South\", \"Ecuador\", \"Poland\", \"Pakistan\", \"Romania\", \"Singapore\", \"Mexico\", \"Denmark\", \"United Arab Emirates\", \"Norway\", \"Indonesia\", \"Czechia\", \"Belarus\", \"Serbia\", \"Philippines\", \"Australia\", \"Qatar\", \"Ukraine\", \"Malaysia\", \"Dominican Republic\", \"Panama\", \"Finland\", \"Colombia\", \"Luxembourg\", \"Egypt\", \"South Africa\", \"Bangladesh\", \"Morocco\", \"Argentina\", \"Thailand\", \"Algeria\", \"Moldova\", \"Greece\", \"Hungary\", \"Kuwait\", \"Kazakhstan\", \"Bahrain\", \"Croatia\", \"Iceland\", \"Uzbekistan\", \"Iraq\", \"Estonia\", \"Oman\", \"Azerbaijan\", \"New Zealand\", \"Armenia\", \"Lithuania\", \"Slovenia\", \"Bosnia and Herzegovina\", \"North Macedonia\", \"Slovakia\", \"Cameroon\", \"Cuba\", \"Afghanistan\", \"Ghana\", \"Bulgaria\", \"Djibouti\", \"Tunisia\", \"Cote d'Ivoire\", \"Cyprus\", \"Latvia\", \"Andorra\", \"Diamond Princess\", \"Guinea\", \"Lebanon\", \"Costa Rica\", \"Nigeria\", \"Niger\", \"Albania\", \"Burkina Faso\", \"Bolivia\", \"Kyrgyzstan\", \"Uruguay\", \"Kosovo\", \"Honduras\", \"San Marino\", \"West Bank and Gaza\", \"Malta\", \"Jordan\", \"Taiwan*\", \"Senegal\", \"Georgia\", \"Congo (Kinshasa)\", \"Mauritius\", \"Montenegro\", \"Sri Lanka\", \"Kenya\", \"Guatemala\", \"Somalia\", \"Venezuela\", \"Vietnam\", \"Mali\", \"Tanzania\", \"El Salvador\", \"Jamaica\", \"Paraguay\", \"Congo (Brazzaville)\", \"Rwanda\", \"Brunei\", \"Cambodia\", \"Burma\", \"Madagascar\", \"Gabon\", \"Ethiopia\", \"Trinidad and Tobago\", \"Sudan\", \"Liberia\", \"Monaco\", \"Togo\", \"Maldives\", \"Equatorial Guinea\", \"Liechtenstein\", \"Barbados\", \"Zambia\", \"Cabo Verde\", \"Guyana\", \"Bahamas\", \"Uganda\", \"Haiti\", \"Benin\", \"Libya\", \"Guinea-Bissau\", \"Sierra Leone\", \"Nepal\", \"Syria\", \"Mozambique\", \"Eritrea\", \"Mongolia\", \"Chad\", \"Eswatini\", \"Zimbabwe\", \"Angola\", \"Antigua and Barbuda\", \"Timor-Leste\", \"Botswana\", \"Laos\", \"Malawi\", \"Belize\", \"Fiji\", \"Dominica\", \"Namibia\", \"Saint Lucia\", \"Saint Kitts and Nevis\", \"Central African Republic\", \"Grenada\", \"Saint Vincent and the Grenadines\", \"Seychelles\", \"Nicaragua\", \"Gambia\", \"Suriname\", \"Holy See\", \"MS Zaandam\", \"Mauritania\", \"Papua New Guinea\", \"Bhutan\", \"Western Sahara\", \"Burundi\", \"South Sudan\", \"Sao Tome and Principe\", \"Yemen\"], \"legendgroup\": \"\", \"locations\": [\"USA\", \"ESP\", \"ITA\", \"FRA\", \"DEU\", \"GBR\", \"TUR\", \"IRN\", \"CHN\", \"RUS\", \"BEL\", \"BRA\", \"CAN\", \"NLD\", \"CHE\", \"PRT\", \"IND\", \"PER\", \"IRL\", \"SWE\", \"AUT\", \"ISR\", \"SAU\", \"JPN\", \"CHL\", \"KOR\", \"ECU\", \"POL\", \"PAK\", \"ROU\", \"SGP\", \"MEX\", \"DNK\", \"ARE\", \"NOR\", \"IDN\", \"CZE\", \"BLR\", \"SRB\", \"PHL\", \"AUS\", \"QAT\", \"UKR\", \"MYS\", \"DOM\", \"PAN\", \"FIN\", \"COL\", \"LUX\", \"EGY\", \"ZAF\", \"BGD\", \"MAR\", \"ARG\", \"THA\", \"DZA\", \"MDA\", \"GRC\", \"HUN\", \"KWT\", \"KAZ\", \"BHR\", \"HRV\", \"ISL\", \"UZB\", \"IRQ\", \"EST\", \"OMN\", \"AZE\", \"NZL\", \"ARM\", \"LTU\", \"SVN\", \"BIH\", \"MKD\", \"SVK\", \"CMR\", \"CUB\", \"AFG\", \"GHA\", \"BGR\", \"DJI\", \"TUN\", \"CIV\", \"CYP\", \"LVA\", \"AND\", null, \"GIN\", \"LBN\", \"CRI\", \"NGA\", \"NER\", \"ALB\", \"BFA\", \"BOL\", \"KGZ\", \"URY\", \"XKS\", \"HND\", \"SMR\", \"PSE\", \"MLT\", \"JOR\", \"TWN\", \"SEN\", \"GEO\", \"COD\", \"MUS\", \"MNE\", \"LKA\", \"KEN\", \"GTM\", \"SOM\", \"VEN\", \"VNM\", \"MLI\", \"TZA\", \"SLV\", \"JAM\", \"PRY\", \"COG\", \"RWA\", \"BRN\", \"KHM\", \"MMR\", \"MDG\", \"GAB\", \"ETH\", \"TTO\", \"SDN\", \"LBR\", \"MCO\", \"TGO\", \"MDV\", \"GNQ\", \"LIE\", \"BRB\", \"ZMB\", \"CPV\", \"GUY\", \"BHS\", \"UGA\", \"HTI\", \"BEN\", \"LBY\", \"GNB\", \"SLE\", \"NPL\", \"SYR\", \"MOZ\", \"ERI\", \"MNG\", \"TCD\", \"SWZ\", \"ZWE\", \"AGO\", \"ATG\", \"TLS\", \"BWA\", \"LAO\", \"MWI\", \"BLZ\", \"FJI\", \"DMA\", \"NAM\", \"LCA\", \"KNA\", \"CAF\", \"GRD\", \"VCT\", \"SYC\", \"NIC\", \"GMB\", \"SUR\", \"VAT\", null, \"MRT\", \"PNG\", \"BTN\", \"ESH\", \"BDI\", \"SSD\", \"STP\", \"YEM\"], \"marker\": {\"color\": [43796, 21282, 24648, 20829, 4961, 17378, 2259, 5297, 4636, 456, 5998, 2588, 1872, 3929, 1478, 762, 603, 484, 730, 1765, 491, 184, 109, 263, 147, 237, 520, 401, 201, 498, 11, 712, 370, 46, 182, 616, 201, 55, 125, 437, 67, 9, 161, 92, 245, 136, 141, 189, 78, 264, 58, 110, 145, 147, 48, 392, 72, 121, 213, 11, 19, 7, 48, 10, 6, 83, 43, 8, 20, 13, 24, 38, 77, 51, 55, 14, 43, 38, 36, 9, 45, 2, 38, 10, 12, 9, 37, 13, 6, 21, 6, 22, 20, 26, 38, 34, 7, 11, 12, 46, 40, 4, 3, 7, 6, 5, 4, 25, 9, 5, 7, 14, 7, 8, 10, 0, 14, 10, 7, 6, 8, 6, 0, 1, 0, 5, 0, 1, 3, 8, 12, 8, 3, 6, 0, 0, 1, 5, 3, 1, 7, 9, 0, 3, 1, 1, 0, 0, 0, 3, 0, 0, 0, 0, 1, 3, 2, 3, 0, 1, 0, 2, 2, 0, 0, 0, 0, 0, 0, 0, 0, 0, 2, 1, 1, 0, 2, 1, 0, 0, 0, 1, 0, 0, 0], \"coloraxis\": \"coloraxis\", \"size\": [43796, 21282, 24648, 20829, 4961, 17378, 2259, 5297, 4636, 456, 5998, 2588, 1872, 3929, 1478, 762, 603, 484, 730, 1765, 491, 184, 109, 263, 147, 237, 520, 401, 201, 498, 11, 712, 370, 46, 182, 616, 201, 55, 125, 437, 67, 9, 161, 92, 245, 136, 141, 189, 78, 264, 58, 110, 145, 147, 48, 392, 72, 121, 213, 11, 19, 7, 48, 10, 6, 83, 43, 8, 20, 13, 24, 38, 77, 51, 55, 14, 43, 38, 36, 9, 45, 2, 38, 10, 12, 9, 37, 13, 6, 21, 6, 22, 20, 26, 38, 34, 7, 11, 12, 46, 40, 4, 3, 7, 6, 5, 4, 25, 9, 5, 7, 14, 7, 8, 10, 0, 14, 10, 7, 6, 8, 6, 0, 1, 0, 5, 0, 1, 3, 8, 12, 8, 3, 6, 0, 0, 1, 5, 3, 1, 7, 9, 0, 3, 1, 1, 0, 0, 0, 3, 0, 0, 0, 0, 1, 3, 2, 3, 0, 1, 0, 2, 2, 0, 0, 0, 0, 0, 0, 0, 0, 0, 2, 1, 1, 0, 2, 1, 0, 0, 0, 1, 0, 0, 0], \"sizemode\": \"area\", \"sizeref\": 12.165555555555555}, \"name\": \"\", \"showlegend\": false, \"type\": \"scattergeo\"}],\n",
       "                        {\"coloraxis\": {\"colorbar\": {\"title\": {\"text\": \"deaths\"}}, \"colorscale\": [[0.0, \"rgb(5,48,97)\"], [0.1, \"rgb(33,102,172)\"], [0.2, \"rgb(67,147,195)\"], [0.3, \"rgb(146,197,222)\"], [0.4, \"rgb(209,229,240)\"], [0.5, \"rgb(247,247,247)\"], [0.6, \"rgb(253,219,199)\"], [0.7, \"rgb(244,165,130)\"], [0.8, \"rgb(214,96,77)\"], [0.9, \"rgb(178,24,43)\"], [1.0, \"rgb(103,0,31)\"]]}, \"geo\": {\"center\": {}, \"domain\": {\"x\": [0.0, 1.0], \"y\": [0.0, 1.0]}, \"projection\": {\"type\": \"natural earth\"}}, \"legend\": {\"itemsizing\": \"constant\", \"tracegroupgap\": 0}, \"margin\": {\"b\": 20, \"l\": 20, \"r\": 20, \"t\": 20}, \"template\": {\"data\": {\"bar\": [{\"error_x\": {\"color\": \"#2a3f5f\"}, \"error_y\": {\"color\": \"#2a3f5f\"}, \"marker\": {\"line\": {\"color\": \"#E5ECF6\", \"width\": 0.5}}, \"type\": \"bar\"}], \"barpolar\": [{\"marker\": {\"line\": {\"color\": \"#E5ECF6\", \"width\": 0.5}}, \"type\": \"barpolar\"}], \"carpet\": [{\"aaxis\": {\"endlinecolor\": \"#2a3f5f\", \"gridcolor\": \"white\", \"linecolor\": \"white\", \"minorgridcolor\": \"white\", \"startlinecolor\": \"#2a3f5f\"}, \"baxis\": {\"endlinecolor\": \"#2a3f5f\", \"gridcolor\": \"white\", \"linecolor\": \"white\", \"minorgridcolor\": \"white\", \"startlinecolor\": \"#2a3f5f\"}, \"type\": \"carpet\"}], \"choropleth\": [{\"colorbar\": {\"outlinewidth\": 0, \"ticks\": \"\"}, \"type\": \"choropleth\"}], \"contour\": [{\"colorbar\": {\"outlinewidth\": 0, \"ticks\": \"\"}, \"colorscale\": [[0.0, \"#0d0887\"], [0.1111111111111111, \"#46039f\"], [0.2222222222222222, \"#7201a8\"], [0.3333333333333333, \"#9c179e\"], [0.4444444444444444, \"#bd3786\"], [0.5555555555555556, \"#d8576b\"], [0.6666666666666666, \"#ed7953\"], [0.7777777777777778, \"#fb9f3a\"], [0.8888888888888888, \"#fdca26\"], [1.0, \"#f0f921\"]], \"type\": \"contour\"}], \"contourcarpet\": [{\"colorbar\": {\"outlinewidth\": 0, \"ticks\": \"\"}, \"type\": \"contourcarpet\"}], \"heatmap\": [{\"colorbar\": {\"outlinewidth\": 0, \"ticks\": \"\"}, \"colorscale\": [[0.0, \"#0d0887\"], [0.1111111111111111, \"#46039f\"], [0.2222222222222222, \"#7201a8\"], [0.3333333333333333, \"#9c179e\"], [0.4444444444444444, \"#bd3786\"], [0.5555555555555556, \"#d8576b\"], [0.6666666666666666, \"#ed7953\"], [0.7777777777777778, \"#fb9f3a\"], [0.8888888888888888, \"#fdca26\"], [1.0, \"#f0f921\"]], \"type\": \"heatmap\"}], \"heatmapgl\": [{\"colorbar\": {\"outlinewidth\": 0, \"ticks\": \"\"}, \"colorscale\": [[0.0, \"#0d0887\"], [0.1111111111111111, \"#46039f\"], [0.2222222222222222, \"#7201a8\"], [0.3333333333333333, \"#9c179e\"], [0.4444444444444444, \"#bd3786\"], [0.5555555555555556, \"#d8576b\"], [0.6666666666666666, \"#ed7953\"], [0.7777777777777778, \"#fb9f3a\"], [0.8888888888888888, \"#fdca26\"], [1.0, \"#f0f921\"]], \"type\": \"heatmapgl\"}], \"histogram\": [{\"marker\": {\"colorbar\": {\"outlinewidth\": 0, \"ticks\": \"\"}}, \"type\": \"histogram\"}], \"histogram2d\": [{\"colorbar\": {\"outlinewidth\": 0, \"ticks\": \"\"}, \"colorscale\": [[0.0, \"#0d0887\"], [0.1111111111111111, \"#46039f\"], [0.2222222222222222, \"#7201a8\"], [0.3333333333333333, \"#9c179e\"], [0.4444444444444444, \"#bd3786\"], [0.5555555555555556, \"#d8576b\"], [0.6666666666666666, \"#ed7953\"], [0.7777777777777778, \"#fb9f3a\"], [0.8888888888888888, \"#fdca26\"], [1.0, \"#f0f921\"]], \"type\": \"histogram2d\"}], \"histogram2dcontour\": [{\"colorbar\": {\"outlinewidth\": 0, \"ticks\": \"\"}, \"colorscale\": [[0.0, \"#0d0887\"], [0.1111111111111111, \"#46039f\"], [0.2222222222222222, \"#7201a8\"], [0.3333333333333333, \"#9c179e\"], [0.4444444444444444, \"#bd3786\"], [0.5555555555555556, \"#d8576b\"], [0.6666666666666666, \"#ed7953\"], [0.7777777777777778, \"#fb9f3a\"], [0.8888888888888888, \"#fdca26\"], [1.0, \"#f0f921\"]], \"type\": \"histogram2dcontour\"}], \"mesh3d\": [{\"colorbar\": {\"outlinewidth\": 0, \"ticks\": \"\"}, \"type\": \"mesh3d\"}], \"parcoords\": [{\"line\": {\"colorbar\": {\"outlinewidth\": 0, \"ticks\": \"\"}}, \"type\": \"parcoords\"}], \"pie\": [{\"automargin\": true, \"type\": \"pie\"}], \"scatter\": [{\"marker\": {\"colorbar\": {\"outlinewidth\": 0, \"ticks\": \"\"}}, \"type\": \"scatter\"}], \"scatter3d\": [{\"line\": {\"colorbar\": {\"outlinewidth\": 0, \"ticks\": \"\"}}, \"marker\": {\"colorbar\": {\"outlinewidth\": 0, \"ticks\": \"\"}}, \"type\": \"scatter3d\"}], \"scattercarpet\": [{\"marker\": {\"colorbar\": {\"outlinewidth\": 0, \"ticks\": \"\"}}, \"type\": \"scattercarpet\"}], \"scattergeo\": [{\"marker\": {\"colorbar\": {\"outlinewidth\": 0, \"ticks\": \"\"}}, \"type\": \"scattergeo\"}], \"scattergl\": [{\"marker\": {\"colorbar\": {\"outlinewidth\": 0, \"ticks\": \"\"}}, \"type\": \"scattergl\"}], \"scattermapbox\": [{\"marker\": {\"colorbar\": {\"outlinewidth\": 0, \"ticks\": \"\"}}, \"type\": \"scattermapbox\"}], \"scatterpolar\": [{\"marker\": {\"colorbar\": {\"outlinewidth\": 0, \"ticks\": \"\"}}, \"type\": \"scatterpolar\"}], \"scatterpolargl\": [{\"marker\": {\"colorbar\": {\"outlinewidth\": 0, \"ticks\": \"\"}}, \"type\": \"scatterpolargl\"}], \"scatterternary\": [{\"marker\": {\"colorbar\": {\"outlinewidth\": 0, \"ticks\": \"\"}}, \"type\": \"scatterternary\"}], \"surface\": [{\"colorbar\": {\"outlinewidth\": 0, \"ticks\": \"\"}, \"colorscale\": [[0.0, \"#0d0887\"], [0.1111111111111111, \"#46039f\"], [0.2222222222222222, \"#7201a8\"], [0.3333333333333333, \"#9c179e\"], [0.4444444444444444, \"#bd3786\"], [0.5555555555555556, \"#d8576b\"], [0.6666666666666666, \"#ed7953\"], [0.7777777777777778, \"#fb9f3a\"], [0.8888888888888888, \"#fdca26\"], [1.0, \"#f0f921\"]], \"type\": \"surface\"}], \"table\": [{\"cells\": {\"fill\": {\"color\": \"#EBF0F8\"}, \"line\": {\"color\": \"white\"}}, \"header\": {\"fill\": {\"color\": \"#C8D4E3\"}, \"line\": {\"color\": \"white\"}}, \"type\": \"table\"}]}, \"layout\": {\"annotationdefaults\": {\"arrowcolor\": \"#2a3f5f\", \"arrowhead\": 0, \"arrowwidth\": 1}, \"coloraxis\": {\"colorbar\": {\"outlinewidth\": 0, \"ticks\": \"\"}}, \"colorscale\": {\"diverging\": [[0, \"#8e0152\"], [0.1, \"#c51b7d\"], [0.2, \"#de77ae\"], [0.3, \"#f1b6da\"], [0.4, \"#fde0ef\"], [0.5, \"#f7f7f7\"], [0.6, \"#e6f5d0\"], [0.7, \"#b8e186\"], [0.8, \"#7fbc41\"], [0.9, \"#4d9221\"], [1, \"#276419\"]], \"sequential\": [[0.0, \"#0d0887\"], [0.1111111111111111, \"#46039f\"], [0.2222222222222222, \"#7201a8\"], [0.3333333333333333, \"#9c179e\"], [0.4444444444444444, \"#bd3786\"], [0.5555555555555556, \"#d8576b\"], [0.6666666666666666, \"#ed7953\"], [0.7777777777777778, \"#fb9f3a\"], [0.8888888888888888, \"#fdca26\"], [1.0, \"#f0f921\"]], \"sequentialminus\": [[0.0, \"#0d0887\"], [0.1111111111111111, \"#46039f\"], [0.2222222222222222, \"#7201a8\"], [0.3333333333333333, \"#9c179e\"], [0.4444444444444444, \"#bd3786\"], [0.5555555555555556, \"#d8576b\"], [0.6666666666666666, \"#ed7953\"], [0.7777777777777778, \"#fb9f3a\"], [0.8888888888888888, \"#fdca26\"], [1.0, \"#f0f921\"]]}, \"colorway\": [\"#636efa\", \"#EF553B\", \"#00cc96\", \"#ab63fa\", \"#FFA15A\", \"#19d3f3\", \"#FF6692\", \"#B6E880\", \"#FF97FF\", \"#FECB52\"], \"font\": {\"color\": \"#2a3f5f\"}, \"geo\": {\"bgcolor\": \"white\", \"lakecolor\": \"white\", \"landcolor\": \"#E5ECF6\", \"showlakes\": true, \"showland\": true, \"subunitcolor\": \"white\"}, \"hoverlabel\": {\"align\": \"left\"}, \"hovermode\": \"closest\", \"mapbox\": {\"style\": \"light\"}, \"paper_bgcolor\": \"white\", \"plot_bgcolor\": \"#E5ECF6\", \"polar\": {\"angularaxis\": {\"gridcolor\": \"white\", \"linecolor\": \"white\", \"ticks\": \"\"}, \"bgcolor\": \"#E5ECF6\", \"radialaxis\": {\"gridcolor\": \"white\", \"linecolor\": \"white\", \"ticks\": \"\"}}, \"scene\": {\"xaxis\": {\"backgroundcolor\": \"#E5ECF6\", \"gridcolor\": \"white\", \"gridwidth\": 2, \"linecolor\": \"white\", \"showbackground\": true, \"ticks\": \"\", \"zerolinecolor\": \"white\"}, \"yaxis\": {\"backgroundcolor\": \"#E5ECF6\", \"gridcolor\": \"white\", \"gridwidth\": 2, \"linecolor\": \"white\", \"showbackground\": true, \"ticks\": \"\", \"zerolinecolor\": \"white\"}, \"zaxis\": {\"backgroundcolor\": \"#E5ECF6\", \"gridcolor\": \"white\", \"gridwidth\": 2, \"linecolor\": \"white\", \"showbackground\": true, \"ticks\": \"\", \"zerolinecolor\": \"white\"}}, \"shapedefaults\": {\"line\": {\"color\": \"#2a3f5f\"}}, \"ternary\": {\"aaxis\": {\"gridcolor\": \"white\", \"linecolor\": \"white\", \"ticks\": \"\"}, \"baxis\": {\"gridcolor\": \"white\", \"linecolor\": \"white\", \"ticks\": \"\"}, \"bgcolor\": \"#E5ECF6\", \"caxis\": {\"gridcolor\": \"white\", \"linecolor\": \"white\", \"ticks\": \"\"}}, \"title\": {\"x\": 0.05}, \"xaxis\": {\"automargin\": true, \"gridcolor\": \"white\", \"linecolor\": \"white\", \"ticks\": \"\", \"title\": {\"standoff\": 15}, \"zerolinecolor\": \"white\", \"zerolinewidth\": 2}, \"yaxis\": {\"automargin\": true, \"gridcolor\": \"white\", \"linecolor\": \"white\", \"ticks\": \"\", \"title\": {\"standoff\": 15}, \"zerolinecolor\": \"white\", \"zerolinewidth\": 2}}}},\n",
       "                        {\"responsive\": true}\n",
       "                    ).then(function(){\n",
       "                            \n",
       "var gd = document.getElementById('2b19da35-94b3-4161-b741-8377d50b6bb7');\n",
       "var x = new MutationObserver(function (mutations, observer) {{\n",
       "        var display = window.getComputedStyle(gd).display;\n",
       "        if (!display || display === 'none') {{\n",
       "            console.log([gd, 'removed!']);\n",
       "            Plotly.purge(gd);\n",
       "            observer.disconnect();\n",
       "        }}\n",
       "}});\n",
       "\n",
       "// Listen for the removal of the full notebook cells\n",
       "var notebookContainer = gd.closest('#notebook-container');\n",
       "if (notebookContainer) {{\n",
       "    x.observe(notebookContainer, {childList: true});\n",
       "}}\n",
       "\n",
       "// Listen for the clearing of the current output cell\n",
       "var outputEl = gd.closest('.output');\n",
       "if (outputEl) {{\n",
       "    x.observe(outputEl, {childList: true});\n",
       "}}\n",
       "\n",
       "                        })\n",
       "                };\n",
       "                });\n",
       "            </script>\n",
       "        </div>"
      ]
     },
     "metadata": {},
     "output_type": "display_data"
    }
   ],
   "source": [
    "fig = px.scatter_geo(sorted_country_df, \n",
    "                     locations=\"Country\", \n",
    "                     color=\"deaths\",\n",
    "                     hover_name=\"country\", \n",
    "                     size=\"deaths\",\n",
    "                     projection=\"natural earth\",\n",
    "                     size_max=60,\n",
    "                     color_continuous_scale='RdBu_R')\n",
    "\n",
    "fig.update_layout(\n",
    "        margin=dict(l=20, r=20, t=20, b=20))\n",
    "fig.show()"
   ]
  },
  {
   "cell_type": "markdown",
   "metadata": {},
   "source": [
    "# Global - Population Density \n",
    "#### Note: Population Density as of 2018, total of approx 7.5 Billion (Approx 300 million less than 2020)\n"
   ]
  },
  {
   "cell_type": "code",
   "execution_count": 91,
   "metadata": {},
   "outputs": [],
   "source": [
    "population_df = pd.read_csv(\"https://raw.githubusercontent.com/ericchee08/COVID-19-DASHBOARD/master/Population%202018.csv\")"
   ]
  },
  {
   "cell_type": "code",
   "execution_count": 180,
   "metadata": {},
   "outputs": [],
   "source": [
    "population_sorted = population_df.sort_values('2018',ascending=False)\n",
    "population_filtered = population_sorted.drop(population_df.index[[255,100,136,152,99,60,135,245,61,138,226,200, 236, 101,59]])"
   ]
  },
  {
   "cell_type": "code",
   "execution_count": 187,
   "metadata": {
    "scrolled": false
   },
   "outputs": [
    {
     "data": {
      "application/vnd.plotly.v1+json": {
       "config": {
        "plotlyServerURL": "https://plot.ly"
       },
       "data": [
        {
         "geo": "geo",
         "hovertemplate": "<b>%{hovertext}</b><br><br>2018=%{marker.color}<br>Country Code=%{location}<extra></extra>",
         "hovertext": [
          "China",
          "India",
          "OECD members",
          "High income",
          "Post-demographic dividend",
          "IDA only",
          "Sub-Saharan Africa",
          "Sub-Saharan Africa (IDA & IBRD countries)",
          "Sub-Saharan Africa (excluding high income)",
          "Least developed countries: UN classification",
          "Pre-demographic dividend",
          "Europe & Central Asia",
          "Heavily indebted poor countries (HIPC)",
          "Fragile and conflict affected situations",
          "Low income",
          "Latin America & Caribbean",
          "Latin America & the Caribbean (IDA & IBRD countries)",
          "Latin America & Caribbean (excluding high income)",
          "IDA blend",
          "Europe & Central Asia (IDA & IBRD countries)",
          "Middle East & North Africa",
          "European Union",
          "Arab World",
          "Europe & Central Asia (excluding high income)",
          "Middle East & North Africa (excluding high income)",
          "Middle East & North Africa (IDA & IBRD countries)",
          "North America",
          "Euro area",
          "United States",
          "Indonesia",
          "Pakistan",
          "Brazil",
          "Nigeria",
          "Bangladesh",
          "Russian Federation",
          "Japan",
          "Mexico",
          "Ethiopia",
          "Philippines",
          "Central Europe and the Baltics",
          "Egypt, Arab Rep.",
          "Vietnam",
          "Congo, Dem. Rep.",
          "Germany",
          "Turkey",
          "Iran, Islamic Rep.",
          "Thailand",
          "France",
          "United Kingdom",
          "Italy",
          "South Africa",
          "Tanzania",
          "Myanmar",
          "Korea, Rep.",
          "Kenya",
          "Colombia",
          "Spain",
          "Ukraine",
          "Argentina",
          "Uganda",
          "Algeria",
          "Sudan",
          "Small states",
          "Iraq",
          "Poland",
          "Afghanistan",
          "Canada",
          "Morocco",
          "Saudi Arabia",
          "Uzbekistan",
          "Peru",
          "Malaysia",
          "Angola",
          "Other small states",
          "Ghana",
          "Mozambique",
          "Venezuela, RB",
          "Yemen, Rep.",
          "Nepal",
          "Madagascar",
          "Korea, Dem. People’s Rep.",
          "Cameroon",
          "Cote d'Ivoire",
          "Australia",
          "Niger",
          "Sri Lanka",
          "Burkina Faso",
          "Romania",
          "Mali",
          "Chile",
          "Kazakhstan",
          "Malawi",
          "Zambia",
          "Guatemala",
          "Netherlands",
          "Ecuador",
          "Syrian Arab Republic",
          "Cambodia",
          "Senegal",
          "Chad",
          "Somalia",
          "Zimbabwe",
          "Guinea",
          "Rwanda",
          "Tunisia",
          "Benin",
          "Belgium",
          "Bolivia",
          "Cuba",
          "Burundi",
          "Haiti",
          "South Sudan",
          "Greece",
          "Czech Republic",
          "Dominican Republic",
          "Portugal",
          "Sweden",
          "Jordan",
          "Azerbaijan",
          "Hungary",
          "United Arab Emirates",
          "Honduras",
          "Belarus",
          "Tajikistan",
          "Israel",
          "Austria",
          "Papua New Guinea",
          "Switzerland",
          "Togo",
          "Sierra Leone",
          "Hong Kong SAR, China",
          "Caribbean small states",
          "Lao PDR",
          "Bulgaria",
          "Serbia",
          "Paraguay",
          "Lebanon",
          "Libya",
          "Nicaragua",
          "El Salvador",
          "Kyrgyz Republic",
          "Turkmenistan",
          "Denmark",
          "Singapore",
          "Finland",
          "Slovak Republic",
          "Norway",
          "Congo, Rep.",
          "Costa Rica",
          "Ireland",
          "New Zealand",
          "Oman",
          "Liberia",
          "Central African Republic",
          "West Bank and Gaza",
          "Mauritania",
          "Panama",
          "Kuwait",
          "Croatia",
          "Georgia",
          "Uruguay",
          "Bosnia and Herzegovina",
          "Puerto Rico",
          "Mongolia",
          "Armenia",
          "Jamaica",
          "Albania",
          "Lithuania",
          "Qatar",
          "Moldova",
          "Pacific island small states",
          "Namibia",
          "Gambia, The",
          "Botswana",
          "Gabon",
          "Lesotho",
          "North Macedonia",
          "Slovenia",
          "Latvia",
          "Guinea-Bissau",
          "Kosovo",
          "Bahrain",
          "Trinidad and Tobago",
          "Estonia",
          "Equatorial Guinea",
          "Timor-Leste",
          "Mauritius",
          "Cyprus",
          "Eswatini",
          "Djibouti",
          "Fiji",
          "Comoros",
          "Guyana",
          "Bhutan",
          "Solomon Islands",
          "Macao SAR, China",
          "Montenegro",
          "Luxembourg",
          "Suriname",
          "Cabo Verde",
          "Maldives",
          "Malta",
          "Brunei Darussalam",
          "Bahamas, The",
          "Belize",
          "Iceland",
          "Vanuatu",
          "Barbados",
          "New Caledonia",
          "French Polynesia",
          "Sao Tome and Principe",
          "Samoa",
          "St. Lucia",
          "Channel Islands",
          "Guam",
          "Curacao",
          "Kiribati",
          "Micronesia, Fed. Sts.",
          "Grenada",
          "St. Vincent and the Grenadines",
          "Virgin Islands (U.S.)",
          "Aruba",
          "Tonga",
          "Seychelles",
          "Antigua and Barbuda",
          "Isle of Man",
          "Andorra",
          "Dominica",
          "Cayman Islands",
          "Bermuda",
          "Marshall Islands",
          "Northern Mariana Islands",
          "Greenland",
          "American Samoa",
          "St. Kitts and Nevis",
          "Faroe Islands",
          "Sint Maarten (Dutch part)",
          "Monaco",
          "Liechtenstein",
          "Turks and Caicos Islands",
          "St. Martin (French part)",
          "San Marino",
          "Gibraltar",
          "British Virgin Islands",
          "Palau",
          "Nauru",
          "Tuvalu"
         ],
         "legendgroup": "",
         "locations": [
          "CHN",
          "IND",
          "OED",
          "HIC",
          "PST",
          "IDX",
          "SSF",
          "TSS",
          "SSA",
          "LDC",
          "PRE",
          "ECS",
          "HPC",
          "FCS",
          "LIC",
          "LCN",
          "TLA",
          "LAC",
          "IDB",
          "TEC",
          "MEA",
          "EUU",
          "ARB",
          "ECA",
          "MNA",
          "TMN",
          "NAC",
          "EMU",
          "USA",
          "IDN",
          "PAK",
          "BRA",
          "NGA",
          "BGD",
          "RUS",
          "JPN",
          "MEX",
          "ETH",
          "PHL",
          "CEB",
          "EGY",
          "VNM",
          "COD",
          "DEU",
          "TUR",
          "IRN",
          "THA",
          "FRA",
          "GBR",
          "ITA",
          "ZAF",
          "TZA",
          "MMR",
          "KOR",
          "KEN",
          "COL",
          "ESP",
          "UKR",
          "ARG",
          "UGA",
          "DZA",
          "SDN",
          "SST",
          "IRQ",
          "POL",
          "AFG",
          "CAN",
          "MAR",
          "SAU",
          "UZB",
          "PER",
          "MYS",
          "AGO",
          "OSS",
          "GHA",
          "MOZ",
          "VEN",
          "YEM",
          "NPL",
          "MDG",
          "PRK",
          "CMR",
          "CIV",
          "AUS",
          "NER",
          "LKA",
          "BFA",
          "ROU",
          "MLI",
          "CHL",
          "KAZ",
          "MWI",
          "ZMB",
          "GTM",
          "NLD",
          "ECU",
          "SYR",
          "KHM",
          "SEN",
          "TCD",
          "SOM",
          "ZWE",
          "GIN",
          "RWA",
          "TUN",
          "BEN",
          "BEL",
          "BOL",
          "CUB",
          "BDI",
          "HTI",
          "SSD",
          "GRC",
          "CZE",
          "DOM",
          "PRT",
          "SWE",
          "JOR",
          "AZE",
          "HUN",
          "ARE",
          "HND",
          "BLR",
          "TJK",
          "ISR",
          "AUT",
          "PNG",
          "CHE",
          "TGO",
          "SLE",
          "HKG",
          "CSS",
          "LAO",
          "BGR",
          "SRB",
          "PRY",
          "LBN",
          "LBY",
          "NIC",
          "SLV",
          "KGZ",
          "TKM",
          "DNK",
          "SGP",
          "FIN",
          "SVK",
          "NOR",
          "COG",
          "CRI",
          "IRL",
          "NZL",
          "OMN",
          "LBR",
          "CAF",
          "PSE",
          "MRT",
          "PAN",
          "KWT",
          "HRV",
          "GEO",
          "URY",
          "BIH",
          "PRI",
          "MNG",
          "ARM",
          "JAM",
          "ALB",
          "LTU",
          "QAT",
          "MDA",
          "PSS",
          "NAM",
          "GMB",
          "BWA",
          "GAB",
          "LSO",
          "MKD",
          "SVN",
          "LVA",
          "GNB",
          "XKX",
          "BHR",
          "TTO",
          "EST",
          "GNQ",
          "TLS",
          "MUS",
          "CYP",
          "SWZ",
          "DJI",
          "FJI",
          "COM",
          "GUY",
          "BTN",
          "SLB",
          "MAC",
          "MNE",
          "LUX",
          "SUR",
          "CPV",
          "MDV",
          "MLT",
          "BRN",
          "BHS",
          "BLZ",
          "ISL",
          "VUT",
          "BRB",
          "NCL",
          "PYF",
          "STP",
          "WSM",
          "LCA",
          "CHI",
          "GUM",
          "CUW",
          "KIR",
          "FSM",
          "GRD",
          "VCT",
          "VIR",
          "ABW",
          "TON",
          "SYC",
          "ATG",
          "IMN",
          "AND",
          "DMA",
          "CYM",
          "BMU",
          "MHL",
          "MNP",
          "GRL",
          "ASM",
          "KNA",
          "FRO",
          "SXM",
          "MCO",
          "LIE",
          "TCA",
          "MAF",
          "SMR",
          "GIB",
          "VGB",
          "PLW",
          "NRU",
          "TUV"
         ],
         "marker": {
          "color": [
           1392730000,
           1352617328,
           1303529456,
           1210312147,
           1109997273,
           1084407516,
           1078306520,
           1078306520,
           1078209758,
           1009662578,
           919485393,
           918793590,
           780234406,
           743958386,
           705417321,
           641357515,
           625569713,
           609013934,
           555830605,
           459865205,
           448912859,
           446786293,
           419790588,
           417797257,
           382896715,
           378327628,
           364290258,
           341783171,
           326687501,
           267663435,
           212215030,
           209469333,
           195874740,
           161356039,
           144478050,
           126529100,
           126190788,
           109224559,
           106651922,
           102511922,
           98423595,
           95540395,
           84068091,
           82905782,
           82319724,
           81800269,
           69428524,
           66977107,
           66460344,
           60421760,
           57779622,
           56318348,
           53708395,
           51606633,
           51393010,
           49648685,
           46796540,
           44622516,
           44494502,
           42723139,
           42228429,
           41801533,
           40575321,
           38433600,
           37974750,
           37172386,
           37057765,
           36029138,
           33699947,
           32955400,
           31989256,
           31528585,
           30809762,
           30758989,
           29767108,
           29495962,
           28870195,
           28498687,
           28087871,
           26262368,
           25549819,
           25216237,
           25069229,
           24982688,
           22442948,
           21670000,
           19751535,
           19466145,
           19077690,
           18729160,
           18272430,
           18143315,
           17351822,
           17247807,
           17231624,
           17084357,
           16906283,
           16249798,
           15854360,
           15477751,
           15008154,
           14439018,
           12414318,
           12301939,
           11565204,
           11485048,
           11433256,
           11353142,
           11338138,
           11175378,
           11123176,
           10975920,
           10731726,
           10629928,
           10627165,
           10283822,
           10175214,
           9956011,
           9939800,
           9775564,
           9630959,
           9587522,
           9483499,
           9100837,
           8882800,
           8840521,
           8606316,
           8513227,
           7889094,
           7650154,
           7451000,
           7358965,
           7061507,
           7025037,
           6982604,
           6956071,
           6848925,
           6678567,
           6465513,
           6420744,
           6322800,
           5850908,
           5793636,
           5638676,
           5515525,
           5446771,
           5311916,
           5244363,
           4999441,
           4867309,
           4841000,
           4829483,
           4818977,
           4666377,
           4569087,
           4403319,
           4176873,
           4137309,
           4087843,
           3726549,
           3449299,
           3323929,
           3195153,
           3170208,
           2951776,
           2934855,
           2866376,
           2801543,
           2781677,
           2706049,
           2457367,
           2448255,
           2280102,
           2254126,
           2119275,
           2108132,
           2082958,
           2073894,
           1927174,
           1874309,
           1845300,
           1569439,
           1389858,
           1321977,
           1308974,
           1267972,
           1265303,
           1189265,
           1136191,
           958920,
           883483,
           832322,
           779004,
           754394,
           652858,
           631636,
           622227,
           607950,
           575991,
           543767,
           515696,
           484630,
           428962,
           385640,
           383071,
           352721,
           292680,
           286641,
           284060,
           277679,
           211028,
           196130,
           181889,
           170499,
           165768,
           159800,
           115847,
           112640,
           111454,
           110210,
           106977,
           105845,
           103197,
           96762,
           96286,
           84077,
           77006,
           71625,
           64174,
           63973,
           58413,
           56882,
           56025,
           55465,
           52441,
           48497,
           40654,
           38682,
           37910,
           37665,
           37264,
           33785,
           33718,
           29802,
           17907,
           12704,
           11508
          ],
          "coloraxis": "coloraxis",
          "size": [
           1392730000,
           1352617328,
           1303529456,
           1210312147,
           1109997273,
           1084407516,
           1078306520,
           1078306520,
           1078209758,
           1009662578,
           919485393,
           918793590,
           780234406,
           743958386,
           705417321,
           641357515,
           625569713,
           609013934,
           555830605,
           459865205,
           448912859,
           446786293,
           419790588,
           417797257,
           382896715,
           378327628,
           364290258,
           341783171,
           326687501,
           267663435,
           212215030,
           209469333,
           195874740,
           161356039,
           144478050,
           126529100,
           126190788,
           109224559,
           106651922,
           102511922,
           98423595,
           95540395,
           84068091,
           82905782,
           82319724,
           81800269,
           69428524,
           66977107,
           66460344,
           60421760,
           57779622,
           56318348,
           53708395,
           51606633,
           51393010,
           49648685,
           46796540,
           44622516,
           44494502,
           42723139,
           42228429,
           41801533,
           40575321,
           38433600,
           37974750,
           37172386,
           37057765,
           36029138,
           33699947,
           32955400,
           31989256,
           31528585,
           30809762,
           30758989,
           29767108,
           29495962,
           28870195,
           28498687,
           28087871,
           26262368,
           25549819,
           25216237,
           25069229,
           24982688,
           22442948,
           21670000,
           19751535,
           19466145,
           19077690,
           18729160,
           18272430,
           18143315,
           17351822,
           17247807,
           17231624,
           17084357,
           16906283,
           16249798,
           15854360,
           15477751,
           15008154,
           14439018,
           12414318,
           12301939,
           11565204,
           11485048,
           11433256,
           11353142,
           11338138,
           11175378,
           11123176,
           10975920,
           10731726,
           10629928,
           10627165,
           10283822,
           10175214,
           9956011,
           9939800,
           9775564,
           9630959,
           9587522,
           9483499,
           9100837,
           8882800,
           8840521,
           8606316,
           8513227,
           7889094,
           7650154,
           7451000,
           7358965,
           7061507,
           7025037,
           6982604,
           6956071,
           6848925,
           6678567,
           6465513,
           6420744,
           6322800,
           5850908,
           5793636,
           5638676,
           5515525,
           5446771,
           5311916,
           5244363,
           4999441,
           4867309,
           4841000,
           4829483,
           4818977,
           4666377,
           4569087,
           4403319,
           4176873,
           4137309,
           4087843,
           3726549,
           3449299,
           3323929,
           3195153,
           3170208,
           2951776,
           2934855,
           2866376,
           2801543,
           2781677,
           2706049,
           2457367,
           2448255,
           2280102,
           2254126,
           2119275,
           2108132,
           2082958,
           2073894,
           1927174,
           1874309,
           1845300,
           1569439,
           1389858,
           1321977,
           1308974,
           1267972,
           1265303,
           1189265,
           1136191,
           958920,
           883483,
           832322,
           779004,
           754394,
           652858,
           631636,
           622227,
           607950,
           575991,
           543767,
           515696,
           484630,
           428962,
           385640,
           383071,
           352721,
           292680,
           286641,
           284060,
           277679,
           211028,
           196130,
           181889,
           170499,
           165768,
           159800,
           115847,
           112640,
           111454,
           110210,
           106977,
           105845,
           103197,
           96762,
           96286,
           84077,
           77006,
           71625,
           64174,
           63973,
           58413,
           56882,
           56025,
           55465,
           52441,
           48497,
           40654,
           38682,
           37910,
           37665,
           37264,
           33785,
           33718,
           29802,
           17907,
           12704,
           11508
          ],
          "sizemode": "area",
          "sizeref": 386869.44444444444
         },
         "name": "",
         "showlegend": false,
         "type": "scattergeo"
        }
       ],
       "layout": {
        "coloraxis": {
         "colorbar": {
          "title": {
           "text": "2018"
          }
         },
         "colorscale": [
          [
           0,
           "rgb(5,48,97)"
          ],
          [
           0.1,
           "rgb(33,102,172)"
          ],
          [
           0.2,
           "rgb(67,147,195)"
          ],
          [
           0.3,
           "rgb(146,197,222)"
          ],
          [
           0.4,
           "rgb(209,229,240)"
          ],
          [
           0.5,
           "rgb(247,247,247)"
          ],
          [
           0.6,
           "rgb(253,219,199)"
          ],
          [
           0.7,
           "rgb(244,165,130)"
          ],
          [
           0.8,
           "rgb(214,96,77)"
          ],
          [
           0.9,
           "rgb(178,24,43)"
          ],
          [
           1,
           "rgb(103,0,31)"
          ]
         ]
        },
        "geo": {
         "center": {},
         "domain": {
          "x": [
           0,
           1
          ],
          "y": [
           0,
           1
          ]
         },
         "projection": {
          "type": "natural earth"
         }
        },
        "legend": {
         "itemsizing": "constant",
         "tracegroupgap": 0
        },
        "margin": {
         "b": 20,
         "l": 20,
         "r": 20,
         "t": 20
        },
        "template": {
         "data": {
          "bar": [
           {
            "error_x": {
             "color": "#2a3f5f"
            },
            "error_y": {
             "color": "#2a3f5f"
            },
            "marker": {
             "line": {
              "color": "#E5ECF6",
              "width": 0.5
             }
            },
            "type": "bar"
           }
          ],
          "barpolar": [
           {
            "marker": {
             "line": {
              "color": "#E5ECF6",
              "width": 0.5
             }
            },
            "type": "barpolar"
           }
          ],
          "carpet": [
           {
            "aaxis": {
             "endlinecolor": "#2a3f5f",
             "gridcolor": "white",
             "linecolor": "white",
             "minorgridcolor": "white",
             "startlinecolor": "#2a3f5f"
            },
            "baxis": {
             "endlinecolor": "#2a3f5f",
             "gridcolor": "white",
             "linecolor": "white",
             "minorgridcolor": "white",
             "startlinecolor": "#2a3f5f"
            },
            "type": "carpet"
           }
          ],
          "choropleth": [
           {
            "colorbar": {
             "outlinewidth": 0,
             "ticks": ""
            },
            "type": "choropleth"
           }
          ],
          "contour": [
           {
            "colorbar": {
             "outlinewidth": 0,
             "ticks": ""
            },
            "colorscale": [
             [
              0,
              "#0d0887"
             ],
             [
              0.1111111111111111,
              "#46039f"
             ],
             [
              0.2222222222222222,
              "#7201a8"
             ],
             [
              0.3333333333333333,
              "#9c179e"
             ],
             [
              0.4444444444444444,
              "#bd3786"
             ],
             [
              0.5555555555555556,
              "#d8576b"
             ],
             [
              0.6666666666666666,
              "#ed7953"
             ],
             [
              0.7777777777777778,
              "#fb9f3a"
             ],
             [
              0.8888888888888888,
              "#fdca26"
             ],
             [
              1,
              "#f0f921"
             ]
            ],
            "type": "contour"
           }
          ],
          "contourcarpet": [
           {
            "colorbar": {
             "outlinewidth": 0,
             "ticks": ""
            },
            "type": "contourcarpet"
           }
          ],
          "heatmap": [
           {
            "colorbar": {
             "outlinewidth": 0,
             "ticks": ""
            },
            "colorscale": [
             [
              0,
              "#0d0887"
             ],
             [
              0.1111111111111111,
              "#46039f"
             ],
             [
              0.2222222222222222,
              "#7201a8"
             ],
             [
              0.3333333333333333,
              "#9c179e"
             ],
             [
              0.4444444444444444,
              "#bd3786"
             ],
             [
              0.5555555555555556,
              "#d8576b"
             ],
             [
              0.6666666666666666,
              "#ed7953"
             ],
             [
              0.7777777777777778,
              "#fb9f3a"
             ],
             [
              0.8888888888888888,
              "#fdca26"
             ],
             [
              1,
              "#f0f921"
             ]
            ],
            "type": "heatmap"
           }
          ],
          "heatmapgl": [
           {
            "colorbar": {
             "outlinewidth": 0,
             "ticks": ""
            },
            "colorscale": [
             [
              0,
              "#0d0887"
             ],
             [
              0.1111111111111111,
              "#46039f"
             ],
             [
              0.2222222222222222,
              "#7201a8"
             ],
             [
              0.3333333333333333,
              "#9c179e"
             ],
             [
              0.4444444444444444,
              "#bd3786"
             ],
             [
              0.5555555555555556,
              "#d8576b"
             ],
             [
              0.6666666666666666,
              "#ed7953"
             ],
             [
              0.7777777777777778,
              "#fb9f3a"
             ],
             [
              0.8888888888888888,
              "#fdca26"
             ],
             [
              1,
              "#f0f921"
             ]
            ],
            "type": "heatmapgl"
           }
          ],
          "histogram": [
           {
            "marker": {
             "colorbar": {
              "outlinewidth": 0,
              "ticks": ""
             }
            },
            "type": "histogram"
           }
          ],
          "histogram2d": [
           {
            "colorbar": {
             "outlinewidth": 0,
             "ticks": ""
            },
            "colorscale": [
             [
              0,
              "#0d0887"
             ],
             [
              0.1111111111111111,
              "#46039f"
             ],
             [
              0.2222222222222222,
              "#7201a8"
             ],
             [
              0.3333333333333333,
              "#9c179e"
             ],
             [
              0.4444444444444444,
              "#bd3786"
             ],
             [
              0.5555555555555556,
              "#d8576b"
             ],
             [
              0.6666666666666666,
              "#ed7953"
             ],
             [
              0.7777777777777778,
              "#fb9f3a"
             ],
             [
              0.8888888888888888,
              "#fdca26"
             ],
             [
              1,
              "#f0f921"
             ]
            ],
            "type": "histogram2d"
           }
          ],
          "histogram2dcontour": [
           {
            "colorbar": {
             "outlinewidth": 0,
             "ticks": ""
            },
            "colorscale": [
             [
              0,
              "#0d0887"
             ],
             [
              0.1111111111111111,
              "#46039f"
             ],
             [
              0.2222222222222222,
              "#7201a8"
             ],
             [
              0.3333333333333333,
              "#9c179e"
             ],
             [
              0.4444444444444444,
              "#bd3786"
             ],
             [
              0.5555555555555556,
              "#d8576b"
             ],
             [
              0.6666666666666666,
              "#ed7953"
             ],
             [
              0.7777777777777778,
              "#fb9f3a"
             ],
             [
              0.8888888888888888,
              "#fdca26"
             ],
             [
              1,
              "#f0f921"
             ]
            ],
            "type": "histogram2dcontour"
           }
          ],
          "mesh3d": [
           {
            "colorbar": {
             "outlinewidth": 0,
             "ticks": ""
            },
            "type": "mesh3d"
           }
          ],
          "parcoords": [
           {
            "line": {
             "colorbar": {
              "outlinewidth": 0,
              "ticks": ""
             }
            },
            "type": "parcoords"
           }
          ],
          "pie": [
           {
            "automargin": true,
            "type": "pie"
           }
          ],
          "scatter": [
           {
            "marker": {
             "colorbar": {
              "outlinewidth": 0,
              "ticks": ""
             }
            },
            "type": "scatter"
           }
          ],
          "scatter3d": [
           {
            "line": {
             "colorbar": {
              "outlinewidth": 0,
              "ticks": ""
             }
            },
            "marker": {
             "colorbar": {
              "outlinewidth": 0,
              "ticks": ""
             }
            },
            "type": "scatter3d"
           }
          ],
          "scattercarpet": [
           {
            "marker": {
             "colorbar": {
              "outlinewidth": 0,
              "ticks": ""
             }
            },
            "type": "scattercarpet"
           }
          ],
          "scattergeo": [
           {
            "marker": {
             "colorbar": {
              "outlinewidth": 0,
              "ticks": ""
             }
            },
            "type": "scattergeo"
           }
          ],
          "scattergl": [
           {
            "marker": {
             "colorbar": {
              "outlinewidth": 0,
              "ticks": ""
             }
            },
            "type": "scattergl"
           }
          ],
          "scattermapbox": [
           {
            "marker": {
             "colorbar": {
              "outlinewidth": 0,
              "ticks": ""
             }
            },
            "type": "scattermapbox"
           }
          ],
          "scatterpolar": [
           {
            "marker": {
             "colorbar": {
              "outlinewidth": 0,
              "ticks": ""
             }
            },
            "type": "scatterpolar"
           }
          ],
          "scatterpolargl": [
           {
            "marker": {
             "colorbar": {
              "outlinewidth": 0,
              "ticks": ""
             }
            },
            "type": "scatterpolargl"
           }
          ],
          "scatterternary": [
           {
            "marker": {
             "colorbar": {
              "outlinewidth": 0,
              "ticks": ""
             }
            },
            "type": "scatterternary"
           }
          ],
          "surface": [
           {
            "colorbar": {
             "outlinewidth": 0,
             "ticks": ""
            },
            "colorscale": [
             [
              0,
              "#0d0887"
             ],
             [
              0.1111111111111111,
              "#46039f"
             ],
             [
              0.2222222222222222,
              "#7201a8"
             ],
             [
              0.3333333333333333,
              "#9c179e"
             ],
             [
              0.4444444444444444,
              "#bd3786"
             ],
             [
              0.5555555555555556,
              "#d8576b"
             ],
             [
              0.6666666666666666,
              "#ed7953"
             ],
             [
              0.7777777777777778,
              "#fb9f3a"
             ],
             [
              0.8888888888888888,
              "#fdca26"
             ],
             [
              1,
              "#f0f921"
             ]
            ],
            "type": "surface"
           }
          ],
          "table": [
           {
            "cells": {
             "fill": {
              "color": "#EBF0F8"
             },
             "line": {
              "color": "white"
             }
            },
            "header": {
             "fill": {
              "color": "#C8D4E3"
             },
             "line": {
              "color": "white"
             }
            },
            "type": "table"
           }
          ]
         },
         "layout": {
          "annotationdefaults": {
           "arrowcolor": "#2a3f5f",
           "arrowhead": 0,
           "arrowwidth": 1
          },
          "coloraxis": {
           "colorbar": {
            "outlinewidth": 0,
            "ticks": ""
           }
          },
          "colorscale": {
           "diverging": [
            [
             0,
             "#8e0152"
            ],
            [
             0.1,
             "#c51b7d"
            ],
            [
             0.2,
             "#de77ae"
            ],
            [
             0.3,
             "#f1b6da"
            ],
            [
             0.4,
             "#fde0ef"
            ],
            [
             0.5,
             "#f7f7f7"
            ],
            [
             0.6,
             "#e6f5d0"
            ],
            [
             0.7,
             "#b8e186"
            ],
            [
             0.8,
             "#7fbc41"
            ],
            [
             0.9,
             "#4d9221"
            ],
            [
             1,
             "#276419"
            ]
           ],
           "sequential": [
            [
             0,
             "#0d0887"
            ],
            [
             0.1111111111111111,
             "#46039f"
            ],
            [
             0.2222222222222222,
             "#7201a8"
            ],
            [
             0.3333333333333333,
             "#9c179e"
            ],
            [
             0.4444444444444444,
             "#bd3786"
            ],
            [
             0.5555555555555556,
             "#d8576b"
            ],
            [
             0.6666666666666666,
             "#ed7953"
            ],
            [
             0.7777777777777778,
             "#fb9f3a"
            ],
            [
             0.8888888888888888,
             "#fdca26"
            ],
            [
             1,
             "#f0f921"
            ]
           ],
           "sequentialminus": [
            [
             0,
             "#0d0887"
            ],
            [
             0.1111111111111111,
             "#46039f"
            ],
            [
             0.2222222222222222,
             "#7201a8"
            ],
            [
             0.3333333333333333,
             "#9c179e"
            ],
            [
             0.4444444444444444,
             "#bd3786"
            ],
            [
             0.5555555555555556,
             "#d8576b"
            ],
            [
             0.6666666666666666,
             "#ed7953"
            ],
            [
             0.7777777777777778,
             "#fb9f3a"
            ],
            [
             0.8888888888888888,
             "#fdca26"
            ],
            [
             1,
             "#f0f921"
            ]
           ]
          },
          "colorway": [
           "#636efa",
           "#EF553B",
           "#00cc96",
           "#ab63fa",
           "#FFA15A",
           "#19d3f3",
           "#FF6692",
           "#B6E880",
           "#FF97FF",
           "#FECB52"
          ],
          "font": {
           "color": "#2a3f5f"
          },
          "geo": {
           "bgcolor": "white",
           "lakecolor": "white",
           "landcolor": "#E5ECF6",
           "showlakes": true,
           "showland": true,
           "subunitcolor": "white"
          },
          "hoverlabel": {
           "align": "left"
          },
          "hovermode": "closest",
          "mapbox": {
           "style": "light"
          },
          "paper_bgcolor": "white",
          "plot_bgcolor": "#E5ECF6",
          "polar": {
           "angularaxis": {
            "gridcolor": "white",
            "linecolor": "white",
            "ticks": ""
           },
           "bgcolor": "#E5ECF6",
           "radialaxis": {
            "gridcolor": "white",
            "linecolor": "white",
            "ticks": ""
           }
          },
          "scene": {
           "xaxis": {
            "backgroundcolor": "#E5ECF6",
            "gridcolor": "white",
            "gridwidth": 2,
            "linecolor": "white",
            "showbackground": true,
            "ticks": "",
            "zerolinecolor": "white"
           },
           "yaxis": {
            "backgroundcolor": "#E5ECF6",
            "gridcolor": "white",
            "gridwidth": 2,
            "linecolor": "white",
            "showbackground": true,
            "ticks": "",
            "zerolinecolor": "white"
           },
           "zaxis": {
            "backgroundcolor": "#E5ECF6",
            "gridcolor": "white",
            "gridwidth": 2,
            "linecolor": "white",
            "showbackground": true,
            "ticks": "",
            "zerolinecolor": "white"
           }
          },
          "shapedefaults": {
           "line": {
            "color": "#2a3f5f"
           }
          },
          "ternary": {
           "aaxis": {
            "gridcolor": "white",
            "linecolor": "white",
            "ticks": ""
           },
           "baxis": {
            "gridcolor": "white",
            "linecolor": "white",
            "ticks": ""
           },
           "bgcolor": "#E5ECF6",
           "caxis": {
            "gridcolor": "white",
            "linecolor": "white",
            "ticks": ""
           }
          },
          "title": {
           "x": 0.05
          },
          "xaxis": {
           "automargin": true,
           "gridcolor": "white",
           "linecolor": "white",
           "ticks": "",
           "title": {
            "standoff": 15
           },
           "zerolinecolor": "white",
           "zerolinewidth": 2
          },
          "yaxis": {
           "automargin": true,
           "gridcolor": "white",
           "linecolor": "white",
           "ticks": "",
           "title": {
            "standoff": 15
           },
           "zerolinecolor": "white",
           "zerolinewidth": 2
          }
         }
        }
       }
      },
      "text/html": [
       "<div>\n",
       "        \n",
       "        \n",
       "            <div id=\"c23f8f32-1149-4cd4-8fa6-a139c3be5bb6\" class=\"plotly-graph-div\" style=\"height:525px; width:100%;\"></div>\n",
       "            <script type=\"text/javascript\">\n",
       "                require([\"plotly\"], function(Plotly) {\n",
       "                    window.PLOTLYENV=window.PLOTLYENV || {};\n",
       "                    \n",
       "                if (document.getElementById(\"c23f8f32-1149-4cd4-8fa6-a139c3be5bb6\")) {\n",
       "                    Plotly.newPlot(\n",
       "                        'c23f8f32-1149-4cd4-8fa6-a139c3be5bb6',\n",
       "                        [{\"geo\": \"geo\", \"hovertemplate\": \"<b>%{hovertext}</b><br><br>2018=%{marker.color}<br>Country Code=%{location}<extra></extra>\", \"hovertext\": [\"China\", \"India\", \"OECD members\", \"High income\", \"Post-demographic dividend\", \"IDA only\", \"Sub-Saharan Africa\", \"Sub-Saharan Africa (IDA & IBRD countries)\", \"Sub-Saharan Africa (excluding high income)\", \"Least developed countries: UN classification\", \"Pre-demographic dividend\", \"Europe & Central Asia\", \"Heavily indebted poor countries (HIPC)\", \"Fragile and conflict affected situations\", \"Low income\", \"Latin America & Caribbean\", \"Latin America & the Caribbean (IDA & IBRD countries)\", \"Latin America & Caribbean (excluding high income)\", \"IDA blend\", \"Europe & Central Asia (IDA & IBRD countries)\", \"Middle East & North Africa\", \"European Union\", \"Arab World\", \"Europe & Central Asia (excluding high income)\", \"Middle East & North Africa (excluding high income)\", \"Middle East & North Africa (IDA & IBRD countries)\", \"North America\", \"Euro area\", \"United States\", \"Indonesia\", \"Pakistan\", \"Brazil\", \"Nigeria\", \"Bangladesh\", \"Russian Federation\", \"Japan\", \"Mexico\", \"Ethiopia\", \"Philippines\", \"Central Europe and the Baltics\", \"Egypt, Arab Rep.\", \"Vietnam\", \"Congo, Dem. Rep.\", \"Germany\", \"Turkey\", \"Iran, Islamic Rep.\", \"Thailand\", \"France\", \"United Kingdom\", \"Italy\", \"South Africa\", \"Tanzania\", \"Myanmar\", \"Korea, Rep.\", \"Kenya\", \"Colombia\", \"Spain\", \"Ukraine\", \"Argentina\", \"Uganda\", \"Algeria\", \"Sudan\", \"Small states\", \"Iraq\", \"Poland\", \"Afghanistan\", \"Canada\", \"Morocco\", \"Saudi Arabia\", \"Uzbekistan\", \"Peru\", \"Malaysia\", \"Angola\", \"Other small states\", \"Ghana\", \"Mozambique\", \"Venezuela, RB\", \"Yemen, Rep.\", \"Nepal\", \"Madagascar\", \"Korea, Dem. People\\u2019s Rep.\", \"Cameroon\", \"Cote d'Ivoire\", \"Australia\", \"Niger\", \"Sri Lanka\", \"Burkina Faso\", \"Romania\", \"Mali\", \"Chile\", \"Kazakhstan\", \"Malawi\", \"Zambia\", \"Guatemala\", \"Netherlands\", \"Ecuador\", \"Syrian Arab Republic\", \"Cambodia\", \"Senegal\", \"Chad\", \"Somalia\", \"Zimbabwe\", \"Guinea\", \"Rwanda\", \"Tunisia\", \"Benin\", \"Belgium\", \"Bolivia\", \"Cuba\", \"Burundi\", \"Haiti\", \"South Sudan\", \"Greece\", \"Czech Republic\", \"Dominican Republic\", \"Portugal\", \"Sweden\", \"Jordan\", \"Azerbaijan\", \"Hungary\", \"United Arab Emirates\", \"Honduras\", \"Belarus\", \"Tajikistan\", \"Israel\", \"Austria\", \"Papua New Guinea\", \"Switzerland\", \"Togo\", \"Sierra Leone\", \"Hong Kong SAR, China\", \"Caribbean small states\", \"Lao PDR\", \"Bulgaria\", \"Serbia\", \"Paraguay\", \"Lebanon\", \"Libya\", \"Nicaragua\", \"El Salvador\", \"Kyrgyz Republic\", \"Turkmenistan\", \"Denmark\", \"Singapore\", \"Finland\", \"Slovak Republic\", \"Norway\", \"Congo, Rep.\", \"Costa Rica\", \"Ireland\", \"New Zealand\", \"Oman\", \"Liberia\", \"Central African Republic\", \"West Bank and Gaza\", \"Mauritania\", \"Panama\", \"Kuwait\", \"Croatia\", \"Georgia\", \"Uruguay\", \"Bosnia and Herzegovina\", \"Puerto Rico\", \"Mongolia\", \"Armenia\", \"Jamaica\", \"Albania\", \"Lithuania\", \"Qatar\", \"Moldova\", \"Pacific island small states\", \"Namibia\", \"Gambia, The\", \"Botswana\", \"Gabon\", \"Lesotho\", \"North Macedonia\", \"Slovenia\", \"Latvia\", \"Guinea-Bissau\", \"Kosovo\", \"Bahrain\", \"Trinidad and Tobago\", \"Estonia\", \"Equatorial Guinea\", \"Timor-Leste\", \"Mauritius\", \"Cyprus\", \"Eswatini\", \"Djibouti\", \"Fiji\", \"Comoros\", \"Guyana\", \"Bhutan\", \"Solomon Islands\", \"Macao SAR, China\", \"Montenegro\", \"Luxembourg\", \"Suriname\", \"Cabo Verde\", \"Maldives\", \"Malta\", \"Brunei Darussalam\", \"Bahamas, The\", \"Belize\", \"Iceland\", \"Vanuatu\", \"Barbados\", \"New Caledonia\", \"French Polynesia\", \"Sao Tome and Principe\", \"Samoa\", \"St. Lucia\", \"Channel Islands\", \"Guam\", \"Curacao\", \"Kiribati\", \"Micronesia, Fed. Sts.\", \"Grenada\", \"St. Vincent and the Grenadines\", \"Virgin Islands (U.S.)\", \"Aruba\", \"Tonga\", \"Seychelles\", \"Antigua and Barbuda\", \"Isle of Man\", \"Andorra\", \"Dominica\", \"Cayman Islands\", \"Bermuda\", \"Marshall Islands\", \"Northern Mariana Islands\", \"Greenland\", \"American Samoa\", \"St. Kitts and Nevis\", \"Faroe Islands\", \"Sint Maarten (Dutch part)\", \"Monaco\", \"Liechtenstein\", \"Turks and Caicos Islands\", \"St. Martin (French part)\", \"San Marino\", \"Gibraltar\", \"British Virgin Islands\", \"Palau\", \"Nauru\", \"Tuvalu\"], \"legendgroup\": \"\", \"locations\": [\"CHN\", \"IND\", \"OED\", \"HIC\", \"PST\", \"IDX\", \"SSF\", \"TSS\", \"SSA\", \"LDC\", \"PRE\", \"ECS\", \"HPC\", \"FCS\", \"LIC\", \"LCN\", \"TLA\", \"LAC\", \"IDB\", \"TEC\", \"MEA\", \"EUU\", \"ARB\", \"ECA\", \"MNA\", \"TMN\", \"NAC\", \"EMU\", \"USA\", \"IDN\", \"PAK\", \"BRA\", \"NGA\", \"BGD\", \"RUS\", \"JPN\", \"MEX\", \"ETH\", \"PHL\", \"CEB\", \"EGY\", \"VNM\", \"COD\", \"DEU\", \"TUR\", \"IRN\", \"THA\", \"FRA\", \"GBR\", \"ITA\", \"ZAF\", \"TZA\", \"MMR\", \"KOR\", \"KEN\", \"COL\", \"ESP\", \"UKR\", \"ARG\", \"UGA\", \"DZA\", \"SDN\", \"SST\", \"IRQ\", \"POL\", \"AFG\", \"CAN\", \"MAR\", \"SAU\", \"UZB\", \"PER\", \"MYS\", \"AGO\", \"OSS\", \"GHA\", \"MOZ\", \"VEN\", \"YEM\", \"NPL\", \"MDG\", \"PRK\", \"CMR\", \"CIV\", \"AUS\", \"NER\", \"LKA\", \"BFA\", \"ROU\", \"MLI\", \"CHL\", \"KAZ\", \"MWI\", \"ZMB\", \"GTM\", \"NLD\", \"ECU\", \"SYR\", \"KHM\", \"SEN\", \"TCD\", \"SOM\", \"ZWE\", \"GIN\", \"RWA\", \"TUN\", \"BEN\", \"BEL\", \"BOL\", \"CUB\", \"BDI\", \"HTI\", \"SSD\", \"GRC\", \"CZE\", \"DOM\", \"PRT\", \"SWE\", \"JOR\", \"AZE\", \"HUN\", \"ARE\", \"HND\", \"BLR\", \"TJK\", \"ISR\", \"AUT\", \"PNG\", \"CHE\", \"TGO\", \"SLE\", \"HKG\", \"CSS\", \"LAO\", \"BGR\", \"SRB\", \"PRY\", \"LBN\", \"LBY\", \"NIC\", \"SLV\", \"KGZ\", \"TKM\", \"DNK\", \"SGP\", \"FIN\", \"SVK\", \"NOR\", \"COG\", \"CRI\", \"IRL\", \"NZL\", \"OMN\", \"LBR\", \"CAF\", \"PSE\", \"MRT\", \"PAN\", \"KWT\", \"HRV\", \"GEO\", \"URY\", \"BIH\", \"PRI\", \"MNG\", \"ARM\", \"JAM\", \"ALB\", \"LTU\", \"QAT\", \"MDA\", \"PSS\", \"NAM\", \"GMB\", \"BWA\", \"GAB\", \"LSO\", \"MKD\", \"SVN\", \"LVA\", \"GNB\", \"XKX\", \"BHR\", \"TTO\", \"EST\", \"GNQ\", \"TLS\", \"MUS\", \"CYP\", \"SWZ\", \"DJI\", \"FJI\", \"COM\", \"GUY\", \"BTN\", \"SLB\", \"MAC\", \"MNE\", \"LUX\", \"SUR\", \"CPV\", \"MDV\", \"MLT\", \"BRN\", \"BHS\", \"BLZ\", \"ISL\", \"VUT\", \"BRB\", \"NCL\", \"PYF\", \"STP\", \"WSM\", \"LCA\", \"CHI\", \"GUM\", \"CUW\", \"KIR\", \"FSM\", \"GRD\", \"VCT\", \"VIR\", \"ABW\", \"TON\", \"SYC\", \"ATG\", \"IMN\", \"AND\", \"DMA\", \"CYM\", \"BMU\", \"MHL\", \"MNP\", \"GRL\", \"ASM\", \"KNA\", \"FRO\", \"SXM\", \"MCO\", \"LIE\", \"TCA\", \"MAF\", \"SMR\", \"GIB\", \"VGB\", \"PLW\", \"NRU\", \"TUV\"], \"marker\": {\"color\": [1392730000, 1352617328, 1303529456, 1210312147, 1109997273, 1084407516, 1078306520, 1078306520, 1078209758, 1009662578, 919485393, 918793590, 780234406, 743958386, 705417321, 641357515, 625569713, 609013934, 555830605, 459865205, 448912859, 446786293, 419790588, 417797257, 382896715, 378327628, 364290258, 341783171, 326687501, 267663435, 212215030, 209469333, 195874740, 161356039, 144478050, 126529100, 126190788, 109224559, 106651922, 102511922, 98423595, 95540395, 84068091, 82905782, 82319724, 81800269, 69428524, 66977107, 66460344, 60421760, 57779622, 56318348, 53708395, 51606633, 51393010, 49648685, 46796540, 44622516, 44494502, 42723139, 42228429, 41801533, 40575321, 38433600, 37974750, 37172386, 37057765, 36029138, 33699947, 32955400, 31989256, 31528585, 30809762, 30758989, 29767108, 29495962, 28870195, 28498687, 28087871, 26262368, 25549819, 25216237, 25069229, 24982688, 22442948, 21670000, 19751535, 19466145, 19077690, 18729160, 18272430, 18143315, 17351822, 17247807, 17231624, 17084357, 16906283, 16249798, 15854360, 15477751, 15008154, 14439018, 12414318, 12301939, 11565204, 11485048, 11433256, 11353142, 11338138, 11175378, 11123176, 10975920, 10731726, 10629928, 10627165, 10283822, 10175214, 9956011, 9939800, 9775564, 9630959, 9587522, 9483499, 9100837, 8882800, 8840521, 8606316, 8513227, 7889094, 7650154, 7451000, 7358965, 7061507, 7025037, 6982604, 6956071, 6848925, 6678567, 6465513, 6420744, 6322800, 5850908, 5793636, 5638676, 5515525, 5446771, 5311916, 5244363, 4999441, 4867309, 4841000, 4829483, 4818977, 4666377, 4569087, 4403319, 4176873, 4137309, 4087843, 3726549, 3449299, 3323929, 3195153, 3170208, 2951776, 2934855, 2866376, 2801543, 2781677, 2706049, 2457367, 2448255, 2280102, 2254126, 2119275, 2108132, 2082958, 2073894, 1927174, 1874309, 1845300, 1569439, 1389858, 1321977, 1308974, 1267972, 1265303, 1189265, 1136191, 958920, 883483, 832322, 779004, 754394, 652858, 631636, 622227, 607950, 575991, 543767, 515696, 484630, 428962, 385640, 383071, 352721, 292680, 286641, 284060, 277679, 211028, 196130, 181889, 170499, 165768, 159800, 115847, 112640, 111454, 110210, 106977, 105845, 103197, 96762, 96286, 84077, 77006, 71625, 64174, 63973, 58413, 56882, 56025, 55465, 52441, 48497, 40654, 38682, 37910, 37665, 37264, 33785, 33718, 29802, 17907, 12704, 11508], \"coloraxis\": \"coloraxis\", \"size\": [1392730000, 1352617328, 1303529456, 1210312147, 1109997273, 1084407516, 1078306520, 1078306520, 1078209758, 1009662578, 919485393, 918793590, 780234406, 743958386, 705417321, 641357515, 625569713, 609013934, 555830605, 459865205, 448912859, 446786293, 419790588, 417797257, 382896715, 378327628, 364290258, 341783171, 326687501, 267663435, 212215030, 209469333, 195874740, 161356039, 144478050, 126529100, 126190788, 109224559, 106651922, 102511922, 98423595, 95540395, 84068091, 82905782, 82319724, 81800269, 69428524, 66977107, 66460344, 60421760, 57779622, 56318348, 53708395, 51606633, 51393010, 49648685, 46796540, 44622516, 44494502, 42723139, 42228429, 41801533, 40575321, 38433600, 37974750, 37172386, 37057765, 36029138, 33699947, 32955400, 31989256, 31528585, 30809762, 30758989, 29767108, 29495962, 28870195, 28498687, 28087871, 26262368, 25549819, 25216237, 25069229, 24982688, 22442948, 21670000, 19751535, 19466145, 19077690, 18729160, 18272430, 18143315, 17351822, 17247807, 17231624, 17084357, 16906283, 16249798, 15854360, 15477751, 15008154, 14439018, 12414318, 12301939, 11565204, 11485048, 11433256, 11353142, 11338138, 11175378, 11123176, 10975920, 10731726, 10629928, 10627165, 10283822, 10175214, 9956011, 9939800, 9775564, 9630959, 9587522, 9483499, 9100837, 8882800, 8840521, 8606316, 8513227, 7889094, 7650154, 7451000, 7358965, 7061507, 7025037, 6982604, 6956071, 6848925, 6678567, 6465513, 6420744, 6322800, 5850908, 5793636, 5638676, 5515525, 5446771, 5311916, 5244363, 4999441, 4867309, 4841000, 4829483, 4818977, 4666377, 4569087, 4403319, 4176873, 4137309, 4087843, 3726549, 3449299, 3323929, 3195153, 3170208, 2951776, 2934855, 2866376, 2801543, 2781677, 2706049, 2457367, 2448255, 2280102, 2254126, 2119275, 2108132, 2082958, 2073894, 1927174, 1874309, 1845300, 1569439, 1389858, 1321977, 1308974, 1267972, 1265303, 1189265, 1136191, 958920, 883483, 832322, 779004, 754394, 652858, 631636, 622227, 607950, 575991, 543767, 515696, 484630, 428962, 385640, 383071, 352721, 292680, 286641, 284060, 277679, 211028, 196130, 181889, 170499, 165768, 159800, 115847, 112640, 111454, 110210, 106977, 105845, 103197, 96762, 96286, 84077, 77006, 71625, 64174, 63973, 58413, 56882, 56025, 55465, 52441, 48497, 40654, 38682, 37910, 37665, 37264, 33785, 33718, 29802, 17907, 12704, 11508], \"sizemode\": \"area\", \"sizeref\": 386869.44444444444}, \"name\": \"\", \"showlegend\": false, \"type\": \"scattergeo\"}],\n",
       "                        {\"coloraxis\": {\"colorbar\": {\"title\": {\"text\": \"2018\"}}, \"colorscale\": [[0.0, \"rgb(5,48,97)\"], [0.1, \"rgb(33,102,172)\"], [0.2, \"rgb(67,147,195)\"], [0.3, \"rgb(146,197,222)\"], [0.4, \"rgb(209,229,240)\"], [0.5, \"rgb(247,247,247)\"], [0.6, \"rgb(253,219,199)\"], [0.7, \"rgb(244,165,130)\"], [0.8, \"rgb(214,96,77)\"], [0.9, \"rgb(178,24,43)\"], [1.0, \"rgb(103,0,31)\"]]}, \"geo\": {\"center\": {}, \"domain\": {\"x\": [0.0, 1.0], \"y\": [0.0, 1.0]}, \"projection\": {\"type\": \"natural earth\"}}, \"legend\": {\"itemsizing\": \"constant\", \"tracegroupgap\": 0}, \"margin\": {\"b\": 20, \"l\": 20, \"r\": 20, \"t\": 20}, \"template\": {\"data\": {\"bar\": [{\"error_x\": {\"color\": \"#2a3f5f\"}, \"error_y\": {\"color\": \"#2a3f5f\"}, \"marker\": {\"line\": {\"color\": \"#E5ECF6\", \"width\": 0.5}}, \"type\": \"bar\"}], \"barpolar\": [{\"marker\": {\"line\": {\"color\": \"#E5ECF6\", \"width\": 0.5}}, \"type\": \"barpolar\"}], \"carpet\": [{\"aaxis\": {\"endlinecolor\": \"#2a3f5f\", \"gridcolor\": \"white\", \"linecolor\": \"white\", \"minorgridcolor\": \"white\", \"startlinecolor\": \"#2a3f5f\"}, \"baxis\": {\"endlinecolor\": \"#2a3f5f\", \"gridcolor\": \"white\", \"linecolor\": \"white\", \"minorgridcolor\": \"white\", \"startlinecolor\": \"#2a3f5f\"}, \"type\": \"carpet\"}], \"choropleth\": [{\"colorbar\": {\"outlinewidth\": 0, \"ticks\": \"\"}, \"type\": \"choropleth\"}], \"contour\": [{\"colorbar\": {\"outlinewidth\": 0, \"ticks\": \"\"}, \"colorscale\": [[0.0, \"#0d0887\"], [0.1111111111111111, \"#46039f\"], [0.2222222222222222, \"#7201a8\"], [0.3333333333333333, \"#9c179e\"], [0.4444444444444444, \"#bd3786\"], [0.5555555555555556, \"#d8576b\"], [0.6666666666666666, \"#ed7953\"], [0.7777777777777778, \"#fb9f3a\"], [0.8888888888888888, \"#fdca26\"], [1.0, \"#f0f921\"]], \"type\": \"contour\"}], \"contourcarpet\": [{\"colorbar\": {\"outlinewidth\": 0, \"ticks\": \"\"}, \"type\": \"contourcarpet\"}], \"heatmap\": [{\"colorbar\": {\"outlinewidth\": 0, \"ticks\": \"\"}, \"colorscale\": [[0.0, \"#0d0887\"], [0.1111111111111111, \"#46039f\"], [0.2222222222222222, \"#7201a8\"], [0.3333333333333333, \"#9c179e\"], [0.4444444444444444, \"#bd3786\"], [0.5555555555555556, \"#d8576b\"], [0.6666666666666666, \"#ed7953\"], [0.7777777777777778, \"#fb9f3a\"], [0.8888888888888888, \"#fdca26\"], [1.0, \"#f0f921\"]], \"type\": \"heatmap\"}], \"heatmapgl\": [{\"colorbar\": {\"outlinewidth\": 0, \"ticks\": \"\"}, \"colorscale\": [[0.0, \"#0d0887\"], [0.1111111111111111, \"#46039f\"], [0.2222222222222222, \"#7201a8\"], [0.3333333333333333, \"#9c179e\"], [0.4444444444444444, \"#bd3786\"], [0.5555555555555556, \"#d8576b\"], [0.6666666666666666, \"#ed7953\"], [0.7777777777777778, \"#fb9f3a\"], [0.8888888888888888, \"#fdca26\"], [1.0, \"#f0f921\"]], \"type\": \"heatmapgl\"}], \"histogram\": [{\"marker\": {\"colorbar\": {\"outlinewidth\": 0, \"ticks\": \"\"}}, \"type\": \"histogram\"}], \"histogram2d\": [{\"colorbar\": {\"outlinewidth\": 0, \"ticks\": \"\"}, \"colorscale\": [[0.0, \"#0d0887\"], [0.1111111111111111, \"#46039f\"], [0.2222222222222222, \"#7201a8\"], [0.3333333333333333, \"#9c179e\"], [0.4444444444444444, \"#bd3786\"], [0.5555555555555556, \"#d8576b\"], [0.6666666666666666, \"#ed7953\"], [0.7777777777777778, \"#fb9f3a\"], [0.8888888888888888, \"#fdca26\"], [1.0, \"#f0f921\"]], \"type\": \"histogram2d\"}], \"histogram2dcontour\": [{\"colorbar\": {\"outlinewidth\": 0, \"ticks\": \"\"}, \"colorscale\": [[0.0, \"#0d0887\"], [0.1111111111111111, \"#46039f\"], [0.2222222222222222, \"#7201a8\"], [0.3333333333333333, \"#9c179e\"], [0.4444444444444444, \"#bd3786\"], [0.5555555555555556, \"#d8576b\"], [0.6666666666666666, \"#ed7953\"], [0.7777777777777778, \"#fb9f3a\"], [0.8888888888888888, \"#fdca26\"], [1.0, \"#f0f921\"]], \"type\": \"histogram2dcontour\"}], \"mesh3d\": [{\"colorbar\": {\"outlinewidth\": 0, \"ticks\": \"\"}, \"type\": \"mesh3d\"}], \"parcoords\": [{\"line\": {\"colorbar\": {\"outlinewidth\": 0, \"ticks\": \"\"}}, \"type\": \"parcoords\"}], \"pie\": [{\"automargin\": true, \"type\": \"pie\"}], \"scatter\": [{\"marker\": {\"colorbar\": {\"outlinewidth\": 0, \"ticks\": \"\"}}, \"type\": \"scatter\"}], \"scatter3d\": [{\"line\": {\"colorbar\": {\"outlinewidth\": 0, \"ticks\": \"\"}}, \"marker\": {\"colorbar\": {\"outlinewidth\": 0, \"ticks\": \"\"}}, \"type\": \"scatter3d\"}], \"scattercarpet\": [{\"marker\": {\"colorbar\": {\"outlinewidth\": 0, \"ticks\": \"\"}}, \"type\": \"scattercarpet\"}], \"scattergeo\": [{\"marker\": {\"colorbar\": {\"outlinewidth\": 0, \"ticks\": \"\"}}, \"type\": \"scattergeo\"}], \"scattergl\": [{\"marker\": {\"colorbar\": {\"outlinewidth\": 0, \"ticks\": \"\"}}, \"type\": \"scattergl\"}], \"scattermapbox\": [{\"marker\": {\"colorbar\": {\"outlinewidth\": 0, \"ticks\": \"\"}}, \"type\": \"scattermapbox\"}], \"scatterpolar\": [{\"marker\": {\"colorbar\": {\"outlinewidth\": 0, \"ticks\": \"\"}}, \"type\": \"scatterpolar\"}], \"scatterpolargl\": [{\"marker\": {\"colorbar\": {\"outlinewidth\": 0, \"ticks\": \"\"}}, \"type\": \"scatterpolargl\"}], \"scatterternary\": [{\"marker\": {\"colorbar\": {\"outlinewidth\": 0, \"ticks\": \"\"}}, \"type\": \"scatterternary\"}], \"surface\": [{\"colorbar\": {\"outlinewidth\": 0, \"ticks\": \"\"}, \"colorscale\": [[0.0, \"#0d0887\"], [0.1111111111111111, \"#46039f\"], [0.2222222222222222, \"#7201a8\"], [0.3333333333333333, \"#9c179e\"], [0.4444444444444444, \"#bd3786\"], [0.5555555555555556, \"#d8576b\"], [0.6666666666666666, \"#ed7953\"], [0.7777777777777778, \"#fb9f3a\"], [0.8888888888888888, \"#fdca26\"], [1.0, \"#f0f921\"]], \"type\": \"surface\"}], \"table\": [{\"cells\": {\"fill\": {\"color\": \"#EBF0F8\"}, \"line\": {\"color\": \"white\"}}, \"header\": {\"fill\": {\"color\": \"#C8D4E3\"}, \"line\": {\"color\": \"white\"}}, \"type\": \"table\"}]}, \"layout\": {\"annotationdefaults\": {\"arrowcolor\": \"#2a3f5f\", \"arrowhead\": 0, \"arrowwidth\": 1}, \"coloraxis\": {\"colorbar\": {\"outlinewidth\": 0, \"ticks\": \"\"}}, \"colorscale\": {\"diverging\": [[0, \"#8e0152\"], [0.1, \"#c51b7d\"], [0.2, \"#de77ae\"], [0.3, \"#f1b6da\"], [0.4, \"#fde0ef\"], [0.5, \"#f7f7f7\"], [0.6, \"#e6f5d0\"], [0.7, \"#b8e186\"], [0.8, \"#7fbc41\"], [0.9, \"#4d9221\"], [1, \"#276419\"]], \"sequential\": [[0.0, \"#0d0887\"], [0.1111111111111111, \"#46039f\"], [0.2222222222222222, \"#7201a8\"], [0.3333333333333333, \"#9c179e\"], [0.4444444444444444, \"#bd3786\"], [0.5555555555555556, \"#d8576b\"], [0.6666666666666666, \"#ed7953\"], [0.7777777777777778, \"#fb9f3a\"], [0.8888888888888888, \"#fdca26\"], [1.0, \"#f0f921\"]], \"sequentialminus\": [[0.0, \"#0d0887\"], [0.1111111111111111, \"#46039f\"], [0.2222222222222222, \"#7201a8\"], [0.3333333333333333, \"#9c179e\"], [0.4444444444444444, \"#bd3786\"], [0.5555555555555556, \"#d8576b\"], [0.6666666666666666, \"#ed7953\"], [0.7777777777777778, \"#fb9f3a\"], [0.8888888888888888, \"#fdca26\"], [1.0, \"#f0f921\"]]}, \"colorway\": [\"#636efa\", \"#EF553B\", \"#00cc96\", \"#ab63fa\", \"#FFA15A\", \"#19d3f3\", \"#FF6692\", \"#B6E880\", \"#FF97FF\", \"#FECB52\"], \"font\": {\"color\": \"#2a3f5f\"}, \"geo\": {\"bgcolor\": \"white\", \"lakecolor\": \"white\", \"landcolor\": \"#E5ECF6\", \"showlakes\": true, \"showland\": true, \"subunitcolor\": \"white\"}, \"hoverlabel\": {\"align\": \"left\"}, \"hovermode\": \"closest\", \"mapbox\": {\"style\": \"light\"}, \"paper_bgcolor\": \"white\", \"plot_bgcolor\": \"#E5ECF6\", \"polar\": {\"angularaxis\": {\"gridcolor\": \"white\", \"linecolor\": \"white\", \"ticks\": \"\"}, \"bgcolor\": \"#E5ECF6\", \"radialaxis\": {\"gridcolor\": \"white\", \"linecolor\": \"white\", \"ticks\": \"\"}}, \"scene\": {\"xaxis\": {\"backgroundcolor\": \"#E5ECF6\", \"gridcolor\": \"white\", \"gridwidth\": 2, \"linecolor\": \"white\", \"showbackground\": true, \"ticks\": \"\", \"zerolinecolor\": \"white\"}, \"yaxis\": {\"backgroundcolor\": \"#E5ECF6\", \"gridcolor\": \"white\", \"gridwidth\": 2, \"linecolor\": \"white\", \"showbackground\": true, \"ticks\": \"\", \"zerolinecolor\": \"white\"}, \"zaxis\": {\"backgroundcolor\": \"#E5ECF6\", \"gridcolor\": \"white\", \"gridwidth\": 2, \"linecolor\": \"white\", \"showbackground\": true, \"ticks\": \"\", \"zerolinecolor\": \"white\"}}, \"shapedefaults\": {\"line\": {\"color\": \"#2a3f5f\"}}, \"ternary\": {\"aaxis\": {\"gridcolor\": \"white\", \"linecolor\": \"white\", \"ticks\": \"\"}, \"baxis\": {\"gridcolor\": \"white\", \"linecolor\": \"white\", \"ticks\": \"\"}, \"bgcolor\": \"#E5ECF6\", \"caxis\": {\"gridcolor\": \"white\", \"linecolor\": \"white\", \"ticks\": \"\"}}, \"title\": {\"x\": 0.05}, \"xaxis\": {\"automargin\": true, \"gridcolor\": \"white\", \"linecolor\": \"white\", \"ticks\": \"\", \"title\": {\"standoff\": 15}, \"zerolinecolor\": \"white\", \"zerolinewidth\": 2}, \"yaxis\": {\"automargin\": true, \"gridcolor\": \"white\", \"linecolor\": \"white\", \"ticks\": \"\", \"title\": {\"standoff\": 15}, \"zerolinecolor\": \"white\", \"zerolinewidth\": 2}}}},\n",
       "                        {\"responsive\": true}\n",
       "                    ).then(function(){\n",
       "                            \n",
       "var gd = document.getElementById('c23f8f32-1149-4cd4-8fa6-a139c3be5bb6');\n",
       "var x = new MutationObserver(function (mutations, observer) {{\n",
       "        var display = window.getComputedStyle(gd).display;\n",
       "        if (!display || display === 'none') {{\n",
       "            console.log([gd, 'removed!']);\n",
       "            Plotly.purge(gd);\n",
       "            observer.disconnect();\n",
       "        }}\n",
       "}});\n",
       "\n",
       "// Listen for the removal of the full notebook cells\n",
       "var notebookContainer = gd.closest('#notebook-container');\n",
       "if (notebookContainer) {{\n",
       "    x.observe(notebookContainer, {childList: true});\n",
       "}}\n",
       "\n",
       "// Listen for the clearing of the current output cell\n",
       "var outputEl = gd.closest('.output');\n",
       "if (outputEl) {{\n",
       "    x.observe(outputEl, {childList: true});\n",
       "}}\n",
       "\n",
       "                        })\n",
       "                };\n",
       "                });\n",
       "            </script>\n",
       "        </div>"
      ]
     },
     "metadata": {},
     "output_type": "display_data"
    }
   ],
   "source": [
    "pop_fig = px.scatter_geo(population_filtered,   \n",
    "                     locations=\"Country Code\", \n",
    "                     color='2018',\n",
    "                     hover_name=\"Country Name\", \n",
    "                     size='2018',\n",
    "                     projection=\"natural earth\",\n",
    "                     size_max=60,\n",
    "                     color_continuous_scale='RdBu_R')\n",
    "\n",
    "pop_fig.update_layout(\n",
    "        margin=dict(l=20, r=20, t=20, b=20))\n",
    "pop_fig.show()"
   ]
  },
  {
   "cell_type": "markdown",
   "metadata": {},
   "source": [
    "All Data sourced from John Hopkins University COVID-19 Github Repository - https://github.com/CSSEGISandData/COVID-19\n",
    "Global Population Data sourced from World Bank Group - https://data.worldbank.org/indicator/sp.pop.totl"
   ]
  }
 ],
 "metadata": {
  "file_extension": ".py",
  "kernelspec": {
   "display_name": "Python 3",
   "language": "python",
   "name": "python3"
  },
  "language_info": {
   "codemirror_mode": {
    "name": "ipython",
    "version": 3
   },
   "file_extension": ".py",
   "mimetype": "text/x-python",
   "name": "python",
   "nbconvert_exporter": "python",
   "pygments_lexer": "ipython3",
   "version": "3.7.4"
  },
  "mimetype": "text/x-python",
  "name": "python",
  "npconvert_exporter": "python",
  "pygments_lexer": "ipython3",
  "version": 3
 },
 "nbformat": 4,
 "nbformat_minor": 2
}
